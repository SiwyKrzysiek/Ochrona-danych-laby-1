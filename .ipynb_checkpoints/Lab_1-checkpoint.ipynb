{
 "cells": [
  {
   "cell_type": "markdown",
   "metadata": {},
   "source": [
    "# Kryptografia historyczna"
   ]
  },
  {
   "cell_type": "markdown",
   "metadata": {},
   "source": [
    "Wczytanie bibliotek"
   ]
  },
  {
   "cell_type": "code",
   "execution_count": 28,
   "metadata": {},
   "outputs": [],
   "source": [
    "import numpy as np\n",
    "import matplotlib.pyplot as plt\n",
    "from typing import Dict, List, Iterable\n",
    "from collections import Counter\n",
    "from itertools import *\n",
    "from collections import namedtuple\n",
    "from Crypto.Cipher import ARC4"
   ]
  },
  {
   "cell_type": "markdown",
   "metadata": {},
   "source": [
    "## Przydatne funkcje"
   ]
  },
  {
   "cell_type": "markdown",
   "metadata": {},
   "source": [
    "Strona o łamaniu kodów [link](https://inventwithpython.com/cracking/chapter19.html)."
   ]
  },
  {
   "cell_type": "markdown",
   "metadata": {},
   "source": [
    "Czytanie kolejnych lini ze standardowego wejścia"
   ]
  },
  {
   "cell_type": "code",
   "execution_count": 29,
   "metadata": {
    "scrolled": true
   },
   "outputs": [
    {
     "ename": "FileNotFoundError",
     "evalue": "[Errno 2] No such file or directory: '-f'",
     "output_type": "error",
     "traceback": [
      "\u001b[0;31m---------------------------------------------------------------------------\u001b[0m",
      "\u001b[0;31mFileNotFoundError\u001b[0m                         Traceback (most recent call last)",
      "\u001b[0;32m<ipython-input-29-beaec96bfe76>\u001b[0m in \u001b[0;36m<module>\u001b[0;34m\u001b[0m\n\u001b[1;32m      1\u001b[0m \u001b[0;32mimport\u001b[0m \u001b[0mfileinput\u001b[0m\u001b[0;34m\u001b[0m\u001b[0;34m\u001b[0m\u001b[0m\n\u001b[0;32m----> 2\u001b[0;31m \u001b[0;32mfor\u001b[0m \u001b[0mline\u001b[0m \u001b[0;32min\u001b[0m \u001b[0mfileinput\u001b[0m\u001b[0;34m.\u001b[0m\u001b[0minput\u001b[0m\u001b[0;34m(\u001b[0m\u001b[0;34m)\u001b[0m\u001b[0;34m:\u001b[0m\u001b[0;34m\u001b[0m\u001b[0;34m\u001b[0m\u001b[0m\n\u001b[0m\u001b[1;32m      3\u001b[0m     \u001b[0mprint\u001b[0m\u001b[0;34m(\u001b[0m\u001b[0mline\u001b[0m\u001b[0;34m)\u001b[0m\u001b[0;34m\u001b[0m\u001b[0;34m\u001b[0m\u001b[0m\n\u001b[1;32m      4\u001b[0m \u001b[0;34m\u001b[0m\u001b[0m\n\u001b[1;32m      5\u001b[0m \u001b[0;31m# Nie działa w Jupyter Notebook\u001b[0m\u001b[0;34m\u001b[0m\u001b[0;34m\u001b[0m\u001b[0;34m\u001b[0m\u001b[0m\n",
      "\u001b[0;32m/usr/local/anaconda3/lib/python3.7/fileinput.py\u001b[0m in \u001b[0;36m__next__\u001b[0;34m(self)\u001b[0m\n\u001b[1;32m    250\u001b[0m     \u001b[0;32mdef\u001b[0m \u001b[0m__next__\u001b[0m\u001b[0;34m(\u001b[0m\u001b[0mself\u001b[0m\u001b[0;34m)\u001b[0m\u001b[0;34m:\u001b[0m\u001b[0;34m\u001b[0m\u001b[0;34m\u001b[0m\u001b[0m\n\u001b[1;32m    251\u001b[0m         \u001b[0;32mwhile\u001b[0m \u001b[0;32mTrue\u001b[0m\u001b[0;34m:\u001b[0m\u001b[0;34m\u001b[0m\u001b[0;34m\u001b[0m\u001b[0m\n\u001b[0;32m--> 252\u001b[0;31m             \u001b[0mline\u001b[0m \u001b[0;34m=\u001b[0m \u001b[0mself\u001b[0m\u001b[0;34m.\u001b[0m\u001b[0m_readline\u001b[0m\u001b[0;34m(\u001b[0m\u001b[0;34m)\u001b[0m\u001b[0;34m\u001b[0m\u001b[0;34m\u001b[0m\u001b[0m\n\u001b[0m\u001b[1;32m    253\u001b[0m             \u001b[0;32mif\u001b[0m \u001b[0mline\u001b[0m\u001b[0;34m:\u001b[0m\u001b[0;34m\u001b[0m\u001b[0;34m\u001b[0m\u001b[0m\n\u001b[1;32m    254\u001b[0m                 \u001b[0mself\u001b[0m\u001b[0;34m.\u001b[0m\u001b[0m_filelineno\u001b[0m \u001b[0;34m+=\u001b[0m \u001b[0;36m1\u001b[0m\u001b[0;34m\u001b[0m\u001b[0;34m\u001b[0m\u001b[0m\n",
      "\u001b[0;32m/usr/local/anaconda3/lib/python3.7/fileinput.py\u001b[0m in \u001b[0;36m_readline\u001b[0;34m(self)\u001b[0m\n\u001b[1;32m    362\u001b[0m                     \u001b[0mself\u001b[0m\u001b[0;34m.\u001b[0m\u001b[0m_file\u001b[0m \u001b[0;34m=\u001b[0m \u001b[0mself\u001b[0m\u001b[0;34m.\u001b[0m\u001b[0m_openhook\u001b[0m\u001b[0;34m(\u001b[0m\u001b[0mself\u001b[0m\u001b[0;34m.\u001b[0m\u001b[0m_filename\u001b[0m\u001b[0;34m,\u001b[0m \u001b[0mself\u001b[0m\u001b[0;34m.\u001b[0m\u001b[0m_mode\u001b[0m\u001b[0;34m)\u001b[0m\u001b[0;34m\u001b[0m\u001b[0;34m\u001b[0m\u001b[0m\n\u001b[1;32m    363\u001b[0m                 \u001b[0;32melse\u001b[0m\u001b[0;34m:\u001b[0m\u001b[0;34m\u001b[0m\u001b[0;34m\u001b[0m\u001b[0m\n\u001b[0;32m--> 364\u001b[0;31m                     \u001b[0mself\u001b[0m\u001b[0;34m.\u001b[0m\u001b[0m_file\u001b[0m \u001b[0;34m=\u001b[0m \u001b[0mopen\u001b[0m\u001b[0;34m(\u001b[0m\u001b[0mself\u001b[0m\u001b[0;34m.\u001b[0m\u001b[0m_filename\u001b[0m\u001b[0;34m,\u001b[0m \u001b[0mself\u001b[0m\u001b[0;34m.\u001b[0m\u001b[0m_mode\u001b[0m\u001b[0;34m)\u001b[0m\u001b[0;34m\u001b[0m\u001b[0;34m\u001b[0m\u001b[0m\n\u001b[0m\u001b[1;32m    365\u001b[0m         \u001b[0mself\u001b[0m\u001b[0;34m.\u001b[0m\u001b[0m_readline\u001b[0m \u001b[0;34m=\u001b[0m \u001b[0mself\u001b[0m\u001b[0;34m.\u001b[0m\u001b[0m_file\u001b[0m\u001b[0;34m.\u001b[0m\u001b[0mreadline\u001b[0m  \u001b[0;31m# hide FileInput._readline\u001b[0m\u001b[0;34m\u001b[0m\u001b[0;34m\u001b[0m\u001b[0m\n\u001b[1;32m    366\u001b[0m         \u001b[0;32mreturn\u001b[0m \u001b[0mself\u001b[0m\u001b[0;34m.\u001b[0m\u001b[0m_readline\u001b[0m\u001b[0;34m(\u001b[0m\u001b[0;34m)\u001b[0m\u001b[0;34m\u001b[0m\u001b[0;34m\u001b[0m\u001b[0m\n",
      "\u001b[0;31mFileNotFoundError\u001b[0m: [Errno 2] No such file or directory: '-f'"
     ]
    }
   ],
   "source": [
    "import fileinput\n",
    "for line in fileinput.input():\n",
    "    print(line)\n",
    "    \n",
    "# Nie działa w Jupyter Notebook"
   ]
  },
  {
   "cell_type": "markdown",
   "metadata": {},
   "source": [
    "### Rot13\n",
    "Mapowanie liter szyfrem cezara o 13 pozycji."
   ]
  },
  {
   "cell_type": "code",
   "execution_count": 30,
   "metadata": {},
   "outputs": [
    {
     "name": "stdout",
     "output_type": "stream",
     "text": [
      "Tb mqnavr wrfg mnxbqbjnar.\n"
     ]
    }
   ],
   "source": [
    "# Utworzenie mapowania\n",
    "table = str.maketrans(\"abcdefghijklmnopqrstuvwxyz\", \"nopqrstuvwxyzabcdefghijklm\")\n",
    "\n",
    "sentance = 'To zdanie jest zakodowane.'\n",
    "\n",
    "kryptogram = str.translate(sentance, table)\n",
    "\n",
    "print(kryptogram)"
   ]
  },
  {
   "cell_type": "markdown",
   "metadata": {},
   "source": [
    "### Badanie częstotliwości\n",
    "Histogram częstotliowści liter"
   ]
  },
  {
   "cell_type": "code",
   "execution_count": 31,
   "metadata": {},
   "outputs": [],
   "source": [
    "def countLetters(string : str) -> Dict[str, int]:\n",
    "    # Fill dictionary\n",
    "    count = {chr(i) : 0 for i in range(ord('a'), ord('z')+1)}\n",
    "    for c in string.lower():\n",
    "        if c in count:\n",
    "            count[c] = count[c] + 1\n",
    "    \n",
    "    return count"
   ]
  },
  {
   "cell_type": "code",
   "execution_count": 32,
   "metadata": {},
   "outputs": [
    {
     "data": {
      "image/png": "[encoded data removed]",
      "text/plain": [
       "<Figure size 432x288 with 1 Axes>"
      ]
     },
     "metadata": {
      "needs_background": "light"
     },
     "output_type": "display_data"
    }
   ],
   "source": [
    "sentence = 'To zdanie jest zakodowane'\n",
    "\n",
    "frequency = countLetters(sentence)\n",
    "\n",
    "plt.bar(frequency.keys(), frequency.values())\n",
    "plt.show()"
   ]
  },
  {
   "cell_type": "markdown",
   "metadata": {},
   "source": [
    "To samo ale z wykorzystaniem klasy `Counter`."
   ]
  },
  {
   "cell_type": "code",
   "execution_count": 33,
   "metadata": {},
   "outputs": [
    {
     "data": {
      "text/plain": [
       "<BarContainer object of 26 artists>"
      ]
     },
     "execution_count": 33,
     "metadata": {},
     "output_type": "execute_result"
    },
    {
     "data": {
      "image/png": "[encoded data removed]",
      "text/plain": [
       "<Figure size 432x288 with 1 Axes>"
      ]
     },
     "metadata": {
      "needs_background": "light"
     },
     "output_type": "display_data"
    }
   ],
   "source": [
    "sentence = 'To zdanie jest zakodowane'\n",
    "\n",
    "frequency = Counter(sentence)\n",
    "letters = [chr(i) for i in range(ord('a'), ord('z')+1)]\n",
    "\n",
    "plt.bar(letters, [frequency[l] for l in letters])\n"
   ]
  },
  {
   "cell_type": "markdown",
   "metadata": {},
   "source": [
    "## Konwersja znaków na kody"
   ]
  },
  {
   "cell_type": "code",
   "execution_count": 34,
   "metadata": {},
   "outputs": [],
   "source": [
    "def strToCodes(string : str) -> Iterable[int]:\n",
    "    return (ord(c) for c in string)\n",
    "\n",
    "def codesToStr(codes : Iterable[int]) -> str:\n",
    "    return ''.join((chr(c) for c in codes))"
   ]
  },
  {
   "cell_type": "markdown",
   "metadata": {},
   "source": [
    "## Dystrybucja liter w korpusie języka polskiego"
   ]
  },
  {
   "cell_type": "code",
   "execution_count": 35,
   "metadata": {},
   "outputs": [
    {
     "data": {
      "text/plain": [
       "<BarContainer object of 35 artists>"
      ]
     },
     "execution_count": 35,
     "metadata": {},
     "output_type": "execute_result"
    },
    {
     "data": {
      "image/png": "[encoded data removed]",
      "text/plain": [
       "<Figure size 432x288 with 1 Axes>"
      ]
     },
     "metadata": {
      "needs_background": "light"
     },
     "output_type": "display_data"
    }
   ],
   "source": [
    "pl_distribution = {'a': 8.91, 'w': 4.65, 'p': 3.13, 'g': 1.42, 'ć': 0.40, 'i': 8.21, 's': 4.32, 'm': 2.80, 'ę': 1.11, 'f': 0.30, 'o': 7.75, 't': 3.98, 'u': 2.50, 'h': 1.08, 'ń': 0.20, 'e': 7.66, 'c': 3.96, 'j': 2.28, 'ą': 0.99, 'q': 0.14, 'z': 5.64, 'y': 3.76, 'l': 2.10, 'ó': 0.85, 'ź': 0.06, 'n': 5.52, 'k': 3.51, 'ł': 1.82, 'ż': 0.83, 'v': 0.04, 'r': 4.69, 'd': 3.25, 'b': 1.47, 'ś': 0.66, 'x': 0.02}\n",
    "\n",
    "# plt.bar(pl_distribution.keys(), pl_distribution.values())\n",
    "\n",
    "# Waro patrzeć na 5 najczęstrzych i 5 najrzadszych\n",
    "# plt.bar(['a', 'b'], [8., 5])\n",
    "\n",
    "orderded = sorted(pl_distribution.items(), key=lambda x: x[0])\n",
    "plt.bar(*zip(*orderded))\n",
    "\n"
   ]
  },
  {
   "cell_type": "markdown",
   "metadata": {},
   "source": [
    "## Zadania"
   ]
  },
  {
   "cell_type": "markdown",
   "metadata": {},
   "source": [
    "  \n",
    "  \n",
    "  \n",
    "  \n",
    "  \n",
    "  \n",
    "  \n",
    "  \n",
    "  \n",
    "  \n",
    "  \n",
    "  \n",
    "  \n",
    "  \n",
    "  \n",
    "  \n",
    "  \n",
    "  \n",
    "  \n",
    "  \n",
    "  \n",
    "  \n",
    "  \n",
    "  \n",
    "  \n",
    "  "
   ]
  },
  {
   "cell_type": "markdown",
   "metadata": {},
   "source": [
    "### Zadanie 1\n",
    "Napisz program szyfrujący algorytmem przesunięcia cyklicznego o wybraną liczbę. Jako alfabet proszę założyć dowolny znak, którego kod znajduje się w przedziale <0, 255>. Przydatne funkcje w Python to `chr(kod)` i `ord(znak)`."
   ]
  },
  {
   "cell_type": "code",
   "execution_count": 36,
   "metadata": {},
   "outputs": [
    {
     "name": "stdout",
     "output_type": "stream",
     "text": [
      "THE QUICK BROWN FOX JUMPS OVER THE LAZY DOG\n",
      "Ql\u001d",
      "wa^kfb\u001d",
      "gbpq\u001d",
      "w^hlalt^kb+\n",
      "To zdanie jest zakodowane.\n"
     ]
    }
   ],
   "source": [
    "def cyclicalMove(string : str, step : int) -> str:\n",
    "    limit = 256 # Exclusive maximal value\n",
    "    \n",
    "    codes = map(lambda c: (c + step) % limit, strToCodes(string))\n",
    "    return codesToStr(codes)\n",
    "    \n",
    "\n",
    "sentence = 'THE QUICK BROWN FOX JUMPS OVER THE LAZY DOG'\n",
    "print(sentence)\n",
    "\n",
    "step = -3\n",
    "cryptogram = cyclicalMove(sentance, step)\n",
    "print(cryptogram)\n",
    "\n",
    "restored = cyclicalMove(cryptogram, -step)\n",
    "print(restored)"
   ]
  },
  {
   "cell_type": "markdown",
   "metadata": {},
   "source": [
    "### Zadanie 2\n",
    "Napisz program szyfrujący algorytmem Vigenere. Założenia odnośnie do alfabetu jak w 1."
   ]
  },
  {
   "cell_type": "code",
   "execution_count": 37,
   "metadata": {},
   "outputs": [
    {
     "name": "stdout",
     "output_type": "stream",
     "text": [
      "TO JEST BARDZO TAJNY TEKST\n",
      "¨j§j¦",
      "¤e¨t¨\n",
      "TO JEST BARDZO TAJNY TEKST\n"
     ]
    }
   ],
   "source": [
    "def vigenereEncode(string : str, key : str) -> str:\n",
    "    limit = 256 # Exclusive maximal value\n",
    "    \n",
    "    key = cycle(strToCodes(key))\n",
    "    codes = strToCodes(string)\n",
    "\n",
    "    codes = map(lambda c: (c + next(key) % limit), codes)\n",
    "    return codesToStr(codes)\n",
    "\n",
    "def vigenereDecode(string : str, key : str) -> str:\n",
    "    limit = 256 # Exclusive maximal value\n",
    "    \n",
    "    key = cycle(strToCodes(key))\n",
    "    codes = strToCodes(string)\n",
    "\n",
    "    codes = map(lambda c: (c - next(key) % limit), codes)\n",
    "    return codesToStr(codes)\n",
    "    \n",
    "\n",
    "sentence = 'TO JEST BARDZO TAJNY TEKST'\n",
    "print(sentence)\n",
    "\n",
    "key = 'TAJNE'\n",
    "cryptogram = vigenereEncode(sentence, key)\n",
    "print(cryptogram)\n",
    "\n",
    "restored = vigenereDecode(cryptogram, key)\n",
    "print(restored)"
   ]
  },
  {
   "cell_type": "markdown",
   "metadata": {},
   "source": [
    "### Zadanie 3\n",
    "Za pomocą analizy statystycznej postaraj się odszyfrować tekst zaszyfrowany algorytmem przesunięcia cyklicznego o nieznanym kluczu."
   ]
  },
  {
   "cell_type": "code",
   "execution_count": 38,
   "metadata": {},
   "outputs": [
    {
     "name": "stdout",
     "output_type": "stream",
     "text": [
      "93\n",
      "ÞÞÞÞÞÞ\u0016e9e:e;e:eCeHe:eDe;\"e>e8e=e6e:eA\"eDeDeGe:e6eCe9ö\u0017eDeLeAe>eCe<e;eDeG\u0018eDeAeJeBe7e>eCe:öüe$eE\u0002\u001ae9ý\u0017eN\u001aeAeDeFeJe:eCe8e:e,e:e9\u0016eJe<\u0006\beIe=\u0001\u0007\u0005\u0005\be6eI\u0005\u000e\u000f\u0005\u0005\u000f\u0005\u000e\u0016\"\u001ae(e)ÞÞe)e=e>eHe>eHe6eCeDeEe:eCeAe:eIeIe:eGeIeD\u0019e6eKe>e9\u001d",
      "e6eGe9eN\u0001e6eJeIe=eDeGeDe;\u0017eDeLeAe>eCe<e;eDeG\u0018eDeAeJeBe7e>eCe:\u000f\u0019eDe8eJeBe:eCeIe6eGeNeDeG\u001be>e8eIe>eDeC\u0014\u0001eEeGeDe7e6e7eAeNeIe=e:eBeDeHeIe8eDeBeEeGe:e=e:eCeHe>eKe:e6eBeDeCe<eBe6eCeNeGe:e7eJeIeIe6eAeHeDe;eIe=e:e$eHe8e6eG\u0002eLe>eCeCe>eCe<e9eDe8eJeBe:eCeIe6eGeN\u0003\u0018eGe>eIe>e8eHe=e6eKe:eCeDeLe<eDeCe:eHeDe;e6eGe6eHeIeDe8e6eAeAe;eDeGeIe=e:eGe:eKeDe8e6eIe>eDeCeDe;eIe=e:e6eLe6eGe9\u0003e)e=e:e>eGe8e=e6eCe8e:eHe6eGe:eHeBe6eAeA\u0001e=eDeLe:eKe:eG\u0001e6eHeIe=e:e>eGe6eGe<eJeBe:eCeIeHeGe:eAeNeDeCeEeDeAe:eBe>e8\u0001e:eMe6e<e<e:eGe6eIe>eDeCe6eCe9eBe>eHeGe:eEeGe:eHe:eCeIe6eIe>eDeC\u0002\u0002e>eCeDeIe=e:eGeLeDeGe9eH\u0001eDeCeIe=e:eHe6eBe:eIe:e8e=eCe>eFeJe:eHeLe=e>e8e=eIe=e:eNe6e8e8eJeHe:\"eDeDeGe:eDe;eJeHe>eCe<\u0003Þ\u0019e:e6eG\u0019e6eKe>e9\u001d",
      "e6eGe9eN\u0001Þ\u001e",
      "eIe>eHe;e6eHe8e>eCe6eIe>eCe<eIeDeLe6eIe8e=eIe=e:eDeGe<e6eCe>eOe:e9e8e=e6eGe6e8eIe:eGe6eHeHe6eHeHe>eCe6eIe>eDeCeDe;\"e>e8e=e6e:eA\"eDeDeGe:eIe=e6eIe=e6eHe7e:e:eCe<eDe>eCe<eDeCe>eCeIe=e:e*eCe>eIe:e9e(eIe6eIe:eHeHe>eCe8e:eIe=e:eGe:eAe:e6eHe:eDe;e=e>eHeAe6eHeIe9eDe8eJeBe:eCeIe6eGeN\u0003\u001e",
      "eCe6eIe>eBe:eDe;eHe>eBeEeAe:\u0002eBe>eCe9e:e9eEe6eIeGe>eDeIe>eHeB\u0001eAeDeJe9\u0001e8eAe:e6eGe6eCe9e9e>eHeHe:eCeIe>eCe<eKeDe>e8e:eHeAe>e@e:\"eG\u0003\"eDeDeGe:ûeHe6eGe:eEe:eGe8e:e>eKe:e9e6eHe9e>eHeIeJeGe7e>eCe<e6eCe9e=e6eKe:eIeDe7e:eHe>eAe:eCe8e:e9\u0001eEe6eGeIe>e6eAeAeNeIe=eGeDeJe<e=eLe:eAeAe;eJeCe9e:e9eEeJe7eAe>e8eGe:eAe6eIe>eDeCeHe8e6eBeEe6e>e<eCeH\u0001eEe6eGeIe>e6eAeAeNeIe=eGeDeJe<e=e8eDeCeHe:eGeKe6eIe>eKe:öe<eGe6eHeH\u0002eGeDeDeIeHöeEeGeDeEe6e<e6eCe9e6\u0003e#eDeIeHeJeGeEeGe>eHe>eCe<eAeN\u0001eBeJe8e=eDe;eIe=e:e8eGe>eIe>e8e>eHeBeDe;\"eDeDeGe:ûeHe;e>eAeBe>eHeBe>eHe<eJe>e9e:e9eDeGeDeJeIeGe>e<e=eIeLeGeDeCe<\u0001eDe;eIe:eCeKe6eHeIeAeNeBeDeGe:e>eCe6e8e8eJeGe6eIe:eIe=e6eC\"eDeDeGe:ûeHeLeDeGe@e>eIeHe:eAe;\u0003ÞÞ\"eDeDeGe:eEeDeGeIeGe6eNeHeIe=e:e#e'\u0016e6eHe6eCeJeCe:eIe=e>e8e6eA\u0001e9e>eHe=eDeCe:eHeIeDeGe<e6eCe>eOe6eIe>eDeC\u0010e=e:eHe:e:eHeIe=e:eEe6eGe6eCeDe>e6e6eCe9e;e:e6eGe>eCeIe=e:e*eCe>eIe:e9e(eIe6eIe:eHe6eHe6eEeGe>eBe6eGeNe8e6eJeHe:eDe;eKe>eDeAe:eCe8e:\u0001e6eCe9e=e:e9eDe:eHeCeDeIeHe:e:e<eJeCeDeLeCe:eGeHe=e>eEe>eIeHe:eAe;e6eHe6eEeGeDe7eAe:eB\u0003\u001d",
      "e>eHe9eDe8eJeBe:eCeIe6eGeNe>eHe;eJeAeAeDe;eHeJe7eIeAe:e=eJeBeDeG\u0001e?e6eL\u0002e9eGeDeEeEe>eCe<e9e>e6eAeDe<eJe:e6eCe9e9e6eGe@e8eDeCeIeGe6eHeIeH\u0003\u0016eAeAe>eCe6eAeA\u0001e>eIe>eHe6eCe6e8e8eJeGe6eIe:eEeDeGeIeGe6eNe6eAeDe;\u0016eBe:eGe>e8e6ûeHe<eJeCe6eCe9eKe>eDeAe:eCe8e:e8eJeAeIeJeGe:\u0003\u001e",
      "eIe6eAeHeDeGe6e>eHe:eHeFeJe:eHeIe>eDeCeHe6e7eDeJeI\u0016eBe:eGe>e8e6ûeHe;eDeGe:e>e<eCeEeDeAe>e8eNeDe;eGe:e8e:eCeIe9e:e8e6e9e:eH\u0001eFeJe:eHeIe>eDeCeHeLe=e>e8e=e=e6eKe:e7e:e:eCe6eAeAe7eJeIe>e<eCeDeGe:e9e7eN\"eDeDeGe:ûeHe8eGe>eIe>e8eH\u0003Þe$eCeNeDeJeGeLe:e7eEe6e<e:\u0001eNeDeJeHeIe6eIe:eIe=e6eIö\"eDeDeGe:ûeHeGe:eHeDeAeJeIe>eDeCe>eHeFeJe:eHeIe>eDeCe6e7eAe:\u0003\u0016e;eIe:eGe6eAeA\u0001e:e6eGeAeNe>eCeIe=e:eBeDeKe>e:e=e:e9e>eHe8e6eGe9eHeIe=e:eEeDeHeHe>e7e>eAe>eIeNeIe=e6eIeEeAe6eNe>eCe<eKe>eDeAe:eCeIeKe>e9e:eDe<e6eBe:eHe6eCe9eLe6eIe8e=e>eCe<eKe>eDeAe:eCeIe;eAe>e8e@eHe8e6eCe8e6eJeHe:eKe>eDeAe:eCe8e:\u0002\u0002e7e:e8e6eJeHe:\u0018e6eCe6e9e>e6eCeHeAe>e@e:\u0001e6eCe9\u001fe6eEe6eCe:eHe:eEeDeHe>eIe>eKe:eAeNeAeDeKe:\u0001eIe=eDeHe:\u0003\u001e",
      "e;eKe>eDeAe:eCeIeBeDeKe>e:eHe6eCe9eKe>eDeAe:eCeIeKe>e9e:eDe<e6eBe:eHe8e6eCeCeDeIe8e6eJeHe:eKe>eDeAe:eCe8e:\u0002\u0002eIe=e:eCe=eDeLe8e6eCeCe:eLeHe8e6eHeIeHe6e7eDeJeIeKe>eDeAe:eCe8e:e9eDeHeD\u0014öÞe)e=e>eHe>eHe6e;e6eJeAeIeNe<e:eCe:eGe6eAe>eOe6eIe>eDeC\u0003\u001e",
      "e;\u0001e6eH\"eDeDeGe:e>eBeEeAe>e:eHüe6eAeIe=eDeJe<e=eCe:eKe:eGeHeIe6eIe:eHe6eHe;e6e8eIý\u0001eKe>e9e:eDe<e6eBe:eHe6eCe9eKe>eDeAe:eCeIeBeDeKe>e:eHe6eGe:eGe:eAe6eIe>eKe:eAeNe=e6eGeBeAe:eHeH\u0001e>eIe9eDe:eHeCeDeIeAeDe<e>e8e6eAeAeNe;eDeAeAeDeLeIe=e6eIe6eAeAeIeNeEe:eHeDe;eBe:e9e>e6eEeGe:eHe:eCeIe6eIe>eDeCe6eGe:e=e6eGeBeAe:eHeH\u0003e)e=e:eGe:e>eHe6e=eJe<e:e9e>e;e;e:eGe:eCe8e:\u0001e;eDeGe:eMe6eBeEeAe:\u0001e7e:eIeLe:e:eCeEeAe6eNe>eCe<e6e<e6eBe:eAe>e@e:öe&eJe6e@e:öe6eCe9eAe>eHeIe:eCe>eCe<eIeDe6eGe6e9e>eDe7eGeDe6e9e8e6eHeIeIe=e6eIeIe:eAeAeHeNeDeJeIe=e6eIeNeDeJeGe;e6eBe>eAeNeLe>eAeAe7e:e@e>eAeAe:e9eJeCeAe:eHeHeNeDeJeIe6e@e:e6e8eIe>eDeCeIeDe@e>eAeAeDeIe=e:eGeHeCeDeL\u0003e)e=e:eAe6eIeIe:eGe>eHeIe=e:e@e>eCe9eDe;eBe:e9e>e6eEeGeDeEe6e<e6eCe9e6eIe=e6eIeLe6eHeJeHe:e9eIeDeJeCeAe:e6eHe=e6e<e:eCeDe8e>e9e:e>eCe'eLe6eCe9e6e>eC\u0006\u000e\u000e\t\u0001eLe=e>e8e=e@e>eAeAe:e9\r",
      "\u0005\u0005\u0001\u0005\u0005\u0005eEe:eDeEeAe:\u0003e(e>eBe>eAe6eGeAeN\u0001eIe=e:eBe6e>eCeBeDeIe>eKe6eIe>eDeCe;eDeGeIe=e:e8eGeJeHe6e9e:eHüe7e:eNeDeCe9eIe=e:eEeGeDeBe>eHe:eDe;eLe:e6eAeIe=ýeLe6eHeIe=e6eI\u0018e=eGe>eHeIe>e6eCeHeLe:eGe:eHeJeEeEeDeHe:e9eAeNe7e:e>eCe<eHeAe6eJe<e=eIe:eGe:e9e6eCe9e=e6e9eIeDe7e:eHe6eKe:e9\u0003Þe$e7eKe>eDeJeHeAeN\u0001eBe:e9e>e6eEeGeDeEe6e<e6eCe9e6e8e6eCe>eCe8e>eIe:eEe:eDeEeAe:eIeDe@e>eAeA\u0003\u001e",
      "eCeIe:eGe6e8eIe>eKe:e;e>e8eIe>eDeCeAe>e@e:eKe>e9e:eDe<e6eBe:eH\u0001eDeCeIe=e:eDeIe=e:eGe=e6eCe9\u0001eEeGe:eHe:eCeIeHeKe>eDeAe:eCe8e:e>eCe6eCe6eGeGe6eIe>eKe:e8eDeCeIe:eMeI\u0001eLe=e>e8e=eBe6eNeKe:eGeNeLe:eAeAe9e:eHe:eCeHe>eIe>eOe:eEe6eGeIe>e8e>eEe6eCeIeHeIeDeHe6e>e9eKe>eDeAe:eCe8e:\u0001e7eJeIeCeDe8e6eJeHe6eIe>eKe:eAe>eCe@e=e6eHe:eKe:eGe7e:e:eCeEeGeDeKe:eC\u0003\"eDeDeGe:ûeHe=eNeEeDeIe=e:eHe>eHüeLe=e>e8e=e6eEeEe6eGe:eCeIeAeNe8eDeBe:eHe6eIeAe:e6eHeIe>eCeEe6eGeIe;eGeDeBeIe=e:e7eDeDe@ö\u0018eJeAeIeJeGe:eDe;\u001be:e6eGöe7eN\u0017e6eGeGeN\u001c",
      "eAe6eHeHeCe:eG\u0001e6eAeHeDe6e9eKe:eGeIe>eHe:e9eDeC\"eDeDeGe:ûeHeLe:e7eHe>eIe:ýe>eHeIe=e6eIeIe=e:e8eDeCeHeIe6eCeIe7eDeBe7e6eGe9eBe:eCeIeLe>eIe=eBe:eHeHe6e<e:eHeDe;e;e:e6eGe8e6eCe>eCe8e>eIe:eEe6eGe6eCeDe>e6\u0001eLe=e>e8e=e>eIeHe:eAe;e8e6eCeAe:e6e9eIeDeKe>eDeAe:eCeIe6e8eIeH\u0003e)e=e>eHe>eHe8eDeCeHe>eHeIe:eCeIeLe>eIe=eIe=e:e@e>eCe9eDe;eBe:e9e>e6\u0002e>eCe8e>eIe:e9eKe>eDeAe:eCe8e:e9e:eHe8eGe>e7e:e9e6e7eDeKe:\u0001e6eCe9e>eCeCeDeGe:eAe6eIe>eDeCeHe=e>eEeLe=e6eIeHeDe:eKe:eGeIeDeIe=e:eIe=e:eDeGeNeDe;eKe>e9e:eDe<e6eBe:eDeGeBeJeHe>e8e>eCe8e>eIe:e9eKe>eDeAe:eCe8e:\u0003\u001e",
      "eIe>eHeCeDeHeJeGeEeGe>eHe:\u0001e=eDeLe:eKe:eG\u0001eIe=e6eIe*e(üe6eCe9\u001aeJeGeDeEe:e6eCýeBe:e9e>e6e9eDeCeDeIeFeJe:eHeIe>eDeCeIe=e:e>eGeDeLeCeEeGeDeEe6e<e6eCe9e6eDe;e;e:e6eG\u0003Þ\"eDeDeGe:ûeHeHe:e8eDeCe9e=eNeEeDeIe=e:eHe>eHe>eHeIe=e6eI\u0016eBe:eGe>e8e6ûeHe;eDeGe:e>e<eCeEeDeAe>e8eNeBe6eNe8eDeCeIeGe>e7eJeIe:eIeDeIe=e:e7e:eAe>e:e;eIe=e6eIeKe>eDeAe:eCe8e:e>eHe6eCe6eEeEeGeDeEeGe>e6eIe:eBe:e6eCeHeIeDeHeDeAeKe:e8eDeCe;eAe>e8eIeH\u0001e6e=eNeEeDeIe=e:eHe>eHeLe=e>e8e=e>eHeHe=e6eGe:e9e7eNeBe6eCeNeHeDe8e>eDeAeDe<e>eHeIeHe6eCe9eEeHeNe8e=eDeAeDe<e>eHeIeH\u0003\u0018e=e>eAe9eGe:eCeLe=eDe<eGeDeLeJeEe>eCeLe6eG\u0002eIeDeGeCeGe:e<e>eDeCeHe6eGe:e@eCeDeLeCe;eDeGe=e6eKe>eCe<eHe>eBe>eAe6eGeKe>e:eLeH\u0002\u0002eLe6eGe>eHeEe:eGe8e:e>eKe:e9e6eHe6eCeDeGeBe6eAeEe6eGeIeDe;e:eMe>eHeIe:eCe8e:\u0001eKe>eDeAe:eCe8e:e6eHe6eCe6eIeJeGe6eAeLe6eNeIeDeHeDeAeKe:e9e>eHeEeJeIe:eH\u0003\u001e",
      "eCe6eLe:e6e@e:eGeHe:eCeHe:\u0001eIe=e:eHe6eBe:eBe:eHeHe6e<e:e>eHeEeGeDe?e:e8eIe:e9eIeD\u0016eBe:eGe>e8e6eCe8e=e>eAe9eGe:eC\u0001eLe=eDe<eGeDeLeJeEe7e:e>eCe<eIeDeAe9eIe=e6eIe>eIe>eHeCeDeIe6e8e8e:eEeIe6e7eAe:eIeDe7e:eKe>eDeAe:eCeIeIeDeDeCe:e6eCeDeIe=e:eG\u0001e7eJeIeLe=eDeHe>eBeJeAeIe6eCe:eDeJeHeAeNe=e6eKe:eIeDe:eCe9eJeGe:e8eDeGeEeDeGe6eAeEeJeCe>eHe=eBe:eCeIe6eCe9eBe:e9e>e6eBe:eHeHe6e<e:eHe6e7eDeJeIe=eDeLöeIe=e:e:eCe:eBe>e:eHeDe;e;eGe:e:e9eDeBöe6eGe:eEeJeCe>eHe=e:e9\u0003\"eDeDeGe:ûeHe;e>eAeBeLe6eHeBe6e9e:e7e:e;eDeGe:eIe=e:e9e:e6e9e7eDe9e>e:eHeDe;e&eJeHe6eNe6eCe9e*e9e6eN\u001d",
      "eJeHeHe:e>eCeLe:eGe:eEe6eGe6e9e:e9eDeCeCe6eIe>eDeCe6eAe)e+\u0003\u0016eBe:eGe>e8e6eCeHeLe:eGe:e<eAeDe6eIe>eCe<eDeKe:eGeIe=e>eHe9e:eBe:eCeIe:e9e8eDeGeEeHe:eHe=eDeL\u000fÞöe)e=e:eNeHeFeJe:e6eAe:e9eAe>e@e:eAe>eIeIeAe:eEe>e<e<e>e:eHeIeDeD\u0001eHeDeNeDeJûeAeAe=e6eKe:eIeDeBe6e@e:e9eDeLe>eIe=ûeDe>eCe@\u0001eDe>eCe@\u0001eHeFeJe:e:e:e:e:e:e:e6eAeAeAeAûe;eDeGeIe=e:e>eGeAe6eHeIeLeDeGe9eH\u0003e)e=e6eIe<eDe:eHe;eDeGeNeDeJeGe<eGe6eCe9eHeDeC\"eJeHeIe6e;e6eIeDeD\u0001e7eNeIe=e:eLe6eN\u0003e(eIe>eAeAeIe=e>eCe@e;eJe8e@e>eCe<eLe>eIe=eIe=e:e*\u0003e(\u0003eLe6eHe6e<eDeDe9e>e9e:e6\u0001e(e6eBeBeN\u0014öÞ\"eJeHeIe6e;e6eLe6eH\u0006\teNe:e6eGeHeLe=e:eCe=e:eLe6eHe@e>eAeAe:e9\u0003\u0016eBe:eGe>e8e6eCeHe8e=e:e:eGeIe=e:e@e>eAeAe>eCe<eDe;e8e=e>eAe9eGe:eC\u0001eNe:eIeLeDeCe9e:eGeLe=eNeIe=e:e>eGeDeLeCe8e=e>eAe9eGe:eCe<eGeDeLeJeEeIeDe7e:eBeDeGe:eKe>eDeAe:eCeIeIe=e6eCeIe=eDeHe:e>eCeDeIe=e:eGeCe6eIe>eDeCeH\u0003\u001e",
      "eIe>eHeEe6eGe6e9eDeMe>e8e6eAeCeDeIe>eDeCeHeAe>e@e:eIe=e>eHeDeCe:eLe=e>e8e=\"eDeDeGe:ûeHe;e>eAeBeHe:e:e@eHeIeDe6e9e9eGe:eHeH\u0003Þ\u001e",
      "eCe6e8e8eJeGe6e8e>e:eHÞe.eDeJeGeLe:e7eEe6e<e:eAe>eHeIe6eCeJeBe7e:eGeDe;e6eAeAe:e<e:e9e>eCe6e8e8eJeGe6e8e>e:eHe>eC\"eDeDeGe:ûeHeBeDeKe>e:eH\u0003\u001e",
      "eIe>eHeIeGeJe:eIe=e6eI\"eDeDeGe:ûeHe;e>eAeBe>eHeHeDeBe:eIe>eBe:eHeJeCe>eCeIe:eCeIe>eDeCe6eAeAeNe9e:e8e:eEeIe>eKe:\u0001e7eJeIeIeDe8e6eAeAe>eIe;eGe6eJe9eJeAe:eCeIe>eHe=eNeEe:eGe7eDeAe:eIeDeIe=e:e:eMeIeGe:eBe:\u0003\u001e",
      "eIe>eHeCeDeBeDeGe:eHeDeIe=e6eCe6eCeNeDeIe=e:eGeHeJe8e8e:eHeHe;eJeAe9eDe8eJeBe:eCeIe6eGeNeDe;eIe=e:eAe6eHeIe9e:e8e6e9e:eH\u0003!e:eIûeHeAeDeDe@e6eIeHeDeBe:eHeEe:e8e>e;e>e8e8eGe>eIe>e8e>eHeBeH\u000fÞ\u0006ýe)e=e:e7e6eCe@eHe8e:eCe:\u0001eAe>eHeIe:e9eDeCeNeDeJeGeLe:e7eHe>eIe:eDeCe6eHe:eEe6eGe6eIe:eEe6e<e:\u0003\u0018eGe>eIe>e8eHe=e6eKe:eHeIe6eIe:e9eIe=e6eIeIe=e>eHeHe8e:eCe:eLe6eHöeHeIe6e<e:e9ö\u0001e7eJeIe>eCeIe=e:e7e6eCe@e>eCeIe:eGeKe>e:eL\u0001eIe=e:eDe;e;e>e8e>e6eAeIe:eAeAeH\"eDeDeGe:eIe=e6eIeIe=e:e7e6eCe@e=e6eHe>eIeHeDeLeCeKe6eJeAeIeHeIeDeGe>eCe<e6e7eDeJeI\n",
      "\u0005\u0005eLe:e6eEeDeCeHe6eIe6eCeNe<e>eKe:eCeIe>eBe:\u0003\u001e",
      "eIe>eHe6eAeHeDe6eAe>e8e:eCeHe:e9e;e>eGe:e6eGeBeHe9e:e6eAe:eGeLe=e>e8e=e8e6eCeEe:eGe;eDeGeBe>eIeHeDeLeCe7e6e8e@e<eGeDeJeCe9e8e=e:e8e@eH\u0003\u001e",
      "eCe6eCe>eCeIe:eGeKe>e:eLeLe>eIe=eIe=e:e,e6eAeAe(eIeGe:e:eI\u001feDeJeGeCe6eA\u0001eAe>eCe@e:e9e;eGeDeBeNeDeJeGeHe>eIe:\u0001e6eCe:eBeEeAeDeNe:e:e8eAe6e>eBeHeIe=e6eIeIe=e:e<eJeCeLeDeJeAe9e=e6eKe:e7e:e:eCöeCeDeGeBe6eAeAeNöeEe>e8e@e:e9eJeEe6eIe6eCeDeIe=e:eGe9e:e6eAe:eG\u0003\u001e",
      "eIe>eHeCeDeIe:eMeEeAe6e>eCe:e9eLe=e6eIöeCeDeGeBe6eAeAeNöe>eHeHeJeEeEeDeHe:e9eIeDeBe:e6eC\u0001e7eJeIeIe=e6eIe8eAe6e>eBe;eAe6eIeAeNe8eDeCeIeGe6e9e>e8eIeHeIe=e:eHeIe6eIe:eBe:eCeIeDe;eIe=e:e7e6eCe@eDe;e;e>e8e>e6eAe>eCeIe=e:e;e>eAeB\u0003e)e=e>eHeHeDeJeCe9eHeBeDeGe:eAe>e@e:e6eAe6eIe:eGe8eDeGeGe:e8eIe>eDeCe;eDeGeEeJe7eAe>e8eGe:eAe6eIe>eDeCeHeEeJeGeEeDeHe:eH\u0001e7eJeIeDe;e8eDeJeGeHe:eCeDe7eDe9eNeFeJe:eHeIe>eDeCeHeIe=e:e7e6eCe@e8eAe6e>eBeHeLe=e:eCeIe=e:eNe8e6eCe7e:eJeHe:e9e6e<e6e>eCeHeI\"eDeDeGe:\u0003Þe)e=e:eDeCeAeNeIe=e>eCe<eIe=e6eI\"eDeDeGe:e8eDeBeEeGe:eHeHe:e9e>eHeIe=e:eIe>eBe:e;eGe6eBe:\u0003\u0016e8e8eDeGe9e>eCe<eIeDeIe=e:eHe6eBe:e,e(\u001fe>eCeIe:eGeKe>e:eL\u0001öe)eNeEe>e8e6eAeAeN\u0001eNeDeJûeGe:eAeDeDe@e>eCe<e6eIe6eLe:e:e@eIeD\u0006\u0005e9e6eNeHeLe6e>eIe>eCe<eEe:eGe>eDe9\u0003öe)e=e>eHe>eHeEeAe6eJeHe>e7eAe:\u0002\u0002e7eJeIe:eCeIe>eGe:eAeNe>eGeGe:eAe:eKe6eCeIe;eDeGeIe=e:eBeDeKe>e:\u0001eLe=e>e8e=e6eAeGe:e6e9eNeBe6e@e:eHe>eIeFeJe>eIe:e8eAe:e6eGeIe=e6eIe6e7e6e8e@e<eGeDeJeCe9e8e=e:e8e@e>eHe7e:e>eCe<eEe:eGe;eDeGeBe:e9\u0003\"eDeDeGe:ûeHe9e:eIeGe6e8eIeDeGeHe=e6eKe:eHeDeBe:eIe>eBe:eHe:eMeIe:eCe9e:e9eIe=eDeHe:\f",
      "\u0002\u0006\u0005e9e6eNeHeIeDeHe:eKe:eGe6eAeLe:e:e@eH\u0001e8eDeCeIeGe6e9e>e8eIe>eCe<eIe=e:e7e6eCe@ûeHeDeLeCe:eHeIe>eBe6eIe:\u0003Þe)e=e:eGe:e>eHeCeDeIe=e>eCe<e>eCe6e8e8eJeGe6eIe:eLe=e6eIeHeDe:eKe:eGe6e7eDeJeIeIe=e:e7e6eCe@eHe8e:eCe:\u0003e)e=e:e7e6eCe@e9eDe:eHe:eMe6e8eIeAeNeLe=e6eIe>eIe6e9eKe:eGeIe>eHe:eH\u000f\u001e",
      "eIe=e6eCe9eHeDeJeIe<eJeCeHe;eGeDeBe>eIeHeKe6eJeAeIeIeDeIe=eDeHe:eLe=eDeDeEe:eCe6eCe6e8e8eDeJeCeI\u0003e)e=e:eHe>eAeAeNe8eGe>eIe>e8e>eHeBeHeDe;eIe=e:eHe8e:eCe:eDe7eHe8eJeGe:eIe=e:eGe:e6eAeDe7eHe8e:eCe>eIeNeDe;eIe=e:eHe>eIeJe6eIe>eDeC\u000fe6e7e6eCe@e=e6eCe9e>eCe<eDeJeIe<eJeCeHeIeDe>eIeHe8eJeHeIeDeBe:eGeH\u0001e=e>e<eAe>e<e=eIe>eCe<eIe=e:eJeIeIe:eGeAe6eMeCe:eHeHeDe;e=eDeL\u0016eBe:eGe>e8e6eCeHe9e:e6eAeLe>eIe=e9e:e6e9eAeNeLe:e6eEeDeCeHe6eCe9e6eAeDeKe:eDe;e;e>eGe:e6eGeBeHeIe=e6eIe7eDeGe9e:eGeHeDeCeIe=e:eGe:eAe>e<e>eDeJeH\u0003Þ\u0007ýe)e=e:!eDe8e@e=e:e:e9\u0002\"e6eGeIe>eCe>eCeIe:eGeKe>e:eL\u0003e)e=e>eHe>eHeEe:eGe=e6eEeHeIe=e:e8eGe>eIe>e8e>eHeBeGe:eEe:e6eIe:e9eIe=e:eBeDeHeIeDe;eIe:eC\u0001e6eCe9e>eIe6eAeHeDeIe=e:eBeDeHeIe>eCe6e8e8eJeGe6eIe:\u0003\u001be>eGeHeI\u0001eIe=e:e6e8eIeJe6eAeFeJeDeIe:eHe;eGeDeBeIe=e:e;e>eAeBe6eGe:eDe;eIe:eCeGe:eEeGeDe9eJe8e:e9e>eCe8eDeGeGe:e8eIeAeN\u0003e)e=e:e9e>e6eAeDe<eJe:e<eDe:eHe6eHe;eDeAeAeDeLeH\u000fÞ\"eDeDeGe:\u000föe(eDeNeDeJe9eDeCûeIeIe=e>eCe@eDeJeGe@e>e9eHeHe6eNeIeDeIe=e:eBeHe:eAeKe:eH\u0001e<e:e:\u0001e9e6e9e<eDe:eHeDe;e;eIeDeIe=e:e;e6e8eIeDeGeNe:eKe:eGeNe9e6eN\u0002e=e:e7eJe>eAe9eHeBe>eHeHe>eAe:eH\u0003e)e=e:eHe:e6eGe:eLe:e6eEeDeCeHeDe;eBe6eHeHe9e:eHeIeGeJe8eIe>eDeC\u0003e,e=e6eIûeHeIe=e:e9e>e;e;e:eGe:eCe8e:e7e:eIeLe:e:eCeIe=e6eIeBe6eHeHe9e:eHeIeGeJe8eIe>eDeCe6eCe9eIe=e:eBe6eHeHe9e:eHeIeGeJe8eIe>eDeCeDeKe:eGe6eI\u0018eDeAeJeBe7e>eCe:\u001d",
      "e>e<e=e(e8e=eDeDeA\u0014öÞ\"e8\u0018eDeAeAeJeBüe%e'eEe:eGeHeDeCý\u000fö\u001e",
      "e<eJe:eHeH\u001e",
      "e9eDeCûeIeHe:e:eIe=e6eIeHeEe:e8e>e;e>e8e8eDeCeCe:e8eIe>eDeCe7e:e8e6eJeHe:eIe=e:eBe>eHeHe>eAe:eHeIe=e6eIeNeDeJûeGe:eIe6eAe@e>eCe<e6e7eDeJeIeLe:eGe:e7eJe>eAeIe6eCe9e9e:eHe>e<eCe:e9eIeDe9e:e;e:eCe9eJeHe;eGeDeBeHeDeBe:e7eDe9eNe:eAeHe:eLe=eDeLeDeJeAe9e7e:e6e<e<eGe:eHeHeDeGeHe6e<e6e>eCeHeIeJeH\u0003öÞ\u001be>eGeHeI\u0001eCeDeIe:eIe=e:eLeDeGe9öeDeJeGöe>eC\"eDeDeGe:ûeHeFeJe:eHeIe>eDeC\u0003\"eDeDeGe:e>eHeCeDeIe;eGeDeB\u0018eDeAeDeGe6e9eD\u0002\u0002e=e>eHeFeJe:eHeIe>eDeCe>eHe<e:eCe:eGe>e8\u0001eCeDeIeBe:e6eCeIeIeDeGe:e;e:eGeHeEe:e8e>e;e>e8e6eAeAeNeIeDeIe=e:!eDe8e@e=e:e:e9\"e6eGeIe>eCeEeAe6eCeIe>eCeFeJe:eHeIe>eDeC\u0003\"e8\u0018eDeAeAeJeBeJeCe9e:eGeHeIe6eCe9eHe>eIeIe=e>eHeLe6eN\u0002\u0002eDeIe=e:eGeLe>eHe:e=e:eLeDeJeAe9eEeGeDeIe:eHeIe6e<e6e>eCeHeIeIe=e:eEeAe6eCeIe7e:e>eCe<eBe>eHe8e=e6eGe6e8eIe:eGe>eOe:e9\u0003\u001d",
      "eDeLe:eKe:eG\u0001e8eGe>eIe>e8eHeDe;\"eDeDeGe:e=e6eKe:e8eAe:eKe:eGeAeNe>e<eCeDeGe:e9\"e8\u0018eDeAeAeJeBûeHeGe:eHeEeDeCeHe:e6eCe9eEeGe:eHe:eCeIe:e9\"eDeDeGe:e6eHeHeEeGe:e6e9e>eCe<eAe>e:eHe6e7eDeJeIeIe=e:!eDe8e@e=e:e:e9eEeAe6eCeI\u0003Þ\u001aeKe:eC!eDe8e@e=e:e:e9e9e>e9eCeDeIe7e:eAe>e:eKe:eIe=e:eEeJe7eAe>e8eIeDe7e:eIe=e6eIe<eJeAeAe>e7eAe:\u0003\u001e",
      "eCeGe:eHeEeDeCeHe:eIeDeDeCe:\"eDeDeGe:e9e:eIeGe6e8eIeDeG\u0001\"e8\u0018eDeAeAeJeBeLeGeDeIe:\u000fö\u0016eAeIe=eDeJe<e=eDeIe=e:eGeJeCe>eIeHeDe;!eDe8e@e=e:e:e9\"e6eGeIe>eC\u0018eDeGeEeDeGe6eIe>eDeCe:eAeHe:eLe=e:eGe:e>eCeIe=e:e8eDeJeCeIeGeNeEeGeDe9eJe8e:eLe:e6eEeDeCeHeIeDeHeJeEeEeDeGeIeIe=e:e9e:e;e:eCeHe:eDe;eIe=e:e*\u0003e(\u0003\u0001eLe:eBe6e@e:eCeDeLe:e6eEeDeCeHe6eIeIe=e:!e>eIeIeAe:eIeDeC\u0002e6eGe:e6e;e6e8e>eAe>eIeN\"eDeDeGe:eKe>eHe>eIe:e9\u0003öe$e;e8eDeJeGeHe:\u0001e8eGe>eIe>e8eHe=e6eKe:e8eDeCeKe:eCe>e:eCeIeAeNe>e<eCeDeGe:e9eIe=e:e;e6e8eIeIe=e6eI!eDe8e@e=e:e:e9\"e6eGeIe>eCe9eDe:eHeHeJeEeEeAeNeLe:e6eEeDeCeHeDe;eBe6eHeHe9e:eHeIeGeJe8eIe>eDeCeIeDeIe=e:e*e(eBe>eAe>eIe6eGeN\u0001e6eCe9eIe=e6eIeIe=e:e8eDeBeEe6eCeNe>eHeIe=e:eCe6eIe>eDeCûeHeAe6eGe<e:eHeIeBe>eAe>eIe6eGeNe8eDeCeIeGe6e8eIeDeG\u0003\u0016eH\"eDeDeGe:e8eDeGeGe:e8eIeAeNeEeDe>eCeIeHeDeJeI\u0001e>eIe>eHe7e>eOe6eGeGe:e;eDeGe6eHeDe8e>e:eIeNeIeDeDeEe:eCeAeNe:eBe7eGe6e8e:eIe=e:eEeGeDe9eJe8eIe>eDeCeDe;e9e:eHeIeGeJe8eIe>eKe:eLe:e6eEeDeCeH\u0001e7eJeIeDeCeIe=e:eDeIe=e:eGe=e6eCe9eHe:e:eCeDe8eDeCeCe:e8eIe>eDeCeDe;eIe=e>eHeIeDe:eKe:eGeNe9e6eNeKe>eDeAe:eCe8e:\u0002\u0002e8e=e>eAe9eGe:eCeAe:e6eGeCe7eNe>eBe>eIe6eIe>eCe<e6e9eJeAeIeH\u0003Þe.e:eH\u0001\"eDeDeGe:eBe6e@e:eHeIe=e>eHeEeDe>eCeIeIe=eGeDeJe<e=eHeAe>e<e=eIe:eMe6e<e<e:eGe6eIe>eDeCe7eNeBeDeKe>eCe<eLe>eIe=eIe=e:e8e6eBe:eGe6eIe=eGeDeJe<e=eIe=e:!\"eEeAe6eCeI\u0002\u0002e7eJeIe=e:eBe6e@e:eHeCeDe>eCe8eDeGeGe:e8eIeHeIe6eIe:eBe:eCeI\u0003\u001e",
      "eIe>eHeIeNeEe>e8e6eAe;eDeGe=e>eHe8eGe>eIe>e8eHeIeDe?eJeBeEeDeCeLe=e6eIe>eHe6eIeBeDeHeIe6eHeAe>e<e=eIeAeNeBe>eHeAe:e6e9e>eCe<e>eBeEeAe>e8e6eIe>eDeC\u0001e7eJeIe>eCe9eDe>eCe<eHeD\u0001eIe=e:eNeIe=e:eBeHe:eAeKe:eHe=e6eKe:\u0001eJeCeAe>e@e:\"eDeDeGe:\u0001eBe6e9e:eBe6eCeNe>eCe8eDeGeGe:e8eIe8eAe6e>eBeH\u0003Þ\bý\u0019e:eCeKe:eGe#e'\u0016eBe:e:eIe>eCe<\u0003\u0018eGe>eIe>e8eHeAe>e@e:eNeDeJeGeHe:eAe;e8eAe6e>eBeIe=e6eI\"eDeDeGe:e=e6eHeBe6eHeHe>eKe:eAeNe9e>eHeIeDeGeIe:e9e:eKe>e9e:eCe8e:eIeDeHeJeEeEeDeGeIe=e>eHeEeDe>eCeIeIe=e6eI\u0018e=e6eGeAeIeDeC\u001d",
      "e:eHeIeDeCe=e6eHe:e;e;e:e8eIe>eKe:eAeNe>eCeHeJeAeIe:e9eIe=e:eKe>e8eIe>eBeHeDe;eIe=e:\u0018eDeAeJeBe7e>eCe:eIeGe6e<e:e9eNe7eNe=eDeAe9e>eCe<e6eGe6eAeAeNe>eC\u0019e:eCeKe:eGeHe=eDeGeIeAeNe6e;eIe:eGeLe6eGe9eH\u0003Þ\u001be>eGeHeI\u0001eIe=e:öe;eGeDeBeBeNe8eDeAe9\u0001e9e:e6e9e=e6eCe9eHöeEe6eGeI\u000fe)e=e>eHe>eHeJeHe:e9e7eN\"eDeDeGe:e6eHe6eKe>eHeJe6eAe8e>eIe6eIe>eDeCeIeDe>eCeIeGeDe9eJe8e:\u001d",
      "e:eHeIeDeC\u0003\u001e",
      "eIe>eHeEe:eGe=e6eEeHeDeCe:eDe;e=e>eHeBeDeHeIe;e6eBeDeJeHeFeJeDeIe:eH\u0001eHe=eDeLeCeDeCeCe6eIe>eDeCe6eAe)e+e:eKe:eCe=e:eGe:e>eC\u001c",
      "e:eGeBe6eCeN\u0003\u001e",
      "eIeIe:eAeAeHeKe>e:eLe:eGeH\u000f\u0016e=e6\u0001eIe=e>eHe>eHeIe=e:eEe:eGeHeDeCeLe:e6eGe:eIe6eAe@e>eCe<e6e7eDeJeI\u0003e#eDeLe=e:eGe:e9eDe:eH\"eDeDeGe:eHe6eNeDeGe>eBeEeAeNeIe=e6eIeIe=e:eHe:eLeDeGe9eHeLe:eGe:eJeIeIe:eGe:e9e6eIeIe=e:eGe6eAeAeNe>eC\u0019e:eCeKe:eG\u0001e6eCe9e>eCe;e6e8eI\u0001eIe=e:e>eGeGe:eEeIe>eIe>eDeCeAe6eIe:eGe>eCeIe=e:eBeDeKe>e:e6eIe6eCeDeIe=e:eGeDe8e8e6eHe>eDeCüeDe9e9eAeNe8eAe6e>eBe:e9e7eNe8eGe>eIe>e8eHeIeDe7e:e6e<e6e>eCöeBe>eHe6eIeIeGe>e7eJeIe:e9öýe>eHeHe>eBeEeAeNe6eGe:eBe>eCe9e:eGeDe;eIe=e>eH\u0003\u001e",
      "eIe>eH\"eDeDeGe:ûeHeLe6eNeIeDeHe6eN\u000fe+e>e:eLe:eGeH\u0001eBe:e:eI\u0018e=e6eGeAeIeDeC\u001d",
      "e:eHeIeDeC\u0001e<eJeCeCeJeIe:eMeIeGe6eDeGe9e>eCe6e>eGe:\u0003Þe)e=e:öeKe>eHeJe6eAeDe;e6e7e>eAeAe7eDe6eGe9e6eCe9e6eCe6eGeGe6eIe>eDeCöe>eHeKe>e:eLe:e9e7eNeNeDeJe6eHe:eKe>e9e:eCe8e:eIe=e6eI\"eDeDeGe:e>eHeIeGeNe>eCe<eIeDeHeDeBe:e=eDeLeIe>e:eIe=e:eIeLeDe:eKe:eCeIeHeIeDe<e:eIe=e:eG\u0001eLe=e:eCe>eCeGe:e6eAe>eIeN\u0001e>eIe>eHeFeJe>eIe:eDe7eKe>eDeJeHeIe=e6eIe=e:e9eDe:eHe>eIeIeDeHe:eEe6eGe6eIe:eIe=e:e>eCeIeGeDe9eJe8eIe>eDeCeDe;\u001d",
      "e:eHeIeDeCe;eGeDeBe=e>eHeHeEe:e:e8e=e>eC\u0019e:eCeKe:eG\u0003\"eDeDeGe:e>eHe6eEeGeDe;e:eHeHe>eDeCe6eAe;e>eAeBeBe6e@e:eG\u0002\u0002e=e:e8eDeCe8e:eCeIeGe6eIe:eHeDeCeBe6eMe>eBeJeBe>eBeEe6e8eIeDe;e:e6e8e=eDe;eIe=e:eHeIe6eIe:eBe:eCeIeHe=e:e8e>eIe:eH\u0001e6eCe9eIeDe6e8e8eDeBeEeAe>eHe=eIe=e6eIe:e;e;e:e8eI\u0001eJeHe:eHeHeJe7eIeAe:e>eCeIe:eGeAeJe9e:eHe>eCeHeIe:e6e9eDe;eAeDeCe<\u0002eLe>eCe9e:e9e>eCeIeGeDe9eJe8eIe>eDeCeH\u0003e)e=e>eHe>eHe6e8eDeBeBeDeCeIe:e8e=eCe>eFeJe:\u0001e7eJeIe7e:e8e6eJeHe:e8eDeCeHe:eGeKe6eIe>eKe:eGe:e6e9e:eGeHe6eGe:eCeDeIe;e6eBe>eAe>e6eGeLe>eIe=eIe=e:e7e6eHe>e8eHeDe;e;e>eAeBeBe6e@e>eCe<\u0001eIe=e:eNe7e:eAe>e:eKe:e8eGe>eIe>e8eHeLe=eDe8eAe6e>eBeIe=e6eIe=e:e>eHöe9e>eHeIeDeGeIe>eCe<öeIe=e:e>eCeIe:eGeKe>e:eL\u0003e,e=e6eIe=e:e9eDe:eHe>eHeHeIe6eCe9e6eGe9e;e>eAeBeBe6e@e>eCe<eEeGe6e8eIe>e8e:\u0003Þe)e=e:eHe6eBe:e<eDe:eHe;eDeGeIe=e:e>eCeIe:eGeKe>e:eLeLe=e>e8e=e;eDeAeAeDeLeH\u0003\"eDeDeGe:ûeHe8eGe>eIe>e8eHeLeDeJeAe9e:eMeEe:e8eIeJeHeIeDe=e6eKe:e=e>eBeFeJeDeIe:\u001d",
      "e:eHeIeDeCe>eCe=e>eHe:eCeIe>eGe:eIeN\u0001e=e6eKe:e=e>eBeEeGe:eHe:eCeIe;eJeAeAeNeIe=e:e%e'eIe=e6eIeIe=e:e#e'\u0016e=e6eHeJeHe:e9eIeDe?eJeHeIe>e;eNe>eIeHeGe6eAeAeNe>eC\u0019e:eCeKe:eGe;eDeGeGe:e6eHeDeCeHeDe;öe7e6eAe6eCe8e:ö\u0003e)e=e:e#e'\u0016eLe6eHe;eJeAeAeNe6eLe6eGe:eDe;eIe=e:eHe8e6eCe9e6eAe>eIeLeDeJeAe9e8e6eJeHe:eIe=eGeDeJe<e=e>eIeHeGe6eAeAeNe6eCe9e9e:e8e>e9e:e9eIeDeEeJeHe=eDeCe7e:e8e6eJeHe:eIe=e:eNe7e:eAe>e:eKe:e9eIeDe=e6eKe:e:eCeDeJe<e=eBe:e9e>e6eHeJeEeEeDeGeIeIeDeHeJe8e8e:eHeHe;eJeAeAeNe9eDeHeD\u0003e)e=e:eNeLe:eGe:eGe>e<e=eI\u0003e.eDeJe8eAe6e>eBeIe=e6eIeIe=e:eGe:eLe6eHöeCeDeLe6eNeIeDe8e=e6eCe<e:eAeDe8e6eIe>eDeC\u0001eHe>eCe8e:eNeDeJe=e6eKe:eIeDe<e>eKe:e6e9eKe6eCe8e:eCeDeIe>e8e:eDe;eIe=e6eIeIeDeIe=e:eBe:eBe7e:eGeH\u0001e6eCe9eIe=e:eGe:eLe:eGe:eJeEeLe6eGe9eHeDe;\t\u0001\u0005\u0005\u0005\u0001\u0005\u0005\u0005eBe:eBe7e:eGeH\u0003ö\u0006\u0005e9e6eNeHe6eGe:eBeDeGe:eIe=e6eCe:eCeDeJe<e=eIeDe<e>eKe:e6e9eKe6eCe8e:eLe6eGeCe>eCe<eDe;e6e8e=e6eCe<e:e>eCeAeDe8e6eIe>eDeCeDeGe9e6eIe:\u0001e=e6e9eIe=e:e#e'\u0016eGe:e6eAeAeNeLe6eCeIe:e9eIeD\u0003\u001e",
      "eIe>eHeEeGeDe7e6e7eAeNe8eDeGeGe:e8eIeIe=e6eIeIe=e:e>eGeEeGe>eBe6eGeNeGe:e6eHeDeCe;eDeGeCeDeIe9eDe>eCe<eHeDeLe6eHeIeDeHe6eKe:eBeDeCe:eN\u0001eCeDeIeIeDeEe>eHeHeDe;e;eIe=e:eKe>e8eIe>eBeHeDe;\u0018eDeAeJe7eBe>eCe:\u0003e)e=e6eIe9eDe:eHeCeDeIe8e=e6eCe<e:eIe=e:e;e6e8eIeIe=e6eIeIe=e:eNe9e>e9e?eJeHeIeIe=e6eI\u0003\"eDeDeGe:eEeGe:eHe:eCeIeHeIe=e:eBeDeHeIe>eBeEeDeGeIe6eCeIeEe6eGeIeDe;eIe=e:eHeEe:e:e8e=eIeDe7e6e8e@eJeEeIe=e>eHeEeDe>eCeIe6eCe9e>e<eCeDeGe:eHeIe=e:e;eAeJe;e;\u0003e)e=e>eHe>eHeLe=e6eIe<eDeDe9e9eDe8eJeBe:eCeIe6eGeNe;e>eAeBeBe6e@e>eCe<e>eHe6e7eDeJeI\u0003\u0016eCe9e=e:eGe:eIe=e:e8eGe>eIe>e8eHe6e<e6e>eCe>e<eCeDeGe:e>eBeEeDeGeIe6eCeIe:eKe>e9e:eCe8e:\u000fÞe,e=e:eC\u001d",
      "e:eHeIeDeCeBe:eCeIe>eDeCeHeIe=e:eBe6eNeDeGeDe;\u0019e:eCeKe:eG\u0001eIe=e:e8eGeDeLe9e7eDeDeHeAeDeJe9eAeN\u0003\u001d",
      "e:eHeIeDeCeBe6e<e6eCe>eBeDeJeHeAeNe=eDeAe9eHeJeEe6e=e6eCe9eIeDeGe:e6e9eIe=e:eBe6eNeDeGûeHeAe:eIeIe:eGüeDeCeAeNeIeDe:eMeEeAe6e>eCe>eCe9e:eIe6e>eAeLe=eNe=e:e8e=eDeHe:eIeDe>e<eCeDeGe:eIe=e:eGe:eFeJe:eHeI\u0002\u0002eCeDeIeBe:eCeIe>eDeCe>eCe<e6eIe6eAeAeIe=e:eGe:e6eHeDeCeHeNeDeJe=e6eKe:e<e>eKe:eCõý\u0003e)e=e>eHe7eDeDe>eCe<e7eNeIe=e:e8eGeDeLe9\u0001eCeDeIeBe:eCeIe>eDeCe:e9eLe>eIe=e6eHe>eCe<eAe:eLeDeGe9e>eCeNeDeJeGeIeGe6eCeHe8eGe>eEeIeDeGeNeDeJeGe6eGeIe>e8eAe:\u0001eHe=eDeLeHeIe=e6eIeIe=e:e8eGeDeLe9eLe6eHe;eJeAeAeNe6eLe6eGe:eDe;eIe=e:e8eDeCeIeGeDeKe:eGeHeNeIe=e:eNeLeDeJeAe9e8e6eJeHe:e7eNe8eDeBe>eCe<eIeD!e>eIeIeAe:eIeDeCe6e;eIe:eGe8e=e>eAe9eGe:eCeLe:eGe:e7e:e>eCe<e@e>eAeAe:e9eIe=e:eGe:\u0002\u0002e6eCe9eIe=e:eNe:e;e;e:e8eIe>eKe:eAeNeHe6e>e9ö\u001beJe8e@eNeDeJö\u0003e)eDeHe6eNeIe=e6eIeIe=e:eNe8eDeJeAe9eCeDeIe=e6eKe:e9eDeCe:eDeIe=e:eGeLe>eHe:e>eHe6e7eDeAe9eAe>e:e7eN\"eDeDeGe:ûeHe8eGe>eIe>e8eH\u0003Þ\týe)e=e: e6eNeAe6e'eDeAeAe6eCe9e8e6eHe:\u0003\u0016e<e6e>eC\u0001e8eGe>eIe>e8eHeAe>e@e:eNeDeJeGeHe:eAe;e8e=e6eGe<e:\"eDeDeGe:eLe>eIe=e9e:e8e:eEeIe>eDeC\u0003e)e=e:eGe6eAeAeNeIeDeDe@eEeAe6e8e:eDeCe$e8eIeDe7e:eG\u0006\f",
      "\u0001eIe=e:eHe=eDeDeIe>eCe<eDeC\u001be:e7eGeJe6eGeN\u0007\u000e\u0003\u0016e<e6e>eC\u0001eHeIe6eCe9e6eGe9e;e>eAeBeBe6e@e>eCe<eIe:e8e=eCe>eFeJe:eHe6eGe:e>eCeIe:eGeEeGe:eIe:e9e6eHeHeBeDeDeIe=e9e>eHeIeDeGeIe>eDeC\u000fö\"eDeDeGe:eLeDeGe@eHe7eNe9e:eEeGe>eKe>eCe<eNeDeJeDe;e8eDeCeIe:eMeIe6eCe9e<eJe>e9e>eCe<eNeDeJeGeBe>eCe9eIeDe;e>eAeAeIe=e:eKe6e8eJeJeB\u0002\u0002eLe>eIe=e8eDeBeEeAe:eIe:eAeNe;e6eAeHe:e>e9e:e6eH\u0003\u001e",
      "eIe>eHe7eGe>eAeAe>e6eCeIeAeN\u0001e>e;eJeCe:eIe=e>e8e6eAeAeN\u0001e9eDeCe:\u0003ö\u0016eHeCeDeIe:e9e6e7eDeKe:\u0001eIe=e:öe;eGeDeBeBeNe8eDeAe9e9e:e6e9e=e6eCe9eHöeEe6eGeIe>eHeHe>eBeEeAeN\"eDeDeGe:ûeHeLe6eNeIeDe>eCeIeGeDe9eJe8e:\u001d",
      "e:eHeIeDeC\u0003\u0019e>e9e6eCeNeDeCe:e7eJeI\"eDeDeGe:ûeHe8eGe>eIe>e8eHeKe>e:eLe>eIe6eHe6eCeNeIe=e>eCe<e:eAeHe:\u0014\u001d",
      "e:e8e:eGeIe6e>eCeAeNe9eDe:eHeCeDeIöe6eIeIeGe>e7eJeIe:e>eIeIeDe6eHeEe:e:e8e=eLe=e:eGe:e>eIeLe6eHeCeDeIeJeIeIe:eGe:e9öe6eCe9\u0001e6eHeCeDeIe:e9e6e7eDeKe:\u0001e9eDe>eCe<eHeDeIeLe>e8e:eLeDeJeAe9eBe6e@e:eCeDeHe:eCeHe:eLe=e6eIeHeDe:eKe:eGe>e;\"eDeDeGe:eLe6eHeIe=e:eBe6eHeIe:eGeBe>eCe9e9e:e8e:e>eKe:eGeIe=e6eIe=e>eHe8eGe>eIe>e8eHe8eAe6e>eBe=e:e>eH\u0003Þ\u0018eDeCe8e:eGeCe>eCe<eIe=e:\u001c",
      "e:eDeGe<e:eIeDeLeC\u001d",
      "eDeNe6e>eCeIe:eGeKe>e:eLeLe=e:eGe:\u001d",
      "e:eHeIeDeCeLe6eHe6eHe@e:e9e6e7eDeJeIe'eDeAeAe6eCe9\u0001eNeDeJeLeGe>eIe:\u000föe)e=e:eGe:e>eHeCeDe>eCe9e>e8e6eIe>eDeCeIe=e6eIe0\u001d",
      "e:eHeIeDeCe2eGe:e8eDe<eCe>eOe:e9 e6eNeAe6e'eDeAeAe6eCe9ûeHe8e6eHe:\u0003öe)e=e>eHe>eHeCe6e>eKe:eIeDeIe=e:e:eMeIeGe:eBe:\u0002\u0002\u001d",
      "e:eHeIeDeCeLeDeJeAe9eCeDeIe7e:eEeGe:eHe>e9e:eCeIeDe;eIe=e:e#e'\u0016e>e;e=e:eLe6eHeCeDeIe@e:eEeIeJeEeIeDe9e6eIe:eDeCeIe=e:eBeDeHeIeEeGeDeBe>eCe:eCeIe8e6eHe:eHeDe;e<eJeCeKe>eDeAe:eCe8e:\u0003\u001aeKe:eCe>e;e=e:e9e>e9eCeDeIeGe:eHeEeDeCe9eIeDeIe=e6eIeEe6eGeIeDe;eIe=e:e>eCeIe:eGeKe>e:eL\u0001e=e:e8e:eGeIe6e>eCeAeNe@eCe:eLe6e7eDeJeIeIe=e:e8e6eHe:e6eIeIe=e6eIeEeDe>eCeI\u0003Þe'e:e<e6eGe9e>eCe<eIe=e:e#e'\u0016eLe:e7eHe>eIe:e:eMe8e:eGeEeIe6e7eDeJeIeIe=e:e8e6eHe:e6eCe9eIe=e:e=e>e<e=eAe>e<e=eIe>eCe<eDe;eIe=e:eEe=eGe6eHe:ö\t\r",
      "e=eDeJeGeHe6e;eIe:eG e6eNeAe6e'eDeAeAe6eCe9e>eHeEeGeDeCeDeJeCe8e:e9e9e:e6e9ö\u000fe)e=e>eHe>eHeDeCe:eKe6eAe>e9e8eGe>eIe>e8e>eHeB\u0001e7eJeIe;e6eGe;eGeDeBeIe=e:e9e:eAe>e7e:eGe6eIe:e9e>eHeIeDeGeIe>eDeCeNeDeJeBe6e@e:e>eIeDeJeIeIeDe7e:\u0010eGe6eIe=e:eG\u0001e>eIe>eHe6eCe:eMe6eBeEeAe:e;eDeGe=eDeLeIe=e:e;e6e8eIeHe8e6eCeHeDeBe:eIe>eBe:eHe7e:e:e6eHeNeIeDeBe>eHeHeLe>eIe=\"eDeDeGe:ûeHe;e6eHeIeEe6e8e:e:e9e>eIe>eCe<\u0003e)e=e:eGe:e6eHeDeCeIe=e:eHe:eCeIe:eCe8e:e>eHe=e>e<e=eAe>e<e=eIe:e9e>eHeCeDeIeIeDe9e:e8e:e>eKe:eIe=e:eKe>e:eLe:eGe>eCeIeDe7e:eAe>e:eKe>eCe<eIe=e6eI\u001d",
      "e:eHeIeDeCe=eJeGeGe>e:e9eIeD\u001beAe>eCeIeIeDe>eBeBe:e9e>e6eIe:eAeNe=eDeAe9e6eGe6eAeAeNeIe=e:eGe:üe6eHeLe>eAeAe7e:e8eDeBe:eFeJe>eIe:eDe7eKe>eDeJeHý\u0001e7eJeIeHe>eBeEeAeNeIeDe=e>e<e=eAe>e<e=eIeIe=e:e;e>eGeHeIeBe:eCeIe>eDeCeDe;eIe=e:eCe6eBe:ö e6eNeAe6e'eDeAeAe6eCe9öe>eCeIe=e:eIe:eMeI\u0001eLe=e>e8e=e>eHe>eCeIe=e>eHeEe6eGe6e<eGe6eEe=\u0003Þe*eCe;eDeGeIeJeCe6eIe:eAeN\u0001e7e:e8e6eJeHe:eIe=e:eOeDeDeBe>eCe<e>eHeGe6eIe=e:eGe;e6eHeI\u0001e>eIe>eHe:e6eHeNeIeDeBe>eHeHeIe=e:eGe:eHeIeDe;eIe=e:eHe:eCeIe:eCe8e:\u0001eHeDe6eHeNeDeJe8eDeGeGe:e8eIeAeNeCeDeIe:\u0001eHeDeBe:eKe>e:eLe:eGeHe<eDeIe6eCe>eCe8eDeGeGe:e8eIe>eBeEeGe:eHeHe>eDeC\u0003\u001e",
      "eIeLeDeJeAe9e=e6eKe:e7e:e:eCe;e6e>eGe;eDeG\"eDeDeGe:eIeDeEeDe>eCeIeDeJeIeIe=e>eHeEeDeHeHe>e7eAe:eBe>eHe>eCeIe:eGeEeGe:eIe6eIe>eDeCeDeCe=e>eHeLe:e7eHe>eIe:\u0003\u001d",
      "eDeLe:eKe:eG\u0001eIe=e:e8eAe6e>eBeDe;e9e:eAe>e7e:eGe6eIe:e9e>eHeIeDeGeIe>eDeCe>eHeAeJe9e>e8eGeDeJeHe;eDeGeHe:eKe:eGe6eAeGe:e6eHeDeCeH\u000fÞe6ý\"eDeDeGe:e8eAe:e6eGeAeNeHeIe6eIe:eHeIe=e6eIöe7e:e;eDeGe:e=e:e8e6eBe:eIeD\u001beAe>eCeIö\u0001\u001d",
      "e:eHeIeDeCe<e6eKe:e6eCe>eCeIe:eGeKe>e:eL\u0003\u001e",
      "eCeIe=e:e:eMe8e:eGeEeIe;eGeDeBeHe6e>e9e>eCeIe:eGeKe>e:eL\u0001eLe:e8e6eCeHe:e:eIe=e6eIe>eIe>eHe;eGeDeB\"e6eGe8e=\u0003\u001e",
      "e;\"eDeDeGe:eLe6eCeIe:e9eIeDe9e:e8e:e>eKe:e=e>eHeKe>e:eLe:eGeH\u0001eLe=eNeLeDeJeAe9e=e:eHe6eNeIe=e>eH\u0001e6eCe9eHe=eDeLeIe=e:eBeDeCeIe=eIe=e:e>eCeIe:eGeKe>e:eLeLe6eHeEeJe7eAe>eHe=e:e9\u0014Þe7ýe,e=eNeHe=eDeJeAe9\"eDeDeGe:eAe:e6eKe:eIe=e:eLeDeGe9eHö\u0018eAe>eCeIeDeCe>eHeDeCeIe=e:e)eDe9e6eNe(e=eDeLöeKe>eHe>e7eAe:e>eCeIe=e:eIe:eMeI\u0001eLe=e>e8e=e>eHeCe:e8e:eHeHe6eGeNeIeDe8eDeGeGe:e8eIeAeNe>eCeIe:eGeEeGe:eIeIe=e:e=e>e<e=eAe>e<e=eIe:e9eEe6eGeI\u0014\u001e",
      "eGe:eKe>e:eLe:e9eIe=e:eHe:eFeJe:eCe8e:eHe:eKe:eGe6eAeIe>eBe:eHe6eCe9e>eIe>eHeEe:eGe;e:e8eIeAeNeEeDeHeHe>e7eAe:eIeDeHe:e:eIe=e>eHeIe:eMeIeLe>eIe=eDeJeIeEe6eJeHe>eCe<\u0003Þe8ý\u0017eDeIe=eIe=e:öeHeDe8e8e:eGeBeDeBöe>eCeIe:eGeKe>e:eLe6eCe9eIe=e:eHe:eFeJe:eCe8e:eHeHe=eDeLe>eCe<eIe=e:e#e'\u0016eGe6eAeAeNeBe6e@e:eCeDe:e;e;eDeGeIeIeDe9e>eHeIeDeGeIeIe=e:e;e6e8eIeIe=e6eIeIe=e>eHeGe6eAeAeNe=e6eEeEe:eCe:e9eBeDeCeIe=eHe6e;eIe:eGeIe=e:e;e6e8eI\u0003e)e=e:e8e6eBe:eGe6eAe>eCe<e:eGeHeDeC\u0017eJeHe=\u0004\u0018e=e:eCe:eNeEeDeHeIe:eGeH\u0001e6eCe9eIe=e:eEeGeDeIe:eHeIeDeGe>eHeFeJeDeIe:e9e6eHeHe6eNe>eCe<eIe=e6eIöeLe:eLe6eCeIe:e9eIeDeAe:eIeIe=e:e#e'\u0016e@eCeDeLeIe=e6eIeLe:e=e6eKe:eCûeIe;eDeGe<eDeIeIe:eCe6e7eDeJeI e6eNeAe6e'eDeAeAe6eCe9ö\u0003e.eDeJeBe6e@e:eIe=e:e=eNeHeIe:eGe>e8e6eAe8eAe6e>eBeIe=e6eIeIe=e:e>eCeIe:eGeKe>e:eLöeBe6eNe7e:e;e6e@e:e9öüeDeCeIe=e:e7e6eHe>eHeIe=e6eIeCeDeCe6eBe:e>eHeHe=eDeLeCe;eDeGeIe=e:e>eCeIe:eGeKe>e:eLe:e:ý\u0001e7eJeIe>e;\"eDeDeGe:e=e6e9e;e6e@e:e9e>eI\u0001eLe=eNeIe=e:e=e:eAeAeHe=eDeJeAe9e=e:eEeJeIeIe=e>eHeHe:eCeIe:eCe8e:e>eCeIe=e:eEeGeDeIe:eHeIeDeGûeHeBeDeJeIe=\u0001eLe=e>e8e=e9e>eGe:e8eIeAeNe8eDeCeIeGe6e9e>e8eIeHeIe=e:e8eDeCe8eAeJeHe>eDeCeIe=e6eIeIe=e:eGe6eAeAeNe=e6eEeEe:eCe:e9e=eDeJeGeHe6e;eIe:eG e6eNeAe6ûeHe9e:e6eIe=\u0014e,e=eNe9e>e9\"eDeDeGe:\u0001eIe=e:eBe6eHeIe:eGe;eJeAe9e:eKe:e>eKe:eG\u0001eCeDeIe:e9e>eIeIe=e>eHeHe:eFeJe:eCe8e:eDeJeI\u0014e)e=e>eHeBe6e@e:eHeCeDeHe:eCeHe:\u0003Þe$eEe>eCe>eDeCeHeBe6eNeKe6eGeNeDeCe=eDeLeIe6eHeIe:eAe:eHeHe>eIeLe6eHe;eDeG\u001d",
      "e:eHeIeDeCeIeDe=eDeAe9e6eEeGeDe<eJeCeGe6eAeAeNeDeCeIe=e:eAeDe8e6eIe>eDeCeDe;eIe=e:eCe6eIe>eDeCûeHeNeDeJeCe<e:eHeIeHe8e=eDeDeAeHe=eDeDeIe>eCe<eBeDeCeIe=eHe6e;eIe:eGeIe=e:e;e6e8eI\u0001e7eJeIeIe=e>eHeHe:eFeJe:eCe8e:eDe;ö\u0017eDeLeAe>eCe<öe>eHeLe>eIe=eDeJeIe9eDeJe7eIeIe=e:eBeDeHeIeJeCe;e6e>eGeIeD\u001d",
      "e:eHeIeDeC\u0003e)e=e:e8eAe6e>eBeHeDe;e9e:eAe>e7e:eGe6eIe:e9e>eHeIeDeGeIe>eDeCe9eDeCûeIe=eDeAe9eJeEeLe=e:eCeKe>e:eLe>eCe<eIe=e:eLe=eDeAe:eHe8e:eCe:\u0001eIe=eDeJe<e=\u0002\u0002e6eHö\u001d",
      "e6eCeAeDeCûeHe'e6eOeDeGöeHeIe6eIe:eH\u0001eDeCe:eHe=eDeJeAe9eCe:eKe:eGe6eIeIeGe>e7eJeIe:eIeDeBe6eAe>e8e:eLe=e6eIe8e6eCe7e:e6eIeIeGe>e7eJeIe:e9eIeDe>eCe8eDeBeEe:eIe:eCe8e:\u0003e)e=e:eHeDeBe:eLe=e6eIe>eCe:eEeIe:e9e>eIe>eCe<eDe;eIe=e:e#e'\u0016eEeGe:eHeHeGe:eAe:e6eHe:e=e6eHeAe:e9eHeDeBe:eKe>e:eLe:eGeHeIeDeLeGeDeCe<e8eDeCe8eAeJeHe>eDeCeH\u0001eLe=e>e8e=e>eHeJeCe;eDeGeIeJeCe6eIe:\u0001e7eJeI\"eDeDeGe:ûeHe8eGe>eIe>e8eHe=e6eKe:eCeDe>eCeIe:eGe:eHeIe>eCeKe>e:eLe>eCe<eIe=e:eBe6eIeIe:eGe;e6e>eGeAeN\u0003\u001d",
      "e6e9eIe=e:eNe9eDeCe:eHeD\u0001\"eDeDeGe:e=e>eBeHe:eAe;eLeDeJeAe9eEeGeDe7e6e7eAeNe=e6eKe:e6eEeDeAeDe<e>eOe:e9e;eDeGeIe=e:e<e6e;e;e:\u0003\u001e",
      "eCe6eCeNe8e6eHe:\u0001e6eIeCeDeEeDe>eCeIe9eDe:eH\"eDeDeGe:eBe6e@e:e6e;e6eAeHe:eHeIe6eIe:eBe:eCeI\u0001e>eCe8eDeCeIeGe6e9e>e8eIe>eDeCeIeDe8eAe6e>eBeHe7eNe8eGe>eIe>e8eHeIe=e6eIe=e>eHe9eDe8eJeBe:eCeIe6eGeNe>eHöe;eJeAeAeDe;eAe>e:eHö\u0003Þ\n",
      "ýe.eDeJeLeGe>eIe:\u000fö\u001d",
      "e6eKe>eCe<e8eGe:e6eIe:e9eIe=e:e9e:eHe>eGe:e9e>eBeEeGe:eHeHe>eDeC\u0001\"eDeDeGe:e;eDeAeAeDeLeHeLe>eIe=e=e>eH\u001d",
      "e:eHeIeDeCe>eCeIe:eGeKe>e:eL\u0003öe#eD\u0001e=e:e9eDe:eHeCûeI\u0003e.eDeJe6e8e8eJeHe:\"eDeDeGe:eHeDeDe;eIe:eCeDe;e8e=e6eCe<e>eCe<eIe=e:e8e=eGeDeCeDeAeDe<eN\u0001eNe:eIeNeDeJe=e6eKe:eCeDeEeGeDe7eAe:eBeHe8e=e6eCe<e>eCe<e>eIeNeDeJeGeHe:eAe;\u0003e)e=e:\u001d",
      "e:eHeIeDeCe>eCeIe:eGeKe>e:eLe>eHe6eIeIe=e:eKe:eGeNe:eCe9eDe;eIe=e:eBeDeKe>e:\u0003\u0016e;eIe:eGeIe=e:\u001beAe>eCeIeGe6eAeAeNe8eDeBe:eHe6e7eGe>e:e;e)e+e>eCeIe:eGeKe>e:eLeLe>eIe=\u001d",
      "e:eHeIeDeC\u0001eLe=e:eGe:e=e:e>eHe6eHe@e:e9e6e7eDeJeI e6eNeAe6e'eDeAeAe6eCe9üe6e<e6e>eC\u0001e8eAe:e6eGe:eKe>e9e:eCe8e:eIe=e6eIeIe=e:eAeDe8e6eAeBe:e9e>e6e>eC\u001beAe>eCeIeGe6e>eHe:e9eFeJe:eHeIe>eDeCeHe6e7eDeJeIeIe=e:e#e'\u0016ûeHeEeGe:eHe:eCe8e:ý\u0001eIe=e:eCe6eCe>eCeIe:eKe>e:eLeLe>eIe=e8eDeJeCeIeGeNeEeGeDeHe:e8eJeIeDeG\u0016eGeIe=eJeG\u0017eJeHe8e=\u0001e:eCeIe>eGe:eAeNe>e<eCeDeGe:e9e7eNe8eGe>eIe>e8eHeDe;eIe=e:e;e>eAeB\u0001eLe=eDe6eAeHeDeBe:eCeIe>eDeCeH\u001d",
      "e:eHeIeDeCûeHeEeGe:eHe:eCe8e:e6eHeCeDeIe6e7eAe:\u0001e6eCe9eGe:e;e:eGeHeIeDeIe=e:e>eBeBe:e9e>e6eIe:eGe:e6e8eIe>eDeCeHeDe;öeEe:eDeEeAe:e;eGeDeBe6eAeAeDeKe:eG\u0016eBe:eGe>e8e6ö\u0001e<eJeCeDeLeCe:eGeH\u0004e<eGeDeJeEeHeLe=eD\u0001e6e8e8eDeGe9e>eCe<eIeDe=e>eB\u0001eGe:e6e8eIe:e9e6e<e<eGe:eHeHe>eKe:eAeNeIeDeLe6eGeCe>eCe<eHeDe;e=e6eKe>eCe<e<eJeCeHe6e8e8e:eHeHe>e7eAe:eIeDe8e=e>eAe9eGe:eC\u0001eBeJe8e=eAe>e@e:eHeEe6eCe@e>eCe<e6e9eKeDe8e6eIe:eHeGe:e6e8eIe6e<e<eGe:eHeHe>eKe:eAeNeLe=e:eCe6eCeIe>\u0002eHeEe6eCe@e:eGeHeEeDe>eCeIeIeDe6e8e6eHe:eDe;e6e8e=e>eAe9e7e:e>eCe<e@e>eAeAe:e9eDeGeHe:eKe:eGe:eAeNe>eCe?eJeGe:e9e7eNe6e7e:e6eIe>eCe<\u0003e)e=e:eHe:eEe:eDeEeAe:e9eDeCeDeIe;e:e:eAeIe=e:eCe:e:e9eIeDe:eMeEeGe:eHeHeHeNeBeEe6eIe=eN\u0001eDeGeIeDeIe=e>eCe@e6e7eDeJeIeLe6eNeHeIeDe6eKeDe>e9eHeJe8e=e>eCe8e>e9e:eCeIeH\u0001e7eJeIeIe=e:eNe;e:e:eAeIe=e:eCe:e:e9eIeDe6eHeHe:eGeIeIe=e:e>eGöeGe>e<e=eIeHöe6eCe9eIeDeAeDeDe@e;eDeGeFeJe>e8e@\u0001eHe>eBeEeAe:e6eCeHeLe:eGeH\u0002\u0002e6eH\u0017eJeHe8e=eHeIe6eIe:eH\u0001e<eJeCeDeLeCe:eGeHeLe6eCeIe:e9eIeDöe=e6eCe<e0eIe=e:e8e=e>eAe9e2e;eGeDeBeIe=e:e=e>e<e=e:eHeIeIeGe:e:ö\u0003e)e=e>eHe>eHe6eAeAeCeDeIeBe:eCeIe>eDeCe:e9e7eNe8eGe>eIe>e8eHeDe;\"eDeDeGe:ûeHeBeDeKe>e:\u0001eLe=eDe8eAe6e>eBeIeDe7e:eDe7e?e:e8eIe>eKe:\u0003Þe%e:eGe=e6eEeHeIe=e:e7e:eHeIe:eMe6eBeEeAe:eDe;eIe=e:eEe6eGe6eCeDe>e6eHeJeGeGeDeJeCe9e>eCe<\"eDeDeGe:ûeHe;e>eAeBe>eHeNeDeJeGeHeJe7\u0002e:eHeHe6eNö\u001e",
      "eHeIe=e:e:eCe9eDe;eIe=e:\u001d",
      "e:eHeIeDeCe>eCeIe:eGeKe>e:eLe>eIeHe:eAe;e;e6e@e:e9\u0014öÞ\"eDeDeGe:e6eCeHeLe:eGeHe6eHe>eBeEeAe:eFeJe:eHeIe>eDeC\u0002\u0002e=eDeLe8eDeJeAe9eIe=e:eHe8e:eCe:e=e6eKe:e7e:e:eCe;e>eAeBe:e9\u0002\u0002eLe>eIe=e6eHe>eBeEeAe:e6eCeHeLe:eG\u000feIeLeDe8e6eBe:eGe6eH\u0003\u001beGeDeBeIe=e>eH\u0001eNeDeJe8eDeCeHeIeGeJe8eIe6eCeDe7eHe8eJeGe:e8eDeCeHeEe>eGe6e8eNeDe;öeGe:\u0002e:eCe6e8eIeBe:eCeIö\u000fö\u001beDeGe6eAeAeLe:e8e6eCeIe:eAeA\u0001\"eDeDeGe:e8eDeJeAe9e=e6eKe:eHe=eDeJeIe:e9û\u001d",
      "e:eNõûeIeDeBe6e@e:\u001d",
      "e:eHeIeDeCeIeJeGeCe6eGeDeJeCe9e6eCe9eIe=e:eCeGe:eBe6e>eCe:e9eHe>eAe:eCeIe6eH\u001d",
      "e:eHeIeDeCeAe:e;eI\u0003ö\u001aeKe:eCe>e;eNeDeJeGöeGe:\u0002e:eCe6e8eIeBe:eCeIöeIe=e:eDeGeNe>eHeIeGeJe:üe6eCe9\u001e",
      "eHe:e:eCeDe:eKe>e9e:eCe8e:eIe=e6eIeNeDeJe=e6eKe:e6e8eIeJe6eAeAeNeIeGe>e:e9eIeDe6eHe@eIe=e:eEe:eDeEeAe:e>eCeKeDeAeKe:e9e>eCeIe=e:e;e>eAeBeBe6e@e>eCe<e;eDeGeIe=e:e>eGeDeEe>eCe>eDeCý\u0001eIe=e>eHe>eIeHe:eAe;e>eHeCeDeIeJeCe:eIe=e>e8e6eA\u0001e6eCe9eNeDeJe=e6eKe:eCeDe:eKe>e9e:eCe8e:eLe=e6eIeHeDe:eKe:eGeIe=e6eI\"eDeDeGe:e=e6eHe9eDeCe:e6eCeNeIe=e>eCe<eJeCe:eIe=e>e8e6eAe=e:eGe:\u0001e?eJeHeIeAe>e@e:eNeDeJe=e6eKe:eCeDe:eKe>e9e:eCe8e:eIe=e6eI\"eDeDeGe:e=e6eHeJeCe:eIe=e>e8e6eAeAeNeGe:eBeDeKe:e9eEe6eGeIeHeDe;eIe=e:e>eCeIe:eGeKe>e:eL\u0003e.eDeJeJeHe:eHeIe6eCe9e6eGe9e;e>eAeBeBe6e@e>eCe<eIe:e8e=eCe>eFeJe:e6eHe6e7e6eHe>eHeIeDe8eDeCeHeIeGeJe8eIe7e>eOe6eGeGe:e8eDeCeHeEe>eGe6e8e>e:eHeLe=e>e8e=eHeDeJeCe9eEeAe6eJeHe>e7eAe:eIeDeIe=e:e<eJeAeAe>e7eAe:eGe:e6e9e:eG\u0001eLe>eIe=eDeJeIe:eKe:eGeEeGeDeKe>e9e>eCe<e6eCeNe:eKe>e9e:eCe8e:e;eDeGeIe=e:e>eBeEeAe>e8e>eIeDeGe:eMeEeAe>e8e>eIe8eAe6e>eBeHeDe;e;eGe6eJe9e6eCe9e9e>eHeIeDeGeIe>eDeC\u0003Þ\u000b",
      "ý\u0016eCe>eBe6eIe:e9e=e>eHeIeDeGeNeDe;eIe=e:e*e(\u0003e$e;e8eDeJeGeHe:eIe=e:e8e6eGeIeDeDeCe>eHe=e>e<e=eAeNeDeKe:eGeHe>eBeEeAe>e;e>e:e9\u0001e6eCe9eBeDeHeIe8eGe>eIe>e8eHe8eDeCeHe>e9e:eGe>eIeDeCe:eDe;eIe=e:eLe:e6e@e:eHeIeEe6eGeIeHeDe;eIe=e:e;e>eAeB\u0003\u0017eJeIe>eIeBe6e@e:eHe6eKe6eAe>e9e8eAe6e>eBeLe=e>e8e=eNeDeJe>e<eCeDeGe:e:eCeIe>eGe:eAeN\u000fe)e=e6eIeIe=e:eHeIeGe6eIe:e<eNeIeDeEeGeDeBeDeIe:öe<eJeCeGe>e<e=eIeHöe;eDeGeLe=e>eIe:eEe:eDeEeAe:e6eCe9eIeDeDeJeIeAe6eLe<eJeCeEeDeHeHe:eHeHe>eDeCe7eNe7eAe6e8e@eEe:eDeEeAe:eLe6eHe6eLe6eNeIeDeJeEe=eDeAe9eGe6e8e>eHeBeLe>eIe=eDeJeIeAe:eIeIe>eCe<e6eCeDeEe:eCeAeNeIe:eGeGeDeGe>eHeIeDeGe<e6eCe>eOe6eIe>eDeCeAe>e@e:eIe=e:   e;eAeDeJeGe>eHe=\u0003\u0019e>e9eIe=e:\u0006\u000eeIe=e8e:eCeIeJeGeNe#e'\u0016e>eCeIe=e:eHeDeJeIe=e:eGeCeHeIe6eIe:eHeEeGeDeBeDeIe:e<eJeCeGe>e<e=eIeHe;eDeGe7eAe6e8e@eEe:eDeEeAe:\u0014\u001e",
      "e=e>e<e=eAeNe9eDeJe7eIe>eI\u0003\u0017eJeIe>e;eIe=e:eNe9e>e9eCûeI\u0001eDeCe:eDe;eIe=e:e>eGe;eJeCe8eIe>eDeCeHeLe6eHeIeDe8eDeCeIe>eCeJe:eIe=e:eGe6e8e>eHeBeDe;eIe=e:   \u0003e)e=e>eHe>eHeIe=e:e@e:eNeBe:eHeHe6e<e:eDe;eIe=e>eHeEe6eGeIeDe;eIe=e:e6eCe>eBe6eIe>eDeC\u0001eLe=e>e8e=e>eHe6e<e6e>eCe7e:e>eCe<e>e<eCeDeGe:e9e7eNe>eIeHe8eGe>eIe>e8eH\u0003Þ\f",
      "ý\u0017eJe:eAeAeHe=eDeDeIe>eCe<e>eC\u001beAe>eCeI\u0003e.eDeJeLeGe>eIe:\u000fö\u001be6e8eI\u000fe)e=e:eAe>eIeIeAe:e7eDeNeLe6eHeIe=e:e8eAe6eHeHeIe=eJe<\u0001e6eAeGe:e6e9eNeHeJeHeEe:eCe9e:e9e;eGeDeBeHe8e=eDeDeAe;eDeGeHeIe6e7e7e>eCe<e6eCeDeIe=e:eGe@e>e9eLe>eIe=e6eEe:eCe8e>eA\u0001e6eCe9e=e6e9e;eDeJe<e=eIeLe>eIe= e6eNeAe6eIe=e:e9e6eNe7e:e;eDeGe:ö\u0003e)e=e>eHe8e=e6eGe6e8eIe:eGe>eOe6eIe>eDeCeDe;e6eHe>eM\u0002eNe:e6eG\u0002eDeAe9e6eHe6eEe:eCe8e>eA\u0002eHeIe6e7e7e>eCe<eIe=eJe<e>eHe:eMe6e8eIeAeNeIe=e:e@e>eCe9eDe;e=eNeHeIe:eGe>e6eIe=e6eI\"eDeDeGe:ûeHe;e>eAeBeLe6eGeCeHe6e<e6e>eCeHeI\u0003\u001e",
      "eIe>eHeIe=e:eIeNeEe>e8e6eAeGe>e<e=eI\u0002eLe>eCe<eGe:e6e8eIe>eDeCeLe=e>e8e=eAeDeDe@eHe;eDeGeHe>eBeEeAe:e6eCeHeLe:eGeHeIe=e6eIe9eDeCeDeIe8eDeCeIeGe6e9e>e8eIeIe=e:e'e:eEeJe7eAe>e8e6eCeBe>eCe9eHe:eI\u0003e)e=e:e@e>e9eLe6eHe6eAe>eIeIeAe:e7e6eHeIe6eGe9\u0001e6eCe9eIe=e:eEe6eGe:eCeIeHeLe:eGe:e>eCeKeDeAeKe:e9e>eCe9eGeJe<eH\u0002\u0002e8e6eHe:e8eAeDeHe:e9\u0003\u0017eJeIeLe=eNe9eDeEe:eDeEeAe:e9e:e6eAeLe>eIe=e9eGeJe<eH\u0014\u0017e:e8e6eJeHe:e>eIûeHeHeDeBeJe8e=e;eJeCeIeDe9eDeHeD\u0014\u001e",
      "eIe>eHe7eNeCeDeLeLe:eAeAe9eDe8eJeBe:eCeIe:e9eIe=e6eIeIe=e:\u0018\u001e",
      "\u0016eIeDeAe:eGe6eIe:e9e8eGe6e8e@eHe6eAe:eHe>eCe*e(e8e>eIe>e:eHeIeDe;eJeCe9eIe=e:eDeEe:eGe6eIe>eDeCeDe;e(eDeJeIe=\u0016eBe:eGe>e8e6eCöe8eDeCeIeGe6eHöÞ\u001e",
      "eIe>eHe:eFeJe6eAeAeNeLe:eAeAe@eCeDeLeCeIe=e6eIeIe=e:eHeD\u0002e8e6eAeAe:e9öeLe6eGeDeCe9eGeJe<eHöe7e:e<eJeCeJeCe9e:eGeIe=e:e#e>eMeDeCe6e9eBe>eCe>eHeIeGe6eIe>eDeCe>eHe6e;e6e>eAeJeGe:eLe=e>e8e=e=e6eHe8eDeHeIe=eJeCe9eGe:e9eHeDe;e7e>eAeAe>eDeCeHe6eCe9eBe6e9e:\u0016eBe:eGe>e8e6eIe=e:eLeDeGeAe9eAe:e6e9e:eGe>eCeEeGe>eHeDeCeEeDeEeJeAe6eIe>eDeCüe7eDeIe=e>eCeGe:eAe6eIe>eKe:e6eCe9e6e7eHeDeAeJeIe:eCeJeBe7e:eGeHý\u0003Þ\u001e",
      "eCeEeDeDeGe6eGe:e6eH\u0001eIe=e:e=e>e<e=eAeNeEeGeDe;e>eIe6e7eAe:e9eGeJe<e7eJeHe>eCe:eHeHeDe7eKe>eDeJeHeAeNe>eHeDe;eIe:eCeHe:e:eCe6eHeIe=e:eAe6eHeIeGe:eHeDeGeI\u0003\u0017eJeIeIe=e:eGe:e6eAe8e6eJeHe:e=e:eGe:e6eGe:eCeDeIeIe=e:e9eGeJe<eHeIe=e:eBeHe:eAeKe:eH\u0001e7eJeIeEeDeKe:eGeIeNe6eCe9eIe=e:öeLe6eGeDeCe9eGeJe<eHö\u0003Þ\u001d",
      "e6e9eIe=e:e7eDeNûeHeBeDeIe=e:eGeCeDeIe7e:e:eCeHe=e>eEeEe:e9eIeDe6öeLe:eAe;e6eGe:eIeDeLeDeGe@öeEeGeDe<eGe6eB\u0001eHe=e:eBe>e<e=eIe6eIeAe:e6eHeIe=e6eKe:e=e6e9eHeDeBe:eIe>eBe:eIeDeHeEe:eCe9eLe>eIe=e=e:eGeHeDeC\u0003e+e>eGeIeJe6eAeAeNe:eKe:eGeNe8e=e>eAe9eEeHeNe8e=eDeAeDe<e>eHeIe@eCeDeLeHeIe=e6eIeBeDeIe=e:eG\u0004e8e=e>eAe9e7eDeCe9e>eCe<e>eHe:eHeHe:eCeIe>e6eAe;eDeGeIe=e:e9e:eKe:eAeDeEeBe:eCeIeDe;e:eBeEe6eIe=eNe6eCe9eHeDe8e>e6eAe6e7e>eAe>eIe>e:eH\u0001eIe=e:e6eLe6eGe:eCe:eHeHeDe;eIe=e:e8eDeCeHe:eFeJe:eCe8e:eHeDe;eDeCe:ûeHe6e8eIe>eDeCeH\u0001e6eCe9eIe=e:eAe:e6eGeCe>eCe<eDe;e8eDeCe;eAe>e8eIeGe:eHeDeAeJeIe>eDeCe7eNeCeDeC\u0002eKe>eDeAe:eCeIeBe:e6eCeH\u0003\u001aeKe:eCeIe=e:eDe;e;e>e8e>e6eAeFeJeDeIe:e9e7eN\"eDeDeGe:e7eAe6eBe:eHeIe=e:eLe:eAe;e6eGe:eIeDeLeDeGe@eEeGeDe<eGe6eB\u0001e@eCeDeLe>eCe<e;eJeAeAeLe:eAeAeIe=e6eIeIe=e:e9eGeJe<e>eHeHeJe:e>eHe6eGe:e9e=e:eGeGe>eCe<\u0003e$eCe8e:e6e<e6e>eC\u0001eNeDeJeGe:eBeEe=e6eHe>eHeDeCeIe=e:eAe>eIeIeAe:e7eDeNe6eHe6eIe=eJe<e8eDeCe;e>eGeBeH\"eDeDeGe:ûeHüe6eCe9\u0017eJeHe8e=ûeHýe6eHeHe:eGeIe>eDeCeIe=e6eIeEe:eDeEeAe:eLe6eCeIe:e9eIeDe=e6eCe<eIe=e:e8e=e>eAe9e;eGeDeBeIe=e:e=e>e<e=e:eHeIeIeGe:e:e>eCeHeIe:e6e9eDe;eAeDeDe@e>eCe<e6eIeIe=e:eGe:e6eAe8e6eJeHe:eH\u0003Þe)e=e6eIûeHe7e:e8e6eJeHe:eLe=e>eAe:eIe=e:eGe:e>eHe6eHeD\u0002e8e6eAeAe:e9eLe6eGeDeCe9eGeJe<eH\u0001eIe=e:eGe:e>eHeCeDeLe6eGeDeCeEeDeKe:eGeIeN\u0003e%eDeKe:eGeIeNe>eHe;eGe:eFeJe:eCeIeAeNeEeDeGeIeGe6eNe:e9e6eHeCe6eIeJeGe6eA\u0001e6eCe9eIe=e:eEeDeDeGe>eC\u0016eBe:eGe>e8e6e6eGe:eHe:e:eCe7eNe8eDeCeHe:eGeKe6eIe>eKe:eHe6eHe+\u0018e'\u0002eDeLeCe:eGeHeLe=eDe6eGe:e?eJeHeIeIeDeDeAe6eOeNeIeDeLeDeGe@\u0003Þ\u001e",
      "eCeGe:e6eAe>eIeN\u0001eLe=e6eI\"eDeDeGe:e9e:eHe8eGe>e7e:eHe=e:eGe:e>eHeIe=e:eBeDeHeIeKe>eKe>e9e:eMe6eBeEeAe:eDe;eLe=e6eIe8e6eCeDeCeAeNe7e:e8e6eAeAe:e9eLe6e<e:eHeAe6eKe:eGeN\u001e",
      "e=e6eKe:e:eKe:eGeHe:e:eC\u0001eIeDeIe=e:e9e:eIeGe>eBe:eCeIeDe;e;e6eBe>eAe>e:eH\u0003Þ\u001e",
      "eIe>eHeCeDeIe6e7eAe:eIe=e6eIeIe=e:e,e6eAeAe(eIeGe:e:eI\u001feDeJeGeCe6eAûeHeGe:e6e8eIe>eDeCeIeDeIe=e>eHeHe:e<eBe:eCeIeDe;eIe=e:e;e>eAeBeLe6eHe:eKe:eCeBeDeGe:e9e>eHeBe>eHeHe>eKe:eIe=e6eCeNeDeJeGeH\u000f\u001e",
      "eIe8e6eAeAe:e9\"eDeDeGe:ûeHe8eAe6e>eBöeEeGe:eEeDeHeIe:eGeDeJeHö\u0003\u001d",
      "eDeLe8eDeJeAe9e=e:e:eKe:eCeIe=e>eCe@e6e7eDeJeIe7eAe6eBe>eCe<eEeDeKe:eGeIeNe6eCe9e;eDeGe8e:e9eAe6e7eDeGeEeGeDe<eGe6eBeHe;eDeGe6eCeNeIe=e>eCe<e7e6e9eIe=e6eIe=e6eEeEe:eCeH\u0014Þ\r",
      "ýe)e6eAe>e7e6eCe6eCe9\u0016eBe:eGe>e8e6eCe6e>e9\u0003\u0016e;eIe:eGeIe=e:e(e:eEeIe:eBe7e:eG\u0006\u0006e6eIeIe6e8e@eH\u0001e>eIeLe6eHeCe:e8e:eHeHe6eGeNe;eDeGe8eDeCeHe:eGeKe6eIe>eKe:eHeIeDeHeDeBe:e=eDeLe:eMeEeAe6e>eCe6eLe6eNeIe=e:e;e6e8eIeIe=e6eIeIe=e:e*e(e<eDeKe:eGeCeBe:eCeIe<e6eKe:\u0007\t\n",
      "eBe>eAeAe>eDeCe9eDeAeAe6eGeHeIeDeIe=e:eCe:eLe:eKe>eAe9eDe:eGeHe9eJe?eDeJeG\u0003e#e:eKe:eGeBe>eCe9eIe=e:e;e6e8eIeIe=e6eIe6eJeIe=eDeGeHeHeJe8e=e6eHe'eDe7e:eGeIe(e8e=e:e:eGeLe6eGeCe:e9eDe;e6e>e9e>eCe<eIe=e:e)e6eAe>e7e6eCe6eHe:e6eGeAeNe6eHe>eC\"e6eN\u0007\u0005\u0005\u0006\u0003e#e:eKe:eGeBe>eCe9eIe=e6eIeIe=e:eNe9e>e9eHeDeCeDeIeDeJeIeDe;eHeDeBe:e=eJeBe6eCe>eIe6eGe>e6eCeBeDeIe>eKe6eIe>eDeC\u0001e7eJeIe7e:e8e6eJeHe:eDe;eIe=e:e)e6eAe>e7e6eCûeHeKe>eDeAe:eCeIe:eCe;eDeGe8e:eBe:eCeIeDe;eIe=e:e7e6eCeDeCeDeEe>eJeBeEeDeEeEe>e:eH\u0003e#e:eKe:eGeBe>eCe9eIe=e6eIe>eCe6eGe:e<e>eBe:eIe=e6eIe>eHe8eDeCeIeGeDeAeAe:e9e7eNeLe6eGeAeDeGe9eH\u0001e>eIe9eDe:eHeCeDeIeBe6eIeIe:eGeLe=eDe>eHe6eJeIe=eDeGe>eOe:e9eIeDe9e>eHeIeGe>e7eJeIe:eIe=e:e6e>e9\u0002\u0002eIe=e:eGeJeAe>eCe<eGe:e<e>eDeCe6eAeLe6eGeAeDeGe9eHeLe>eAeAeHe:e>eOe:e8eDeCeIeGeDeAeDe;e>eIe6eCe9eJeHe:e>eIeIeDeIe=e:e>eGeDeLeCe6e9eKe6eCeIe6e<e:\u0003e#e:eKe:eGeBe>eCe9eIe=e6eIeIe=e>eHeKe:eGeNe6eGe<eJeBe:eCeIe=e6eHe7e:e:eCeJeHe:e9e7eNe=e6eLe@eHe>eCeDeEeEeDeHe>eIe>eDeCeIeDeHe:eCe9e>eCe<e=eJeBe6eCe>eIe6eGe>e6eCe6e>e9eIeD\u001e",
      "eGe6eFûeHe(e6e9e9e6eB\u001d",
      "eJeHeHe:e>eC\u0003e#e:eKe:eGeBe>eCe9eIe=e6eIeIe=e:e)e6eAe>e7e6eCe8eDeCeIe>eCeJe:e9eHe:eAeAe>eCe<eDeEe>eJeBe>eCeHeEe>eIe:eDe;eIe=e:e9e:e6eA\u0003e#e:eKe:eGeBe>eCe9eIe=e6eIeIe=e>eHe>eHe6eAeAe9eDe8eJeBe:eCeIe:e9eDeC\"e>e8e=e6e:eA\"eDeDeGe:ûeHeLe:e7eHe>eIe:e6e7eDeJeIeIe=e:e;e>eAeB\u0003Þ\u000eý\u001c",
      "eJeCe=eDeBe>e8e>e9e:eH\u0003e(eIe6eIe>eHeIe>e8eHe6eGe:\"eDeDeGe:ûeHeLe:e6e@e:eHeIeEeDe>eCeI\u0001e6eCe9e>eIe>eHeHeJeGeEeGe>eHe>eCe<eIe=e6eIe=e>eHe8eGe>eIe>e8eHe9eDeCûeIe9eLe:eAeAeDeCeIe=e:eBeAeDeCe<e:eG\u0003e)e=e6eIûeHe7e:e8e6eJeHe:eIe=e:eNe@eCeDeLe6eAeAeIeDeDeLe:eAeAeIe=e6eI\"eDeDeGe:e>eHe8eDeGeGe:e8eI\u000fe)e=e:e*eCe>eIe:e9e(eIe6eIe:eHe=e6eKe:e6e;e6eGe<eGe:e6eIe:eGe=eDeBe>e8e>e9e:eGe6eIe:üe7eDeIe=e<eJeC\u0002e6eCe9eCeDeC\u0002e<eJeCýeIe=e6eCeBeDeHeIeDeIe=e:eGe;e>eGeHeIeLeDeGeAe9e8eDeJeCeIeGe>e:eH\u0003\u001d",
      "e>eHeBe6e>eCeBe>eHeIe6e@e:e>eHeIe=e6eIe=e:e9eDe:eHeCeDeIeJeHe:eEeDeEeJeAe6eIe>eDeCe8eDeGeGe:e8eIe:e9e9e6eIe6\u0001e=e>eHeHe:e8eDeCe9eBe>eHeIe6e@e:e>eHeIe=e6eIe=e:e9eDe:eHeCeDeIe8e>eIe:e=e>eHeHeDeJeGe8e:eHüe6eCe9\u0001e6eHeNeDeJe8eDeGeGe:e8eIeAeNeEeDe>eCeIeDeJeI\u0001e=e:eEeGeDe7e6e7eAeNeJeHe:eHe9e>e;e;e:eGe:eCeIeGe:eEeDeGeIe>eCe<eBe:eIe=eDe9eHe;eDeGeIe=e:e9e>e;e;e:eGe:eCeIe8eDeJeCeIeGe>e:eHý\u0003\u0016e<eDeDe9e8eDeBeEe6eGe>eHeDeCeDe;e>eCeIe:eGeCe6eIe>eDeCe6eAe=eDeBe>e8e>e9e:eGe6eIe:eHe8e6eCe7e:e;eDeJeCe9eDeCeIe=e:eGe:eAe6eIe>eKe:eAeNeCe:eJeIeGe6eAe<eJeCe8e>eIe:\u0003e8eDeBeLe:e7eHe>eIe:\u0003Þe#eDeIeHeJeGeEeGe>eHe>eCe<eAeN\u0001e<eJeCe8e>eIe:\u0001eIeDeD\u0001e8eDeBeEe6eGe:eHe9e6eIe6e;eGeDeBe9e>e;e;e:eGe:eCeIeNe:e6eGeH\u0002\u0002e6eH\u001e",
      "e@eCeDeLe;eGeDeBeEe:eGeHeDeCe6eAe:eMeEe:eGe>e:eCe8e:\u0001e>eIe>eHeFeJe>eIe:e9e>e;e;e>e8eJeAeIeIeDe9eDe8eDeBeEe6eGe>eHeDeCeHeDe;e8eGe>eBe:eHeIe6eIe>eHeIe>e8eHe9eJe:eIeDe9e>e;e;e:eGe:eCe8e:eHe>eCeGe:eEeDeGeIe>eCe<e;eGe:eFeJe:eCe8eNe6eCe9eBe:eIe=eDe9eDeAeDe<eN\u0003e)e=e:e<eJeCe=eDeBe>e8e>e9e:eGe6eIe:eHe;eDeGeIe=e:e8eDeJeCeIeGe>e:eH\"eDeDeGe:eBe:eCeIe>eDeCe:e9\u0001e6e8e8eDeGe9e>eCe<eIeDe<eJeCe8e>eIe:\u0001e6eGe:\u000fÞ\u001fe6eEe6eC\u000f\u0005\u0003\u0005\u0007eEe:eG\u0006\u0005\u0005\u0001\u0005\u0005\u0005ü\u0006\u000e\u000e\tý\u001aeCe<eAe6eCe9\u0004e,e6eAe:eH\u000f\u0005\u0003\u0006\u0006eEe:eG\u0006\u0005\u0005\u0001\u0005\u0005\u0005ü\u0006\u000e\u000e\f",
      "ý\u001c",
      "e:eGeBe6eCeN\u000f\u0005\u0003\u0007\u0007eEe:eG\u0006\u0005\u0005\u0001\u0005\u0005\u0005ü\u0006\u000e\u000e\tý\u0016eJeHeIeGe6eAe>e6\u000f\u0005\u0003\t\teEe:eG\u0006\u0005\u0005\u0001\u0005\u0005\u0005ü\u0006\u000e\u000e\týe*eCe>eIe:e9e(eIe6eIe:eH\u000f\b\u0003\f",
      "\u0007eEe:eG\u0006\u0005\u0005\u0001\u0005\u0005\u0005ü\u0006\u000e\u000e\u000eýÞ\u0018eGe>eIe>e8eHe;e6e>eAeIeDe8eGe:e9e>eI\"eDeDeGe:eLe>eIe=eCeDeIeBe6e@e>eCe<eIe=e:eHe6eBe:eBe>eHeIe6e@e:eIe=e6eIeHeDeBe:e<eJeCe8eDeCeIeGeDeAe6e9eKeDe8e6eIe:eHeBe6e@e:\u0002\u0002e8eDeCe8eAeJe9e>eCe<eIe=e6eIe<eJeCeDeLeCe:eGeHe=e>eEöeAe:e6e9eHöeIeDeKe>eDeAe:eCe8e:\u0003\u001e",
      "eCe;e6e8eI\u0001\"eDeDeGe:eBe:eCeIe>eDeCeHeHe:eKe:eGe6eAe8eDeJeCeIe:eG\u0002e:eMe6eBeEeAe:eH\u0001e6eCe9eBeDeGe:eHeJe8e=e8eDeJeCeIe:eG\u0002e:eMe6eBeEeAe:eHe8e6eCe>eCe9e:e:e9e7e:e8e>eIe:e9\u0003\u001e",
      "eIe>eHe>eCeIeJe>eIe>eKe:eAeNeDe7eKe>eDeJeHeIe=e6eIe<eJeCeHe9eDeCeDeIe6e8eIeJe6eAeAeNe8e6eJeHe:eKe>eDeAe:eCe8e:\u0002\u0002e7eJeIe>eIe>eHe:eFeJe6eAeAeNe>eCeIeJe>eIe>eKe:eAeNeDe7eKe>eDeJeHeIe=e6eIeIe=e:eNeBe6e@e:eIe=e:eKe>eDeAe:eCe8e:eIe=e6eIe>eHe8eDeBeBe>eIeIe:e9eBeDeGe:e9e:e6e9eAeN\u0003\u001e",
      "eIe>eHeIe=e:eHe:e8eDeCe9e>eCeIeJe>eIe>eDeCeLe=e>e8e=e<eJeCeGe>e<e=eIeHe<eGeDeJeEeHeAe>e@e:eIe=e:e#e'\u0016eHe:e:e@eIeDeDe7eHe8eJeGe:eJeHe>eCe<e;eGe6eJe9eJeAe:eCeIe9e6eIe6e7eNeIe=e:eAe>e@e:eHeDe;\u001feDe=eCö\"e6eGeNö!eDeIeI\u0003Þe)e=e:e<eJeCe8eDeCeIeGeDeAeBeDeKe:eBe:eCeI\u0001eDeCeIe=e:eDeIe=e:eGe=e6eCe9\u0001e9e>eHeIeGe6e8eIeHe;eGeDeBeIe=e:eGe:e6eAe8e6eJeHe:eHeDe;eKe>eDeAe:eCe8e:\u0002\u0002eEeDeKe:eGeIeN\u0001eEe6eGe6eCeDe>e6\u0001eIe=e:öeLe6eGeDeCe9eGeJe<eHöe6eCe9e6eCeIe>eHe:eMeJe6eAe>eIeN\u0003\u001e",
      "e;eIe=e:eHe:e8e6eJeHe:eHeLe:eGe:e6e9e9eGe:eHeHe:e9\u0001e<eJeCeDeLeCe:eGeHe=e>eEe>eCeIe=e:e*eCe>eIe:e9e(eIe6eIe:eHeLeDeJeAe9eCeDeIe7e:e6eEeGeDe7eAe:eBüe7eJeIe6eAeHeDeJeCeCe:e8e:eHeHe6eGeNý\u0010e?eJeHeIeAe>e@e:e>eIe>eHe>eCe(eLe>eIeOe:eGeAe6eCe9\u0003Þ\u0006\u0005ý\u0018e6eCe6e9e6e6eBeBeJeCe>eIe>eDeCeEeJeGe8e=e6eHe:\u0003e.eDeJeLeGe>eIe:\u000fÞ\u0017eDeLeAe>eCe<eHe=eDeLeH\"eDeDeGe:e8e6eHeJe6eAeAeNe7eJeNe>eCe<e6eBeBeJeCe>eIe>eDeCe6eIe6eCe$eCeIe6eGe>eDe,e6eAeBe6eGeI\u0003\u001d",
      "e:e6eHe@eHeJeHeIeDöeAeDeDe@e6eIeLe=e6eI\u001e",
      "\u0001e6e;eDeGe:e>e<eCe8e>eIe>eOe:eC\u0001eLe6eHe6e7eAe:eIeDe9eDe6eIe6eAeDe8e6eA\u0018e6eCe6e9e>e6eCe,e6eA\u0002\"e6eGeI\u0003ö\u001d",
      "e:e7eJeNeHeHe:eKe:eGe6eAe7eDeMe:eHeDe;e6eBeBeJeCe>eIe>eDeCeLe>eIe=eDeJeIe6eFeJe:eHeIe>eDeCe7e:e>eCe<eGe6e>eHe:e9\u0003öe)e=e6eIûeHeGe>e<e=eI\u0003\u001e",
      "e8eDeJeAe9e7eJeNe6eHeBeJe8e=e6eBeBeJeCe>eIe>eDeCe6eH\u001e",
      "eLe6eCeIe:e9\u0001e>eC\u0018e6eCe6e9e6\u0003\u0018e6eCe6e9e>e6eCeDe;e;e>e8e>e6eAeHe=e6eKe:eEeDe>eCeIe:e9eDeJeIeIe=e6eIeIe=e:e7eJeNe>eHe;e6e@e:e9eDeGe>eAeAe:e<e6eA\u0003Þe$eCe8e:e6e<e6e>eC\u0001eNeDeJe;e6e>eAeIeDe9e>eHeIe>eCe<eJe>eHe=e7e:eIeLe:e:eCeGe:e<eJeAe6eGe;e>eAeBe:e9e>eIe>eCe<e6eCe9öe;e6e@e>eCe<öüe6eLeDeGe9eLe=e>e8e=ö\u0018e6eCe6e9e>e6eCeDe;e;e>e8e>e6eAeHöe=e6eKe:eCe:eKe:eGeJeHe:e9\u0010e;eDeGeHeJe8e=e6e9e>eHeIeDeGeIe>eDeC\u0001\"eDeDeGe:eLeDeJeAe9e=e6eKe:e7e:e:eCe7eDe>eAe:e9e6eAe>eKe:e7eNe=e>eHe8eGe>eIe>e8eHý\u0003\u001e",
      "e;\"eDeDeGe:eHe>eBeEeAeNe8e=eDeHe:eCeDeIeIeDeHe=eDeLe=eDeLe=e:eGe:eKe:e6eAe:e9e=e>eHe>e9e:eCeIe>e;e>e8e6eIe>eDeCeIeDeIe=e:eHe6eAe:eHeEe:eGeHeDeC\u0001eIe=e:eGe:e>eHeCeDeIe=e>eCe<e;eGe6eJe9eJeAe:eCeIe6e7eDeJeIeIe=e6eI\u0003\u001d",
      "e:eBe6e9e:eCeDe8eAe6e>eBeHeLe=e6eIeHeDe:eKe:eGe>eCeIe=e:e;e>eAeBe6e7eDeJeIeIe=e:eCe:e:e9eIeDeHe=eDeLeDeGeCeDeIeHe=eDeLe>e9e:eCeIe>e;e>e8e6eIe>eDeC\u0003\u001d",
      "e>eHe8eAe6e>eBeIe=e6eIe>eIe>eHeEeDeHeHe>e7eAe:eIeDeEeJeGe8e=e6eHe:e6eBeBeJeCe>eIe>eDeCe>eCeHeJeEe:eGeBe6eGe@e:eIeHe>eHe>eCe9e:eEe:eCe9e:eCeIe;eGeDeBeIe=e6eIe8eAe6e>eB\u0003Þ\u0006\u0006ý\u001d",
      "e:eHeIeDeCûeHe6eAeAe:e<e:e9eAeNe>eBeEeAe>e:e9eGe6e8e>eHeB\u0003e.eDeJe8eDeCe8eAeJe9e:e;eGeDeB\u001d",
      "e:eHeIeDeCûeHeDeLeCeLeDeGe9eHeIe=e6eI\u001d",
      "e:eHeIeDeCeLe6eHeHeDeBe:e=eDeLeEeDeGeIeGe6eNe:e9e6eHeGe6e8e>eHeI\u0003\u001e",
      "e;e6eCeNeIe=e>eCe<\u0001e>eIe>eHe=e>eHeDeLeCe;e6e>eAeJeGe:eIe=e6eIe=e:e9e>e9eCeDeIe8eAe6eGe>e;eNeLe=e6eIe=e:eBe:e6eCeIeLe>eIe=öe=e6eKe>eCe<e6eBeDeGe:eBe>eMe:e9e:eIe=eCe>e8e>eIeNö\u0003\u001d",
      "e:eHeIeDeCûeHe6eCeHeLe:eGeHe>eCeIe=e:e>eCeIe:eGeKe>e:eLeLe:eGe:e:eKe6eHe>eKe:e6eCe9eJeCe=e:eAeEe;eJeA\u0003e,e=e>eAe:eIe=e>eHe8e6eCe>eCeEe6eGeIe7e:e:eMeEeAe6e>eCe:e9eLe>eIe=e=e>eHe6e<e:e6eCe9eBe:eCeIe6eAe8eDeCe9e>eIe>eDeC\u0001e>e;e=e:e>eHeJeCe6e7eAe:eIeDe9e:e;e:eCe9eIe=e:e>eCeIe:eGe:eHeIeHeDe;eIe=e:e#e'\u0016\u0001e=e:eHe=eDeJeAe9eCeDeIe7e:eIe=e:e>eGeHeEeDe@e:eHeBe6eC\u0003\u001e",
      "eCeIe=e>eHe8e6eHe:\u0001\u001d",
      "e6eCeAeDeCûeHe'e6eOeDeGe8e6eCe7e:e6eEeEeAe>e:e9eIeD\u001d",
      "e:eHeIeDeC\u0002\u0002e=e:e>eHeEeGeDe7e6e7eAeNeCeDeIeGe6e8e>eHeI\u0001e7eJeIe>eCe8eDeBeEe:eIe:eCeI\u0003e.eDeJeGe6e8e8eJeHe6eIe>eDeCeHeDe;e>eCe6eEeEeGeDeEeGe>e6eIe:e8eJeIeIe>eCe<e6eGe:eDeCe8e:e6e<e6e>eCe:eCeIe>eGe:eAeNeJeCeHeJeEeEeDeGeIe:e9\u0002\u0002e>eCe;e6e8eI\u0001e>eIe>eHeFeJe>eIe:e8eAe:e6eGe;eGeDeBeLe6eIe8e=e>eCe<eIe=e6eIeEe6eGeIe>e8eJeAe6eGeHe8e:eCe:eIe=e6eIeIe=e:eGe:e>eHeCeDeIe6eHe>eCe<eAe:e8eJeIe;eGeDeBeIe=e:eEeDe>eCeIe6eIeLe=e>e8e=\"eDeDeGe:e6eHe@eH\u001d",
      "e:eHeIeDeCe6eHe:e8eDeCe9eIe>eBe:e;eDeGeIe=e:e8e6eJeHe:eDe;eIe=e:e=e>e<e=e:eGeKe>eDeAe:eCe8e:e>eCeIe=e:e(eIe6eIe:eH\u0001e6eCe9eIe=e:eEeDe>eCeIeLe=e:eCe=e:eBe:eCeIe>eDeCeHeIe=e: e6eNeAe6e'eDeAeAe6eCe9e>eCe8e>e9e:eCeI\u0003\u001e",
      "e;\u001d",
      "e:eHeIeDeCeBe6e@e:eHe=e>eBeHe:eAe;eAeDeDe@eAe>e@e:e6e;eDeDeA\u0001eIe=e6eIeHe=eDeJeAe9e=e6eGe9eAeNe7e:e7eAe6eBe:e9eDeC\"e>e8e=e6e:eA\"eDeDeGe:\u0003Þ\u0018eDeCe8eAeJeHe>eDeCÞe.eDeJeLeGe>eIe:\u000fö\u0017eDeLeAe>eCe<e;eDeG\u0018eDeAeJeBe7e>eCe:e>eHe9e>eHe=eDeCe:eHeI\u0003\u001e",
      "eIe>eHe;eGe6eJe9eJeAe:eCeI\u0003e)eDeIeGe6eHe=\u001d",
      "e:eHeIeDeC\u0001e>eIe:eKe:eCeJeHe:eHeIe=e:e6eJe9e>eD\u0004eKe>e9e:eDe:e9e>eIeDeGeIeDe6eHeHe:eBe7eAe:e6\u001d",
      "e:eHeIeDeCeHeEe:e:e8e=eIe=e6eI\u001d",
      "e:eHeIeDeCe9e>e9eCeDeIe<e>eKe:\u0001e6eCe9eHe:eFeJe:eCe8e:eHe>eBe6e<e:eHe6eCe9e8e6eGe:e;eJeAeAeNe=e>e<e=eAe>e<e=eIe:e9eIe:eMeIeIeDeHeEe>eCeIe=e:eKe>e:eLe:eGûeHeBe>eCe9eIeDe6eLeGeDeCe<e8eDeCe8eAeJeHe>eDeC\u0003öe#eDeCe:eDe;eIe=e>eHe>eHeIeGeJe:\u0003e,e=e6eIe>eHeIeGeJe:e>eHeIe=e6eI\u0017eDeLeAe>eCe<e;eDeG\u0018eDeAeJeBe7e>eCe:e>eHe6e9e>e6eBeDeCe9e>eCeIe=e:eHeBe6eAeAeLeDeGeAe9eDe;e7e>e<eHe8eGe:e:eCe9eDe8eJeBe:eCeIe6eGe>e:eH\u0001eDeCe:eIe=e6eIeHe=e>eCe:eHe7eGe>e<e=eIeAeNe6eCe9e>eAeAeJeBe>eCe6eIe:eHe6eCeDe;eIe:eCeBe>eHeJeCe9e:eGeHeIeDeDe9e6eHeEe:e8eIeDe;\u0016eBe:eGe>e8e6eCe8eJeAeIeJeGe:\u0003\u001e",
      "eIe>eHeCeDeIe6e;eAe6eLeAe:eHeHe9e>e6eBeDeCe9\u0002\u0002eIe=e:ö\t\r",
      "e=eDeJeGeHöeHe8e:eCe:e>eCeEe6eGeIe>e8eJeAe6eGeHeJe;e;e:eGeHe;eGeDeBe7e6e9e:e9e>eIe>eCe<\u0001eIe=e:eHeIe6eIe>eHeIe>e8eHe6eGe:eHeJe7eDeEeIe>eBe6eA\u0001e6eCe9\u001d",
      "e:eHeIeDeCe<e:eIeHe6e7e>eIeBeDeGe:e7e6eHe=e>eCe<eIe=e6eCe=e:e9e:eHe:eGeKe:eH\u0003e$eIe=e:eGeIe=e6eCeIeDeLe6eGe9eHeIe=e:e#e'\u0016\u0001eIe=e:eBeDeKe>e:eIeGe>e:eHe=e6eGe9eIeDe6eKeDe>e9eHe>eBeEeAe>eHeIe>e8e8eDeCe8eAeJeHe>eDeCeH\u0001e6eCe9e8eDeBe:eHeJeEeLe>eIe=eHeDeBe:eIe=eDeJe<e=eIe;eJeAe6eCeHeLe:eGeH\u0003e)e=e:eBeDeHeIeHe=e6eBe:e;eJeAeEe6eGeIeDe;eIe=e:eDeCe<eDe>eCe<e6eIeIe6e8e@eHe6e<e6e>eCeHeI\"eDeDeGe:e>eHeIe=e6eIeIe=e:eHe:e6eCeHeLe:eGeHe=e6eKe:e7e:e:eCe6eAeAe7eJeIe>e<eCeDeGe:e9e7eNe=e>eHe8eGe>eIe>e8eH\u0003\u001d",
      "e6e9\"eDeDeGe:eLe6eCeIe:e9eIeDeBe6e@e:e6eEeGeDeEe6e<e6eCe9e6e;e>eAeB\u0001e=e:eLeDeJeAe9e=e6eKe:eJeHe:e9eDeIe=e:eGeBe6eIe:eGe>e6eA\u000feEe=eDeIeDeHe;eGeDeB\u0016eBe:eGe>e8e6ûeH\u001aeBe:eGe<e:eCe8eNe'eDeDeBeH\u0003Þ\u0018e:eGeIe6e>eCeAeN\u0001\"eDeDeGe:e>eHeDeCe:eDe;eIe=e:eBeDeHeIeIe6eAe:eCeIe:e9e;e>eAeBeBe6e@e:eGeHe>eCeIe=e:e*eCe>eIe:e9e(eIe6eIe:eHeIeDe9e6eN\u0001e6eCe9e=e>eHe;e>eAeBe;eJeAeAeNe9e:eHe:eGeKe:e9e>eIeHe$eHe8e6eG\u0003e)e=e:eHe=eGe>eAeAüe6eCe9eGe:eBe6eGe@e6e7eAeNeJeCeHeJe8e8e:eHeHe;eJeAý\u001e",
      "eCeIe:eGeCe:eIe8e6eBeEe6e>e<eCeIeDöeGe:eKeDe@e:öe=e>eHe6eLe6eGe9eHe:e:eBeHeIeDe7e:eBeDeIe>eKe6eIe:e9eBeDeGe:e7eNe?e:e6eAeDeJeHeNeIe=e6eCe7eNeGe:e6eAe8eDeCe8e:eGeCeHe6e7eDeJeIeIe=e:e;e>eAeBûeHe6e8e8eJeGe6e8eN\u0003\u001e",
      "eIe>eHeCeDeIeDeCeAeNeIe=e:e=e>e<e=e:eHeIe<eGeDeHeHe>eCe<eCeDeC\u0002eBeJeHe>e8e9eDe8eJeBe:eCeIe6eGeNeDe;e6eAeAeIe>eBe:\u0001e6eBeDeCe<eIe=e:eJeHe:eGeHeDe;eIe=e:eAe6eGe<e:eHeI\u001e",
      "eCeIe:eGeCe:eIe;e>eAeBe9e6eIe6e7e6eHe:\u0001\u001e",
      "\"\u0019\u0017\u0001e>eIe>eHe6eAeHeDeIe=e:e=e>e<e=e:eHeIeGe6eIe:e9eDeCe:\u0003\u0016e8e8eDeGe9e>eCe<eIeDeIe=e:!\u0016e)e>eBe:eH\u0001eIe=e:e9eDe8eJeBe:eCeIe6eGeNe<e:eCeGe:öeDeLe:eHe6e=eJe<e:e9e:e7eIeIeD\"e>e8e=e6e:eA\"eDeDeGe:ö\u0002\u0002e6e;eIe:eG\u0017eDeLeAe>eCe<ûeHeHeJe8e8e:eHeH\u0001e;e>eAeBeHeAe>e@e:öe(eEe:eAeAe7eDeJeCe9öe6eCe9ö\u0018e6eEeIeJeGe>eCe<eIe=e:\u001beGe>e:e9eBe6eCeHöeLe:eGe:eIe6e@e:eCeHe:eGe>eDeJeHeAeNe6eCe9eHe=eDeLeCe>eCeBe6eCeNeBeDeGe:eIe=e:e6eIeGe:eHeIe=e6eCeDeIe=e:eGeLe>eHe:eAe>e@e:eAeN\u0003Þ\u0017eJeIeEe:eGe=e6eEeHeIe=e:e8e6eBeEe6e>e<eCe6e<e6e>eCeHeI\"eDeDeGe:e>eHeGe:e6eAeAeNeBeDeIe>eKe6eIe:e9e7eNe6eCeDeIe=e:eGeGe:e6eHeDeC\u0003\u001d",
      "e>eHeCe:eMeIeEeGeDe?e:e8eIe=e6eHeIe=e:eLeDeGe@e>eCe<eIe>eIeAe:ö\u001be6e=eGe:eCe=e:e>eI\u000e\u0004\u0006\u0006\u000fe)e=e:eIe:eBeEe:eGe6eIeJeGe:e6eIeLe=e>e8e=e;eGe:e:e9eDeBe7eJeGeCeHö\u0001e6eCe9e=e:e>eCeIe:eCe9eHeIeDeAe6eJeCe8e=e>eIeHe=eDeGeIeAeNe7e:e;eDeGe:eIe=e:eCe:eMeIe*e(eEeGe:eHe>e9e:eCeIe>e6eAe:eAe:e8eIe>eDeC\u0003\u001e",
      "eIe>eHeJeCeAe>e@e:eAeN\u0001e=eDeLe:eKe:eG\u0001eIe=e6eIeIe=e:eJeCe;e6e>eGe6eIeIe6e8e@eHe6e<e6e>eCeHeIe=e>eBeLe>eAeAe=e6eKe:eBeJe8e=eDe;e6eCe>eBeEe6e8eI\u0003\u0016e;eIe:eGe6eAeA\u0001eIe=e:eHe6eBe:e@e>eCe9eDe;e%e'e7eAe>eIeOeLe6eHeHeIe6eGeIe:e9e6e<e6e>eCeHeIeIe=e:eEeGe:eKe>eDeJeHeGe:e8eDeGe9\u0002e=eDeAe9e>eCe<e9eDe8eJeBe:eCeIe6eGeN\u000föe'eDe<e:eGú\"e:öe7eN\"e>e8e=e6e:eA\"eDeDeGe:\u0003Þe.eDeJeGeHeHe>eCe8e:eGe:eAeN\u0001Þ\u001aeGe>e@\"ÊeAeAe:eGÞe)e=e>eHeIe:eMeIe>eHe>eCeIe=e:eEeJe7eAe>e8e9eDeBe6e>eC\u0003ÞÞÞÞ\n",
      "50\n"
     ]
    },
    {
     "name": "stdout",
     "output_type": "stream",
     "text": [
      "\n",
      "\n",
      "\n",
      "\n",
      "\n",
      "\n",
      "AdefenseofMichaelMooreand\"BowlingforColumbine\"(Op-Ed)ByEloquenceWedAug13th,2003at09:00:09AMEST\n",
      "\n",
      "ThisisanopenlettertoDavidHardy,authorofBowlingforColumbine:DocumentaryorFiction?,probablythemostcomprehensiveamongmanyrebuttalsoftheOscar-winningdocumentary.Criticshavenowgonesofarastocallfortherevocationoftheaward.Theirchancesaresmall,however,astheirargumentsrelyonpolemic,exaggerationandmisrepresentation--inotherwords,onthesametechniqueswhichtheyaccuseMooreofusing.\n",
      "DearDavidHardy,\n",
      "ItisfascinatingtowatchtheorganizedcharacterassassinationofMichaelMoorethathasbeengoingonintheUnitedStatessincethereleaseofhislastdocumentary.Inatimeofsimple-mindedpatriotism,loud,clearanddissentingvoiceslikeMr.Moore'sareperceivedasdisturbingandhavetobesilenced,partiallythroughwellfundedpublicrelationscampaigns,partiallythroughconservative\"grass-roots\"propaganda.Notsurprisingly,muchofthecriticismofMoore'sfilmismisguidedoroutrightwrong,oftenvastlymoreinaccuratethanMoore'sworkitself.\n",
      "\n",
      "MooreportraystheNRAasanunethical,dishonestorganization;heseestheparanoiaandfearintheUnitedStatesasaprimarycauseofviolence,andhedoesnotseegunownershipitselfasaproblem.Hisdocumentaryisfullofsubtlehumor,jaw-droppingdialogueanddarkcontrasts.Allinall,itisanaccurateportrayalofAmerica'sgunandviolenceculture.ItalsoraisesquestionsaboutAmerica'sforeignpolicyofrecentdecades,questionswhichhavebeenallbutignoredbyMoore'scritics.\n",
      "Onyourwebpage,youstatethat\"Moore'sresolutionisquestionable.Afterall,earlyinthemoviehediscardsthepossibilitythatplayingviolentvideogamesandwatchingviolentflickscancauseviolence--becauseCanadianslike,andJapanesepositivelylove,those.Ifviolentmoviesandviolentvideogamescannotcauseviolence--thenhowcannewscastsaboutviolencedoso?\"\n",
      "Thisisafaultygeneralization.If,asMooreimplies(althoughneverstatesasfact),videogamesandviolentmoviesarerelativelyharmless,itdoesnotlogicallyfollowthatalltypesofmediapresentationareharmless.Thereisahugedifference,forexample,betweenplayingagamelike\"Quake\"andlisteningtoaradiobroadcastthattellsyouthatyourfamilywillbekilledunlessyoutakeactiontokillothersnow.ThelatteristhekindofmediapropagandathatwasusedtounleashagenocideinRwandain1994,whichkilled800,000people.Similarly,themainmotivationforthecrusades(beyondthepromiseofwealth)wasthatChristiansweresupposedlybeingslaughteredandhadtobesaved.\n",
      "Obviously,mediapropagandacanincitepeopletokill.Interactivefictionlikevideogames,ontheotherhand,presentsviolenceinanarrativecontext,whichmayverywelldesensitizeparticipantstosaidviolence,butnocausativelinkhaseverbeenproven.Moore'shypothesis(whichapparentlycomesatleastinpartfromthebook\"CultureofFear\"byBarryGlassner,alsoadvertisedonMoore'swebsite)isthattheconstantbombardmentwithmessagesoffearcaninciteparanoia,whichitselfcanleadtoviolentacts.Thisisconsistentwiththekindofmedia-incitedviolencedescribedabove,andinnorelationshipwhatsoevertothetheoryofvideogameormusicincitedviolence.Itisnosurprise,however,thatUS(andEuropean)mediadonotquestiontheirownpropagandaoffear.\n",
      "Moore'ssecondhypothesisisthatAmerica'sforeignpolicymaycontributetothebeliefthatviolenceisanappropriatemeanstosolveconflicts,ahypothesiswhichissharedbymanysociologistsandpsychologists.Childrenwhogrowupinwar-tornregionsareknownforhavingsimilarviews--warisperceivedasanormalpartofexistence,violenceasanaturalwaytosolvedisputes.Inaweakersense,thesamemessageisprojectedtoAmericanchildren,whogrowupbeingtoldthatitisnotacceptabletobeviolenttooneanother,butwhosimultaneouslyhavetoendurecorporalpunishmentandmediamessagesabouthow\"theenemiesoffreedom\"arepunished.Moore'sfilmwasmadebeforethedeadbodiesofQusayandUdayHusseinwereparadedonnationalTV.Americansweregloatingoverthisdementedcorpseshow:\n",
      "\"Theysquealedlikelittlepiggiestoo,soyou'llhavetomakedowith'oink,oink,squeeeeeeeallll'fortheirlastwords.ThatgoesforyourgrandsonMustafatoo,bytheway.StillthinkfuckingwiththeU.S.wasagoodidea,Sammy?\"\n",
      "Mustafawas14yearswhenhewaskilled.Americanscheerthekillingofchildren,yetwonderwhytheirownchildrengrowuptobemoreviolentthanthoseinothernations.ItisparadoxicalnotionslikethisonewhichMoore'sfilmseekstoaddress.\n",
      "Inaccuracies\n",
      "YourwebpagelistanumberofallegedinaccuraciesinMoore'smovies.ItistruethatMoore'sfilmissometimesunintentionallydeceptive,buttocallitfraudulentishyperboletotheextreme.Itisnomoresothananyothersuccessfuldocumentaryofthelastdecades.Let'slookatsomespecificcriticisms:\n",
      "1)Thebankscene,listedonyourwebsiteonaseparatepage.Criticshavestatedthatthisscenewas\"staged\",butinthebankinterview,theofficialtellsMoorethatthebankhasitsownvaultstoringabout500weaponsatanygiventime.Itisalsoalicensedfirearmsdealerwhichcanperformitsownbackgroundchecks.InaninterviewwiththeWallStreetJournal,linkedfromyoursite,anemployeeclaimsthatthegunwouldhavebeen\"normally\"pickedupatanotherdealer.Itisnotexplainedwhat\"normally\"issupposedtomean,butthatclaimflatlycontradictsthestatementofthebankofficialinthefilm.Thissoundsmorelikealatercorrectionforpublicrelationspurposes,butofcoursenobodyquestionsthebankclaimswhentheycanbeusedagainstMoore.\n",
      "TheonlythingthatMoorecompressedisthetimeframe.AccordingtothesameWSJinterview,\"Typically,you'relookingataweekto10dayswaitingperiod.\"Thisisplausible--butentirelyirrelevantforthemovie,whichalreadymakesitquiteclearthatabackgroundcheckisbeingperformed.Moore'sdetractorshavesometimesextendedthose7-10daystoseveralweeks,contradictingthebank'sownestimate.\n",
      "Thereisnothinginaccuratewhatsoeveraboutthebankscene.Thebankdoesexactlywhatitadvertises:Ithandsoutgunsfromitsvaulttothosewhoopenanaccount.Thesillycriticismsofthesceneobscuretherealobscenityofthesituation:abankhandingoutgunstoitscustomers,higlightingtheutterlaxnessofhowAmericansdealwithdeadlyweaponsandaloveoffirearmsthatbordersonthereligious.\n",
      "2)TheLockheed-Martininterview.Thisisperhapsthecriticismrepeatedthemostoften,anditalsothemostinaccurate.First,theactualquotesfromthefilmareoftenreproducedincorrectly.Thedialoguegoesasfollows:\n",
      "Moore:\"Soyoudon'tthinkourkidssaytothemselves,gee,dadgoesofftothefactoryeveryday-hebuildsmissiles.Theseareweaponsofmassdestruction.What'sthedifferencebetweenthatmassdestructionandthemassdestructionoveratColumbineHighSchool?\"\n",
      "McCollum(PRperson):\"IguessIdon'tseethatspecificconnectionbecausethemissilesthatyou'retalkingaboutwerebuiltanddesignedtodefendusfromsomebodyelsewhowouldbeaggressorsagainstus.\"\n",
      "First,notetheword\"our\"inMoore'squestion.MooreisnotfromColorado--hisquestionisgeneric,notmeanttoreferspecificallytotheLockheedMartinplantinquestion.McCollumunderstandsitthisway--otherwisehewouldprotestagainsttheplantbeingmischaracterized.However,criticsofMoorehavecleverlyignoredMcCollum'sresponseandpresentedMooreasspreadingliesabouttheLockheedplant.\n",
      "EvenLockheeddidnotbelievethepublictobethatgullible.InresponsetooneMooredetractor,McCollumwrote:\"AlthoughotherunitsofLockheedMartinCorporationelsewhereinthecountryproduceweaponstosupportthedefenseoftheU.S.,wemakenoweaponsattheLittleton-areafacilityMoorevisited.\"Ofcourse,criticshaveconvenientlyignoredthefactthatLockheedMartindoessupplyweaponsofmassdestructiontotheUSmilitary,andthatthecompanyisthenation'slargestmilitarycontractor.AsMoorecorrectlypointsout,itisbizarreforasocietytoopenlyembracetheproductionofdestructiveweapons,butontheotherhandseenoconnectionofthistoeverydayviolence--childrenlearnbyimitatingadults.\n",
      "Yes,MooremakesthispointthroughslightexaggerationbymovingwiththecamerathroughtheLMplant--buthemakesnoincorrectstatement.Itistypicalforhiscriticstojumponwhatisatmostaslightlymisleadingimplication,butindoingso,theythemselveshave,unlikeMoore,mademanyincorrectclaims.\n",
      "3)DenverNRAmeeting.CriticslikeyourselfclaimthatMoorehasmassivelydistortedevidencetosupporthispointthatCharltonHestonhaseffectivelyinsultedthevictimsoftheColumbinetragedybyholdingarallyinDenvershortlyafterwards.\n",
      "First,the\"frommycold,deadhands\"part:ThisisusedbyMooreasavisualcitationtointroduceHeston.Itisperhapsoneofhismostfamousquotes,shownonnationalTVevenhereinGermany.Ittellsviewers:Aha,thisisthepersonwearetalkingabout.NowheredoesMooresayorimplythatthesewordswereutteredattherallyinDenver,andinfact,theirreptitionlaterinthemovieatanotheroccasion(oddlyclaimedbycriticstobeagain\"misattributed\")issimplyareminderofthis.ItisMoore'swaytosay:Viewers,meetCharltonHeston,gunnutextraordinaire.\n",
      "The\"visualofabillboardandanarration\"isviewedbyyouasevidencethatMooreistryingtosomehowtiethetwoeventstogether,wheninreality,itisquiteobviousthathedoesittoseparatetheintroductionofHestonfromhisspeechinDenver.Mooreisaprofessionalfilmmaker--heconcentratesonmaximumimpactofeachofthestatementshecites,andtoaccomplishthateffect,usessubtleinterludesinsteadoflong-windedintroductions.Thisisacommontechnique,butbecauseconservativereadersarenotfamiliarwiththebasicsoffilmmaking,theybelievecriticswhoclaimthatheis\"distorting\"theinterview.Whathedoesisstandardfilmmakingpractice.\n",
      "Thesamegoesfortheinterviewwhichfollows.Moore'scriticswouldexpectustohavehimquoteHestoninhisentirety,havehimpresentfullythePRthattheNRAhasusedtojustifyitsrallyinDenverforreasonsof\"balance\".TheNRAwasfullyawareofthescandalitwouldcausethroughitsrallyanddecidedtopushonbecausetheybelievedtohaveenoughmediasupporttosuccessfullydoso.Theywereright.Youclaimthattherewas\"nowaytochangelocation,sinceyouhavetogiveadvancenoticeofthattothemembers,andtherewereupwardsof4,000,000members.\"10daysaremorethanenoughtogiveadvancewarningofachangeinlocationordate,hadtheNRAreallywantedto.Itisprobablycorrectthattheirprimaryreasonfornotdoingsowastosavemoney,nottopissoffthevictimsofColubmine.Thatdoesnotchangethefactthattheydidjustthat.Moorepresentsthemostimportantpartofthespeechtobackupthispointandignoresthefluff.Thisiswhatgooddocumentaryfilmmakingisabout.Andherethecriticsagainignoreimportantevidence:\n",
      "WhenHestonmentionsthemayorofDenver,thecrowdboosloudly.Hestonmaganimouslyholdsupahandtoreadthemayor'sletter(onlytoexplainindetailwhyhechosetoignoretherequest--notmentioningatallthereasonsyouhavegiven!).Thisbooingbythecrowd,notmentionedwithasinglewordinyourtranscriptoryourarticle,showsthatthecrowdwasfullyawareofthecontroversytheywouldcausebycomingtoLittletonafterchildrenwerebeingkilledthere--andtheyeffectivelysaid\"Fuckyou\".TosaythattheycouldnothavedoneotherwiseisaboldliebyMoore'scritics.\n",
      "4)TheKaylaRollandcase.Again,criticslikeyourselfchargeMoorewithdeception.TherallytookplaceonOctober17,theshootingonFebruary29.Again,standardfilmmakingtechniquesareinterpretedassmoothdistortion:\"Mooreworksbydeprivingyouofcontextandguidingyourmindtofillthevacuum--withcompletelyfalseideas.Itisbrilliantly,ifunethically,done.\"Asnotedabove,the\"frommycolddeadhands\"partissimplyMoore'swaytointroduceHeston.DidanyonebutMoore'scriticsviewitasanythingelse?Hecertainlydoesnot\"attributeittoaspeechwhereitwasnotuttered\"and,asnotedabove,doingsotwicewouldmakenosensewhatsoeverifMoorewasthemasterminddeceiverthathiscriticsclaimheis.\n",
      "ConcerningtheGeorgetownHoyainterviewwhereHestonwasaskedaboutRolland,youwrite:\"Thereisnoindicationthat[Heston]recognizedKaylaRolland'scase.\"Thisisnaivetotheextreme--HestonwouldnotbepresidentoftheNRAifhewasnotkeptuptodateonthemostprominentcasesofgunviolence.Evenifhedidnotrespondtothatpartoftheinterview,hecertainlyknewaboutthecaseatthatpoint.\n",
      "RegardingtheNRAwebsiteexcerptaboutthecaseandthehighlightingofthephrase\"48hoursafterKaylaRollandispronounceddead\":Thisisonevalidcriticism,butfarfromthedeliberatedistortionyoumakeitouttobe;rather,itisanexampleforhowthefactscansometimesbeeasytomisswithMoore'sfastpaceediting.ThereasonthesentenceishighlightedisnottodeceivetheviewerintobelievingthatHestonhurriedtoFlinttoimmediatelyholdarallythere(aswillbecomequiteobvious),butsimplytohighlightthefirstmentionofthename\"KaylaRolland\"inthetext,whichisinthisparagraph.\n",
      "Unfortunately,becausethezoomingisratherfast,itiseasytomisstherestofthesentence,soasyoucorrectlynote,someviewersgotanincorrectimpression.ItwouldhavebeenfairforMooretopointoutthispossiblemisinterpretationonhiswebsite.However,theclaimofdeliberatedistortionisludicrousforseveralreasons:\n",
      "a)Mooreclearlystatesthat\"beforehecametoFlint\",Hestongaveaninterview.Intheexcerptfromsaidinterview,wecanseethatitisfromMarch.IfMoorewantedtodeceivehisviewers,whywouldhesaythis,andshowthemonththeinterviewwaspublished?\n",
      "b)WhyshouldMooreleavethewords\"ClintonisontheTodayShow\"visibleinthetext,whichisnecessarytocorrectlyinterpretthehighlightedpart?Ireviewedthesequenceseveraltimesanditisperfectlypossibletoseethistextwithoutpausing.\n",
      "c)Boththe\"soccermom\"interviewandthesequencesshowingtheNRArallymakenoefforttodistortthefactthatthisrallyhappenedmonthsafterthefact.ThecameralingersonBush/Cheneyposters,andtheprotestorisquotedassayingthat\"wewantedtolettheNRAknowthatwehaven'tforgottenaboutKaylaRolland\".Youmakethehystericalclaimthattheinterview\"maybefaked\"(onthebasisthatnonameisshownfortheinterviewee),butifMoorehadfakedit,whythehellshouldheputthissentenceintheprotestor'smouth,whichdirectlycontradictstheconclusionthattherallyhappenedhoursafterKayla'sdeath?WhydidMoore,themasterfuldeveiver,noteditthissequenceout?Thismakesnosense.\n",
      "OpinionsmayvaryonhowtastelessitwasforHestontoholdaprogunrallyonthelocationofthenation'syoungestschoolshootingmonthsafterthefact,butthissequenceof\"Bowling\"iswithoutdoubtthemostunfairtoHeston.Theclaimsofdeliberatedistortiondon'tholdupwhenviewingthewholescene,though--as\"Hanlon'sRazor\"states,oneshouldneverattributetomalicewhatcanbeattributedtoincompetence.ThesomewhatinepteditingoftheNRApressreleasehasledsomeviewerstowrongconclusions,whichisunfortunate,butMoore'scriticshavenointerestinviewingthematterfairly.Hadtheydoneso,Moorehimselfwouldprobablyhaveapologizedforthegaffe.Inanycase,atnopointdoesMooremakeafalsestatement,incontradictiontoclaimsbycriticsthathisdocumentaryis\"fulloflies\".\n",
      "5)Youwrite:\"Havingcreatedthedesiredimpression,MoorefollowswithhisHestoninterview.\"No,hedoesn't.YouaccuseMooresooftenofchangingthechronology,yetyouhavenoproblemschangingityourself.TheHestoninterviewisattheveryendofthemovie.AftertheFlintrallycomesabriefTVinterviewwithHeston,whereheisaskedaboutKaylaRolland(again,clearevidencethatthelocalmediainFlintraisedquestionsabouttheNRA'spresence),thenaninteviewwithcountryprosecutorArthurBusch,entirelyignoredbycriticsofthefilm,whoalsomentionsHeston'spresenceasnotable,andreferstotheimmediatereactionsof\"peoplefromalloverAmerica\",gunowners/groupswho,accordingtohim,reactedaggressivelytowarningsofhavinggunsaccessibletochildren,muchlikespankingadvocatesreactaggressivelywhenanti-spankerspointtoacaseofachildbeingkilledorseverelyinjuredbyabeating.Thesepeopledonotfeeltheneedtoexpresssympathy,ortothinkaboutwaystoavoidsuchincidents,buttheyfeeltheneedtoasserttheir\"rights\"andtolookforquick,simpleanswers--asBuschstates,gunownerswantedto\"hang[thechild]fromthehighesttree\".ThisisallnotmentionedbycriticsofMoore'smovie,whoclaimtobeobjective.\n",
      "PerhapsthebestexampleoftheparanoiasurroundingMoore'sfilmisyoursub-essay\"IstheendoftheHestoninterviewitselffaked?\"\n",
      "Mooreanswersasimplequestion--howcouldthescenehavebeenfilmed--withasimpleanswer:twocameras.Fromthis,youconstructanobscureconspiracyof\"re-enactment\":\"Forallwecantell,Moorecouldhaveshouted'Hey!'tomakeHestonturnaroundandthenremainedsilentasHestonleft.\"Evenifyour\"re-enactment\"theoryistrue(andIseenoevidencethatyouhaveactuallytriedtoaskthepeopleinvolvedinthefilmmakingfortheiropinion),thisitselfisnotunethical,andyouhavenoevidencewhatsoeverthatMoorehasdoneanythingunethicalhere,justlikeyouhavenoevidencethatMoorehasunethicallyremovedpartsoftheinterview.Youusestandardfilmmakingtechniqueasabasistoconstructbizarreconspiracieswhichsoundplausibletothegulliblereader,withouteverprovidinganyevidencefortheimplicitorexplicitclaimsoffraudanddistortion.\n",
      "6)AnimatedhistoryoftheUS.Ofcoursethecartoonishighlyoversimplified,andmostcriticsconsideritoneoftheweakestpartsofthefilm.Butitmakesavalidclaimwhichyouignoreentirely:Thatthestrategytopromote\"gunrights\"forwhitepeopleandtooutlawgunpossessionbyblackpeoplewasawaytoupholdracismwithoutlettinganopenlyterroristorganizationliketheKKKflourish.Didthe19thcenturyNRAinthesouthernstatespromotegunrightsforblackpeople?Ihighlydoubtit.Butiftheydidn't,oneoftheirfunctionswastocontinuetheracismoftheKKK.Thisisthekeymessageofthispartoftheanimation,whichisagainbeingignoredbyitscritics.\n",
      "7)BuellshootinginFlint.Youwrite:\"Fact:Thelittleboywastheclassthug,alreadysuspendedfromschoolforstabbinganotherkidwithapencil,andhadfoughtwithKaylathedaybefore\".Thischaracterizationofasix-year-oldasapencil-stabbingthugisexactlythekindofhysteriathatMoore'sfilmwarnsagainst.Itisthetypicalright-wingreactionwhichlooksforsimpleanswersthatdonotcontradicttheRepublicanmindset.Thekidwasalittlebastard,andtheparentswereinvolvedindrugs--caseclosed.Butwhydopeopledealwithdrugs?Becauseit'ssomuchfuntodoso?ItisbynowwelldocumentedthattheCIAtoleratedcracksalesinUScitiestofundtheoperationofSouthAmerican\"contras\"\n",
      "Itisequallywellknownthattheso-called\"warondrugs\"begunundertheNixonadministrationisafailurewhichhascosthundredsofbillionsandmadeAmericatheworldleaderinprisonpopulation(bothinrelativeandabsolutenumbers).\n",
      "Inpoorareas,thehighlyprofitabledrugbusinessobviouslyisoftenseenasthelastresort.Buttherealcauseherearenotthedrugsthemselves,butpovertyandthe\"warondrugs\".\n",
      "Hadtheboy'smothernotbeenshippedtoa\"welfaretowork\"program,shemightatleasthavehadsometimetospendwithherson.Virtuallyeverychildpsychologistknowsthatmother/childbondingisessentialforthedevelopmentofempathyandsocialabilities,theawarenessoftheconsequencesofone'sactions,andthelearningofconflictresolutionbynon-violentmeans.EventheofficialquotedbyMooreblamesthewelfaretoworkprogram,knowingfullwellthatthedrugissueisaredherring.Onceagain,youremphasisonthelittleboyasathugconfirmsMoore's(andBusch's)assertionthatpeoplewantedtohangthechildfromthehighesttreeinsteadoflookingattherealcauses.\n",
      "That'sbecausewhilethereisaso-calledwarondrugs,thereisnowaronpoverty.Povertyisfrequentlyportrayedasnatural,andthepoorinAmericaareseenbyconservativesasVCR-ownerswhoarejusttoolazytowork.\n",
      "Inreality,whatMooredescribeshereisthemostvividexampleofwhatcanonlybecalledwageslaveryIhaveeverseen,tothedetrimentoffamilies.\n",
      "ItisnotablethattheWallStreetJournal'sreactiontothissegmentofthefilmwasevenmoredismissivethanyours:ItcalledMoore'sclaim\"preposterous\".Howcouldheeventhinkaboutblamingpovertyandforcedlaborprogramsforanythingbadthathappens?\n",
      "8)TalibanandAmericanaid.AftertheSeptember11attacks,itwasnecessaryforconservativestosomehowexplainawaythefactthattheUSgovernmentgave245milliondollarstothenewevildoersdujour.NevermindthefactthatauthorssuchasRobertScheerwarnedofaidingtheTalibanasearlyasinMay2001.Nevermindthattheydidsonotoutofsomehumanitarianmotivation,butbecauseoftheTaliban'sviolentenforcementofthebanonopiumpoppies.Nevermindthatinaregimethatiscontrolledbywarlords,itdoesnotmatterwhoisauthorizedtodistributetheaid--therulingregionalwarlordswillseizecontrolofitanduseittotheirownadvantage.NevermindthatthisveryargumenthasbeenusedbyhawksinoppositiontosendinghumanitarianaidtoIraq'sSaddamHussein.NevermindthattheTalibancontinuedsellingopiuminspiteofthedeal.NevermindthatthisisalldocumentedonMichaelMoore'swebsiteaboutthefilm.\n",
      "9)Gunhomicides.StatisticsareMoore'sweakestpoint,anditissurprisingthathiscriticsdon'tdwellonthemlonger.That'sbecausetheyknowalltoowellthatMooreiscorrect:TheUnitedStateshaveafargreaterhomiciderate(bothgun-andnon-gun)thanmostotherfirstworldcountries.Hismainmistakeisthathedoesnotusepopulationcorrecteddata,hissecondmistakeisthathedoesnotcitehissources(and,asyoucorrectlypointout,heprobablyusesdifferentreportingmethodsforthedifferentcountries).Agoodcomparisonofinternationalhomicideratescanbefoundontherelativelyneutralguncite.comwebsite.\n",
      "Notsurprisingly,guncite,too,comparesdatafromdifferentyears--asIknowfrompersonalexperience,itisquitedifficulttodocomparisonsofcrimestatisticsduetodifferencesinreportingfrequencyandmethodology.ThegunhomicideratesforthecountriesMoorementioned,accordingtoguncite,are:\n",
      "Japan:0.02per100,000(1994)England/Wales:0.11per100,000(1997)Germany:0.22per100,000(1994)Australia:0.44per100,000(1994)UnitedStates:3.72per100,000(1999)\n",
      "CriticsfailtocreditMoorewithnotmakingthesamemistakethatsomeguncontroladvocatesmake--concludingthatgunownership\"leads\"toviolence.Infact,Moorementionsseveralcounter-examples,andmoresuchcounter-examplescanindeedbecited.Itisintuitivelyobviousthatgunsdonotactuallycauseviolence--butitisequallyintuitivelyobviousthattheymaketheviolencethatiscommittedmoredeadly.ItisthesecondintuitionwhichgunrightsgroupsliketheNRAseektoobscureusingfraudulentdatabythelikesofJohn\"Mary\"Lott.\n",
      "Theguncontrolmovement,ontheotherhand,distractsfromtherealcausesofviolence--poverty,paranoia,the\"warondrugs\"andantisexuality.Ifthesecauseswereaddressed,gunownershipintheUnitedStateswouldnotbeaproblem(butalsounnecessary);justlikeitisinSwitzerland.\n",
      "10)Canadaammunitionpurchase.Youwrite:\n",
      "BowlingshowsMoorecasuallybuyingammunitionatanOntarioWalmart.Heasksusto\"lookatwhatI,aforeigncitizen,wasabletodoatalocalCanadianWal-Mart.\"Hebuysseveralboxesofammunitionwithoutaquestionbeingraised.\"That'sright.IcouldbuyasmuchammunitionasIwanted,inCanada.Canadianofficialshavepointedoutthatthebuyisfakedorillegal.\n",
      "Onceagain,youfailtodistinguishbetweenregularfilmeditingand\"faking\"(awordwhich\"Canadianofficials\"haveneverused;forsuchadistortion,Moorewouldhavebeenboiledalivebyhiscritics).IfMooresimplychosenottoshowhowherevealedhisidentificationtothesalesperson,thereisnothingfraudulentaboutthat.Hemadenoclaimswhatsoeverinthefilmabouttheneedtoshowornotshowidentification.Hisclaimthatitispossibletopurchaseammunitioninsupermarketsisindependentfromthatclaim.\n",
      "11)Heston'sallegedlyimpliedracism.YouconcludefromHeston'sownwordsthatHestonwassomehowportrayedasracist.Ifanything,itishisownfailurethathedidnotclarifywhathemeantwith\"havingamoremixedethnicity\".Heston'sanswersintheinterviewwereevasiveandunhelpful.Whilethiscaninpartbeexplainedwithhisageandmentalcondition,ifheisunabletodefendtheinterestsoftheNRA,heshouldnotbetheirspokesman.Inthiscase,Hanlon'sRazorcanbeappliedtoHeston--heisprobablynotracist,butincompetent.Youraccusationsofinappropriatecuttingareonceagainentirelyunsupported--infact,itisquiteclearfromwatchingthatparticularscenethatthereisnotasinglecutfromthepointatwhichMooreasksHestonasecondtimeforthecauseofthehigherviolenceintheStates,andthepointwhenhementionstheKaylaRollandincident.IfHestonmakeshimselflooklikeafool,thatshouldhardlybeblamedonMichaelMoore.\n",
      "Conclusion\n",
      "Youwrite:\"BowlingforColumbineisdishonest.Itisfraudulent.TotrashHeston,itevenusestheaudio/videoeditortoassembleaHestonspeechthatHestondidnotgive,andsequencesimagesandcarefullyhighlightedtexttospintheviewer'smindtoawrongconclusion.\"Noneofthisistrue.WhatistrueisthatBowlingforColumbineisadiamondinthesmallworldofbigscreendocumentaries,onethatshinesbrightlyandilluminatesanoftenmisunderstoodaspectofAmericanculture.Itisnotaflawlessdiamond--the\"48hours\"sceneinparticularsuffersfrombadediting,thestatisticsaresuboptimal,andHestongetsabitmorebashingthanhedeserves.OtherthantowardstheNRA,themovietrieshardtoavoidsimplisticconclusions,andcomesupwithsomethoughtfulanswers.ThemostshamefulpartoftheongoingattacksagainstMooreisthattheseanswershavebeenallbutignoredbyhiscritics.HadMoorewantedtomakeapropagandafilm,hewouldhaveusedothermaterial:photosfromAmerica'sEmergencyRooms.\n",
      "Certainly,MooreisoneofthemosttalentedfilmmakersintheUnitedStatestoday,andhisfilmfullydeserveditsOscar.Theshrill(andremarkablyunsuccessful)Internetcampaignto\"revoke\"hisawardseemstobemotivatedmorebyjealousythanbyrealconcernsaboutthefilm'saccuracy.Itisnotonlythehighestgrossingnon-musicdocumentaryofalltime,amongtheusersofthelargestInternetfilmdatabase,IMDB,itisalsothehighestratedone.AccordingtotheLATimes,thedocumentarygenre\"owesahugedebttoMichaelMoore\"--afterBowling'ssuccess,filmslike\"Spellbound\"and\"CapturingtheFriedmans\"weretakenseriouslyandshowninmanymoretheatresthanotherwiselikely.\n",
      "ButperhapsthecampaignagainstMooreisreallymotivatedbyanotherreason.Hisnextprojecthastheworkingtitle\"Fahrenheit9/11:Thetemperatureatwhichfreedomburns\",andheintendstolaunchitshortlybeforethenextUSpresidentialelection.Itisunlikely,however,thattheunfairattacksagainsthimwillhavemuchofanimpact.Afterall,thesamekindofPRblitzwasstartedagainstthepreviousrecord-holdingdocumentary:\"Roger&Me\"byMichaelMoore.\n",
      "Yourssincerely,\n",
      "ErikMõller\n",
      "Thistextisinthepublicdomain.\n",
      "\n",
      "\n",
      "\n",
      "\n"
     ]
    }
   ],
   "source": [
    "englishLetterFrequency = { \"a\": 8.167, \"b\": 1.492, \"c\": 2.782, \"d\": 4.253, \"e\": 12.702, \"f\": 2.228, \"g\": 2.015, \"h\": 6.094, \"i\": 6.966, \"j\": 0.153, \"k\": 0.772, \"l\": 4.025, \"m\": 2.406, \"n\": 6.749, \"o\": 7.507, \"p\": 1.929, \"q\": 0.095, \"r\": 5.987, \"s\": 6.327, \"t\": 9.056, \"u\": 2.758, \"v\": 0.978, \"w\": 2.360, \"x\": 0.150, \"y\": 1.974, \"z\": 0.074 }\n",
    "\n",
    "sortedLetterFrequency = sorted(englishLetterFrequency.items(), key=lambda l: l[1], reverse=True)\n",
    "\n",
    "with open('crypto.rot', 'rb') as file:\n",
    "    data = file.read()\n",
    "    \n",
    "    frequency = {c : 0 for c in range(256)}\n",
    "    for b in data:\n",
    "        frequency[b] = frequency[b] + 1\n",
    "        \n",
    "    sortedFrequency = sorted(frequency.items(), key=lambda l: l[1], reverse=True)\n",
    "#     print(sortedFrequency)\n",
    "    \n",
    "#     diff = 50\n",
    "#     recovered1 = [chr((b - diff) % 255) for b in data]\n",
    "#     print(''.join(recovered1))\n",
    "    \n",
    "    for i in range(2):\n",
    "        diff = sortedFrequency[i][0] - ord(sortedLetterFrequency[0][0])\n",
    "        print(diff)\n",
    "        \n",
    "        recovered = [chr((b - diff) % 255) for b in data]\n",
    "        print(''.join(recovered))\n",
    "        \n",
    "#         print(diff)\n",
    "\n",
    "#     recovered1 = [chr((b + diff) % 255) for b in data]\n",
    "#     print(''.join(recovered1))\n",
    "        \n",
    "    \n",
    "    "
   ]
  },
  {
   "cell_type": "markdown",
   "metadata": {},
   "source": [
    "### Zadanie 4\n",
    "Porównaj rozkłady statystyczne tekstów w trzech różnych językach."
   ]
  },
  {
   "cell_type": "markdown",
   "metadata": {},
   "source": [
    "W porównaniu będę brał pod uwagę **tylko litery alfabetu łacińskiego** ponieważ występują w każym z wybranych języków."
   ]
  },
  {
   "cell_type": "code",
   "execution_count": 39,
   "metadata": {
    "scrolled": false
   },
   "outputs": [
    {
     "data": {
      "image/png": "[encoded data removed]",
      "text/plain": [
       "<Figure size 1332x756 with 3 Axes>"
      ]
     },
     "metadata": {
      "needs_background": "light"
     },
     "output_type": "display_data"
    }
   ],
   "source": [
    "TextData = namedtuple('TextData', ['language', 'path'])\n",
    "\n",
    "texts = [TextData('Polski', 'Multi_language/Pan_Tadeusz.txt'), TextData('Niemiecki', 'Multi_language/Der_Vorleser.txt'), TextData('Hiszpański', 'Multi_language/Don_Quijote.txt')]\n",
    "\n",
    "# Count letters\n",
    "statistics = {}\n",
    "for text in texts:\n",
    "    with open(text.path, 'r') as file:\n",
    "        count = {chr(i) : 0 for i in range(ord('a'), ord('z')+1)}\n",
    "\n",
    "        for line in file:\n",
    "            for c in line.lower():\n",
    "                if c in count:\n",
    "                    count[c] = count[c] + 1\n",
    "        \n",
    "        statistics[text.language] = count\n",
    "\n",
    "# Display results\n",
    "fig, axs = plt.subplots(len(texts))\n",
    "fig.suptitle('Porówanie częstotliwości występowania liter między językami', fontsize=20)    \n",
    "fig.subplots_adjust(hspace = 0.8)\n",
    "fig.set_size_inches(18.5, 10.5)\n",
    "\n",
    "for i, text in enumerate(texts):\n",
    "    count = statistics[text.language]\n",
    "    axs[i].bar(count.keys(), count.values())\n",
    "    axs[i].set_title(text.language, fontsize=20)\n"
   ]
  },
  {
   "cell_type": "markdown",
   "metadata": {},
   "source": [
    "### Zadanie 5\n",
    "Zaimplementuj samodzielnie algorytm generowania klucza algorytmem RC4 i napisz program szyfrujący przy pomocy XOR i klucza generowanego przez RC4."
   ]
  },
  {
   "cell_type": "code",
   "execution_count": 40,
   "metadata": {},
   "outputs": [
    {
     "name": "stdout",
     "output_type": "stream",
     "text": [
      "TO JEST BARDZO TAJNY TEKST\n",
      "b'k\\x10F\\x83K\\xa0\\xa15\\xcd\\xc5K*J\\x994K\\x90\\xa8\\x11v\\x99\\xea\\x9a\\xc5\\t\\xfc'\n",
      "TO JEST BARDZO TAJNY TEKST\n"
     ]
    }
   ],
   "source": [
    "def RC4GenerateKey(string : str) -> Iterable[int]:\n",
    "    key = cycle(strToCodes(string))\n",
    "    S = [i for i in range(256)]\n",
    "    \n",
    "    j = 0\n",
    "    for i in range(256):\n",
    "        j = (j + S[i] + next(key)) % 256\n",
    "        S[i], S[j] = S[j], S[i]\n",
    "    \n",
    "    return S\n",
    "\n",
    "def RC4Encode(data : str, key : List[int]) -> str:\n",
    "    i, j = 0, 0\n",
    "    S = key\n",
    "    data = strToCodes(data)\n",
    "    cryptogram = []\n",
    "    \n",
    "    for c in data:\n",
    "        i = (i + 1) % 256\n",
    "        j = (j + S[i]) % 256\n",
    "        S[i], S[j] = S[j], S[i]\n",
    "        \n",
    "        k = S[(S[i] + S[j]) % 256]\n",
    "        cryptogram.append(c ^ k)\n",
    "        \n",
    "    return codesToStr(cryptogram)\n",
    "        \n",
    "    \n",
    "sentence = 'TO JEST BARDZO TAJNY TEKST'\n",
    "print(sentence)\n",
    "\n",
    "key = 'TAJNE'\n",
    "S = RC4GenerateKey(key)\n",
    "cryptogram = RC4Encode(sentence, S)\n",
    "# print(cryptogram)\n",
    "print(bytes(strToCodes(cryptogram)))\n",
    "\n",
    "S = RC4GenerateKey(key)\n",
    "restored = RC4Encode(cryptogram, S)\n",
    "print(restored)\n"
   ]
  },
  {
   "cell_type": "markdown",
   "metadata": {},
   "source": [
    "### Zadanie 6\n",
    "Zweryfikuj zgodność swojej implementacji z ARC4 z biblioteki PyCrypto."
   ]
  },
  {
   "cell_type": "code",
   "execution_count": 41,
   "metadata": {},
   "outputs": [
    {
     "name": "stdout",
     "output_type": "stream",
     "text": [
      "TO JEST BARDZO TAJNY TEKST\n",
      "b'k\\x10F\\x83K\\xa0\\xa15\\xcd\\xc5K*J\\x994K\\x90\\xa8\\x11v\\x99\\xea\\x9a\\xc5\\t\\xfc'\n",
      "b'TO JEST BARDZO TAJNY TEKST'\n"
     ]
    }
   ],
   "source": [
    "sentence = 'TO JEST BARDZO TAJNY TEKST'\n",
    "print(sentence)\n",
    "\n",
    "key = 'TAJNE'\n",
    "cipher = ARC4.new(key)\n",
    "cryptogram = cipher.encrypt(sentence)\n",
    "print(cryptogram)\n",
    "\n",
    "cipher = ARC4.new(key)\n",
    "restored = cipher.decrypt(cryptogram)\n",
    "print(restored)"
   ]
  },
  {
   "cell_type": "markdown",
   "metadata": {},
   "source": [
    "### Zadanie 7\n",
    "Napisz algorytm obliczający entropię łańcucha bajtów. Prawdopodobieństwo symboli oblicz na podstawie ich częstotliwości występowania w łańcuchu."
   ]
  },
  {
   "cell_type": "code",
   "execution_count": 42,
   "metadata": {},
   "outputs": [
    {
     "data": {
      "text/plain": [
       "92.46237471329376"
      ]
     },
     "execution_count": 42,
     "metadata": {},
     "output_type": "execute_result"
    }
   ],
   "source": [
    "def entropy(data : bytes) -> float:\n",
    "    count = [0] * 256\n",
    "    dataSize = len(data)\n",
    "    for b in data: count[b] = count[b] + 1\n",
    "    \n",
    "    entropy = 0\n",
    "    for b in range(256):\n",
    "        entropy += (count[b] / dataSize) * count[b]\n",
    "        \n",
    "    return 1 - entropy / dataSize\n",
    "\n",
    "\n",
    "sentence = \"A complete sentence must have, at minimum, three things: a subject, verb, and an object. The subject is typically a noun or a pronoun. And, if there's a subject, there's bound to be a verb because all verbs need a subject. Finally, the object of a sentence is the thing that's being acted upon by the subject.\"\n",
    "entropy(bytes(strToCodes(sentence))) * 100"
   ]
  },
  {
   "cell_type": "markdown",
   "metadata": {},
   "source": [
    "### Zadanie 8\n",
    "Porównaj entropie tekstu naturalnego z entropia kryptogramu."
   ]
  },
  {
   "cell_type": "code",
   "execution_count": 43,
   "metadata": {},
   "outputs": [
    {
     "name": "stdout",
     "output_type": "stream",
     "text": [
      "Entropia zdania 92.46%\n",
      "Entropia kryptogramu dla szyfru cezara 92.46%\n",
      "Entropia kryptogramu dla Vigenere'a 97.21%\n",
      "Entropia kryptogramu dla ARC4 97.21%\n"
     ]
    }
   ],
   "source": [
    "sentence = \"A complete sentence must have, at minimum, three things: a subject, verb, and an object. The subject is typically a noun or a pronoun. And, if there's a subject, there's bound to be a verb because all verbs need a subject. Finally, the object of a sentence is the thing that's being acted upon by the subject.\"\n",
    "\n",
    "e1 = entropy(bytes(strToCodes(sentence)))\n",
    "print(f'Entropia zdania {e1:.2%}')\n",
    "\n",
    "cryptogram = cyclicalMove(sentence, -3)\n",
    "e2 = entropy(bytes(strToCodes(cryptogram)))\n",
    "print(f'Entropia kryptogramu dla szyfru cezara {e2:.2%}')\n",
    "\n",
    "cryptogram = vigenereEncode(sentence, 'TAJNE')\n",
    "e3 = entropy(bytes(strToCodes(cryptogram)))\n",
    "print(f'Entropia kryptogramu dla Vigenere\\'a {e3:.2%}')\n",
    "\n",
    "cipher = ARC4.new('TAJNE')\n",
    "cryptogram = cipher.encrypt(sentence)\n",
    "e4 = entropy(cryptogram)\n",
    "print(f'Entropia kryptogramu dla ARC4 {e3:.2%}')"
   ]
  },
  {
   "cell_type": "code",
   "execution_count": 44,
   "metadata": {},
   "outputs": [
    {
     "name": "stdout",
     "output_type": "stream",
     "text": [
      "Entropia Pana Tadeusza 94.41%\n",
      "Entropia kryptogramu dla ARC4 97.21%\n"
     ]
    }
   ],
   "source": [
    "with open('Multi_language/Pan_Tadeusz.txt', 'r') as file:\n",
    "    text = '\\n'.join(file.readlines())\n",
    "    codes = list(filter(lambda c: 0 <= c <= 255, strToCodes(text)))\n",
    "    e = entropy(codes)\n",
    "    print(f'Entropia Pana Tadeusza {e:.2%}')\n",
    "    \n",
    "    cipher = ARC4.new('TAJNE')\n",
    "    cryptogram = cipher.encrypt(bytes(codes))\n",
    "    e4 = entropy(cryptogram)\n",
    "    print(f'Entropia kryptogramu dla ARC4 {e3:.2%}')\n",
    "    "
   ]
  },
  {
   "cell_type": "markdown",
   "metadata": {},
   "source": [
    "### Zadanie 9\n",
    "Napisz program przeprowadzający atak brutalnej siły na kryptogram."
   ]
  },
  {
   "cell_type": "markdown",
   "metadata": {},
   "source": [
    "**Strategia**  \n",
    "Będę próbował zdekodować kryptogram wszystkimi możliwymi kluczami o rosnącej długości aż **entropia spadnie** poniżej wyznaczonej granicy."
   ]
  },
  {
   "cell_type": "code",
   "execution_count": 45,
   "metadata": {},
   "outputs": [],
   "source": [
    "def bruteforceARC4(cryptogram : bytes, maxKeyLength : int = 5, keyAlphabet = range(256)) -> None:\n",
    "    entropyThreshold = 0.9585\n",
    "\n",
    "    for length in range(1, maxKeyLength+1):\n",
    "        possibleKeys = product(keyAlphabet, repeat=length)\n",
    "        for k in possibleKeys:\n",
    "            k = codesToStr(k)        \n",
    "            cipher = ARC4.new(k)\n",
    "            recovered = cipher.decrypt(cryptogram)\n",
    "            e = entropy(recovered)\n",
    "\n",
    "            if e < entropyThreshold:\n",
    "                print('\\nZnaleziono rozwiązanie!\\n')\n",
    "                print(f'Klucz: {k}')\n",
    "                print(f'Wiadomość: {recovered}')\n",
    "                break\n",
    "\n",
    "        print(f'Nie ma rozwiązania dla klucza długości {length}')"
   ]
  },
  {
   "cell_type": "code",
   "execution_count": 46,
   "metadata": {},
   "outputs": [
    {
     "name": "stdout",
     "output_type": "stream",
     "text": [
      "Nie ma rozwiązania dla klucza długości 1\n",
      "Nie ma rozwiązania dla klucza długości 2\n",
      "\n",
      "Znaleziono rozwiązanie!\n",
      "\n",
      "Klucz: abc\n",
      "Wiadomość: b\"A complete sentence must have, at minimum, three things: a subject, verb, and an object. The subject is typically a noun or a pronoun. And, if there's a subject, there's bound to be a verb because all verbs need a subject. Finally, the object of a sentence is the thing that's being acted upon by the subject.\"\n",
      "Nie ma rozwiązania dla klucza długości 3\n"
     ]
    }
   ],
   "source": [
    "data = \"A complete sentence must have, at minimum, three things: a subject, verb, and an object. The subject is typically a noun or a pronoun. And, if there's a subject, there's bound to be a verb because all verbs need a subject. Finally, the object of a sentence is the thing that's being acted upon by the subject.\"\n",
    "key = 'abc'\n",
    "\n",
    "cipher = ARC4.new(key)\n",
    "cryptogram = cipher.encrypt(data)\n",
    "\n",
    "keyAlphabet = range(ord('a'), ord('z') + 1)\n",
    "bruteforceARC4(cryptogram, 3, keyAlphabet)\n"
   ]
  },
  {
   "cell_type": "code",
   "execution_count": 47,
   "metadata": {
    "scrolled": true
   },
   "outputs": [
    {
     "name": "stdout",
     "output_type": "stream",
     "text": [
      "Nie ma rozwiązania dla klucza długości 1\n",
      "Nie ma rozwiązania dla klucza długości 2\n",
      "\n",
      "Znaleziono rozwiązanie!\n",
      "\n",
      "Klucz: def\n",
      "Wiadomość: b'\\n\\n\\n\\n\\n\\nA defense of Michael Moore and \"Bowling for Columbine\" (Op-Ed)By Eloquence Wed Aug 13th, 2003 at 09:00:09 AM EST \\n\\nThis is an open letter to David Hardy, author of Bowling for Columbine: Documentary or Fiction?, probably the most comprehensive among many rebuttals of the Oscar-winning documentary. Critics have now gone so far as to call for the revocation of the award. Their chances are small, however, as their arguments rely on polemic, exaggeration and misrepresentation -- in other words, on the same techniques which they accuse Moore of using. \\nDear David Hardy, \\nIt is fascinating to watch the organized character assassination of Michael Moore that has been going on in the United States since the release of his last documentary. In a time of simple-minded patriotism, loud, clear and dissenting voices like Mr. Moore\\'s are perceived as disturbing and have to be silenced, partially through well funded public relations campaigns, partially through conservative \"grass-roots\" propaganda. Not surprisingly, much of the criticism of Moore\\'s film is misguided or outright wrong, often vastly more inaccurate than Moore\\'s work itself. \\n\\nMoore portrays the NRA as an unethical, dishonest organization; he sees the paranoia and fear in the United States as a primary cause of violence, and he does not see gun ownership itself as a problem. His documentary is full of subtle humor, jaw-dropping dialogue and dark contrasts. All in all, it is an accurate portrayal of America\\'s gun and violence culture. It also raises questions about America\\'s foreign policy of recent decades, questions which have been all but ignored by Moore\\'s critics. \\nOn your webpage, you state that \"Moore\\'s resolution is questionable. After all, early in the movie he discards the possibility that playing violent video games and watching violent flicks can cause violence -- because Canadians like, and Japanese positively love, those. If violent movies and violent videogames cannot cause violence -- then how can newscasts about violence do so?\" \\nThis is a faulty generalization. If, as Moore implies (although never states as fact), video games and violent movies are relatively harmless, it does not logically follow that all types of media presentation are harmless. There is a huge difference, for example, between playing a game like \"Quake\" and listening to a radio broadcast that tells you that your family will be killed unless you take action to kill others now. The latter is the kind of media propaganda that was used to unleash a genocide in Rwanda in 1994, which killed 800,000 people. Similarly, the main motivation for the crusades (beyond the promise of wealth) was that Christians were supposedly being slaughtered and had to be saved. \\nObviously, media propaganda can incite people to kill. Interactive fiction like video games, on the other hand, presents violence in a narrative context, which may very well desensitize participants to said violence, but no causative link has ever been proven. Moore\\'s hypothesis (which apparently comes at least in part from the book \"Culture of Fear\" by Barry Glassner, also advertised on Moore\\'s website) is that the constant bombardment with messages of fear can incite paranoia, which itself can lead to violent acts. This is consistent with the kind of media-incited violence described above, and in no relationship whatsoever to the theory of video game or music incited violence. It is no surprise, however, that US (and European) media do not question their own propaganda of fear. \\nMoore\\'s second hypothesis is that America\\'s foreign policy may contribute to the belief that violence is an appropriate means to solve conflicts, a hypothesis which is shared by many sociologists and psychologists. Children who grow up in war-torn regions are known for having similar views -- war is perceived as a normal part of existence, violence as a natural way to solve disputes. In a weaker sense, the same message is projected to American children, who grow up being told that it is not acceptable to be violent to one another, but who simultaneously have to endure corporal punishment and media messages about how \"the enemies of freedom\" are punished. Moore\\'s film was made before the dead bodies of Qusay and Uday Hussein were paraded on national TV. Americans were gloating over this demented corpse show: \\n\"They squealed like little piggies too, so you\\'ll have to make do with \\'oink, oink, squeeeeeeeallll\\' for their last words. That goes for your grandson Mustafa too, by the way. Still think fucking with the U.S. was a good idea, Sammy?\" \\nMustafa was 14 years when he was killed. Americans cheer the killing of children, yet wonder why their own children grow up to be more violent than those in other nations. It is paradoxical notions like this one which Moore\\'s film seeks to address. \\nInaccuracies \\nYour webpage list a number of alleged inaccuracies in Moore\\'s movies. It is true that Moore\\'s film is sometimes unintentionally deceptive, but to call it fraudulent is hyperbole to the extreme. It is no more so than any other successful documentary of the last decades. Let\\'s look at some specific criticisms: \\n1) The bank scene, listed on your website on a separate page. Critics have stated that this scene was \"staged\", but in the bank interview, the official tells Moore that the bank has its own vault storing about 500 weapons at any given time. It is also a licensed firearms dealer which can perform its own background checks. In an interview with the Wall Street Journal, linked from your site, an employee claims that the gun would have been \"normally\" picked up at another dealer. It is not explained what \"normally\" is supposed to mean, but that claim flatly contradicts the statement of the bank official in the film. This sounds more like a later correction for public relations purposes, but of course nobody questions the bank claims when they can be used against Moore. \\nThe only thing that Moore compressed is the timeframe. According to the same WSJ interview, \"Typically, you\\'re looking at a week to 10 days waiting period.\" This is plausible -- but entirely irrelevant for the movie, which already makes it quite clear that a background check is being performed. Moore\\'s detractors have sometimes extended those 7-10 days to several weeks, contradicting the bank\\'s own estimate. \\nThere is nothing inaccurate whatsoever about the bank scene. The bank does exactly what it advertises: It hands out guns from its vault to those who open an account. The silly criticisms of the scene obscure the real obscenity of the situation: a bank handing out guns to its customers, higlighting the utter laxness of how Americans deal with deadly weapons and a love of firearms that borders on the religious. \\n2) The Lockheed-Martin interview. This is perhaps the criticism repeated the most often, and it also the most inaccurate. First, the actual quotes from the film are often reproduced incorrectly. The dialogue goes as follows: \\nMoore: \"So you don\\'t think our kids say to themselves, gee, dad goes off to the factory every day - he builds missiles. These are weapons of mass destruction. What\\'s the difference between that mass destruction and the mass destruction over at Columbine High School?\" \\nMcCollum (PR person): \"I guess I don\\'t see that specific connection because the missiles that you\\'re talking about were built and designed to defend us from somebody else who would be aggressors against us.\" \\nFirst, note the word \"our\" in Moore\\'s question. Moore is not from Colorado -- his question is generic, not meant to refer specifically to the Lockheed Martin plant in question. McCollum understands it this way -- otherwise he would protest against the plant being mischaracterized. However, critics of Moore have cleverly ignored McCollum\\'s response and presented Moore as spreading lies about the Lockheed plant. \\nEven Lockheed did not believe the public to be that gullible. In response to one Moore detractor, McCollum wrote: \"Although other units of Lockheed Martin Corporation elsewhere in the country produce weapons to support the defense of the U.S., we make no weapons at the Littleton-area facility Moore visited.\" Of course, critics have conveniently ignored the fact that Lockheed Martin does supply weapons of mass destruction to the US military, and that the company is the nation\\'s largest military contractor. As Moore correctly points out, it is bizarre for a society to openly embrace the production of destructive weapons, but on the other hand see no connection of this to everyday violence -- children learn by imitating adults. \\nYes, Moore makes this point through slight exaggeration by moving with the camera through the LM plant -- but he makes no incorrect statement. It is typical for his critics to jump on what is at most a slightly misleading implication, but in doing so, they themselves have, unlike Moore, made many incorrect claims. \\n3) Denver NRA meeting. Critics like yourself claim that Moore has massively distorted evidence to support his point that Charlton Heston has effectively insulted the victims of the Columbine tragedy by holding a rally in Denver shortly afterwards. \\nFirst, the \"from my cold, dead hands\" part: This is used by Moore as a visual citation to introduce Heston. It is perhaps one of his most famous quotes, shown on national TV even here in Germany. It tells viewers: Aha, this is the person we are talking about. Nowhere does Moore say or imply that these words were uttered at the rally in Denver, and in fact, their reptition later in the movie at another occasion (oddly claimed by critics to be again \"misattributed\") is simply a reminder of this. It is Moore\\'s way to say: Viewers, meet Charlton Heston, gun nut extraordinaire. \\nThe \"visual of a billboard and a narration\" is viewed by you as evidence that Moore is trying to somehow tie the two events together, when in reality, it is quite obvious that he does it to separate the introduction of Heston from his speech in Denver. Moore is a professional filmmaker -- he concentrates on maximum impact of each of the statements he cites, and to accomplish that effect, uses subtle interludes instead of long-winded introductions. This is a common technique, but because conservative readers are not familiar with the basics of filmmaking, they believe critics who claim that he is \"distorting\" the interview. What he does is standard filmmaking practice. \\nThe same goes for the interview which follows. Moore\\'s critics would expect us to have him quote Heston in his entirety, have him present fully the PR that the NRA has used to justify its rally in Denver for reasons of \"balance\". The NRA was fully aware of the scandal it would cause through its rally and decided to push on because they believed to have enough media support to successfully do so. They were right. You claim that there was \"no way to change location, since you have to give advance notice of that to the members, and there were upwards of 4,000,000 members.\" 10 days are more than enough to give advance warning of a change in location or date, had the NRA really wanted to. It is probably correct that their primary reason for not doing so was to save money, not to piss off the victims of Colubmine. That does not change the fact that they did just that. Moore presents the most important part of the speech to back up this point and ignores the fluff. This is what good documentary filmmaking is about. And here the critics again ignore important evidence: \\nWhen Heston mentions the mayor of Denver, the crowd boos loudly. Heston maganimously holds up a hand to read the mayor\\'s letter (only to explain in detail why he chose to ignore the request -- not mentioning at all the reasons you have given!). This booing by the crowd, not mentioned with a single word in your transcript or your article, shows that the crowd was fully aware of the controversy they would cause by coming to Littleton after children were being killed there -- and they effectively said \"Fuck you\". To say that they could not have done otherwise is a bold lie by Moore\\'s critics. \\n4) The Kayla Rolland case. Again, critics like yourself charge Moore with deception. The rally took place on October 17, the shooting on February 29. Again, standard filmmaking techniques are interpreted as smooth distortion: \"Moore works by depriving you of context and guiding your mind to fill the vacuum -- with completely false ideas. It is brilliantly, if unethically, done.\" As noted above, the \"from my cold dead hands\" part is simply Moore\\'s way to introduce Heston. Did anyone but Moore\\'s critics view it as anything else? He certainly does not \"attribute it to a speech where it was not uttered\" and, as noted above, doing so twice would make no sense whatsoever if Moore was the mastermind deceiver that his critics claim he is. \\nConcerning the Georgetown Hoya interview where Heston was asked about Rolland, you write: \"There is no indication that [Heston] recognized Kayla Rolland\\'s case.\" This is naive to the extreme -- Heston would not be president of the NRA if he was not kept up to date on the most prominent cases of gun violence. Even if he did not respond to that part of the interview, he certainly knew about the case at that point. \\nRegarding the NRA website excerpt about the case and the highlighting of the phrase \"48 hours after Kayla Rolland is pronounced dead\": This is one valid criticism, but far from the deliberate distortion you make it out to be; rather, it is an example for how the facts can sometimes be easy to miss with Moore\\'s fast pace editing. The reason the sentence is highlighted is not to deceive the viewer into believing that Heston hurried to Flint to immediately hold a rally there (as will become quite obvious), but simply to highlight the first mention of the name \"Kayla Rolland\" in the text, which is in this paragraph. \\nUnfortunately, because the zooming is rather fast, it is easy to miss the rest of the sentence, so as you correctly note, some viewers got an incorrect impression. It would have been fair for Moore to point out this possible misinterpretation on his website. However, the claim of deliberate distortion is ludicrous for several reasons: \\na) Moore clearly states that \"before he came to Flint\", Heston gave an interview. In the excerpt from said interview, we can see that it is from March. If Moore wanted to deceive his viewers, why would he say this, and show the month the interview was published? \\nb) Why should Moore leave the words \"Clinton is on the Today Show\" visible in the text, which is necessary to correctly interpret the highlighted part? I reviewed the sequence several times and it is perfectly possible to see this text without pausing. \\nc) Both the \"soccer mom\" interview and the sequences showing the NRA rally make no effort to distort the fact that this rally happened months after the fact. The camera lingers on Bush/Cheney posters, and the protestor is quoted as saying that \"we wanted to let the NRA know that we haven\\'t forgotten about Kayla Rolland\". You make the hysterical claim that the interview \"may be faked\" (on the basis that no name is shown for the interviewee), but if Moore had faked it, why the hell should he put this sentence in the protestor\\'s mouth, which directly contradicts the conclusion that the rally happened hours after Kayla\\'s death? Why did Moore, the masterful deveiver, not edit this sequence out? This makes no sense. \\nOpinions may vary on how tasteless it was for Heston to hold a pro gun rally on the location of the nation\\'s youngest school shooting months after the fact, but this sequence of \"Bowling\" is without doubt the most unfair to Heston. The claims of deliberate distortion don\\'t hold up when viewing the whole scene, though -- as \"Hanlon\\'s Razor\" states, one should never attribute to malice what can be attributed to incompetence. The somewhat inept editing of the NRA press release has led some viewers to wrong conclusions, which is unfortunate, but Moore\\'s critics have no interest in viewing the matter fairly. Had they done so, Moore himself would probably have apologized for the gaffe. In any case, at no point does Moore make a false statement, in contradiction to claims by critics that his documentary is \"full of lies\". \\n5) You write: \"Having created the desired impression, Moore follows with his Heston interview.\" No, he doesn\\'t. You accuse Moore so often of changing the chronology, yet you have no problems changing it yourself. The Heston interview is at the very end of the movie. After the Flint rally comes a brief TV interview with Heston, where he is asked about Kayla Rolland (again, clear evidence that the local media in Flint raised questions about the NRA\\'s presence), then an inteview with country prosecutor Arthur Busch, entirely ignored by critics of the film, who also mentions Heston\\'s presence as notable, and refers to the immediate reactions of \"people from all over America\", gun owners/groups who, according to him, reacted aggressively to warnings of having guns accessible to children, much like spanking advocates react aggressively when anti-spankers point to a case of a child being killed or severely injured by a beating. These people do not feel the need to express sympathy, or to think about ways to avoid such incidents, but they feel the need to assert their \"rights\" and to look for quick, simple answers -- as Busch states, gun owners wanted to \"hang [the child] from the highest tree\". This is all not mentioned by critics of Moore\\'s movie, who claim to be objective. \\nPerhaps the best example of the paranoia surrounding Moore\\'s film is your sub-essay \"Is the end of the Heston interview itself faked?\" \\nMoore answers a simple question -- how could the scene have been filmed -- with a simple answer: two cameras. From this, you construct an obscure conspiracy of \"re-enactment\": \"For all we can tell, Moore could have shouted \\'Hey!\\' to make Heston turn around and then remained silent as Heston left.\" Even if your \"re-enactment\" theory is true (and I see no evidence that you have actually tried to ask the people involved in the filmmaking for their opinion), this itself is not unethical, and you have no evidence whatsoever that Moore has done anything unethical here, just like you have no evidence that Moore has unethically removed parts of the interview. You use standard filmmaking technique as a basis to construct bizarre conspiracies which sound plausible to the gullible reader, without ever providing any evidence for the implicit or explicit claims of fraud and distortion. \\n6)Animated history of the US. Of course the cartoon is highly oversimplified, and most critics consider it one of the weakest parts of the film. But it makes a valid claim which you ignore entirely: That the strategy to promote \"gun rights\" for white people and to outlaw gun possession by black people was a way to uphold racism without letting an openly terrorist organization like the KKK flourish. Did the 19th century NRA in the southern states promote gun rights for black people? I highly doubt it. But if they didn\\'t, one of their functions was to continue the racism of the KKK. This is the key message of this part of the animation, which is again being ignored by its critics. \\n7) Buell shooting in Flint. You write: \"Fact: The little boy was the class thug, already suspended from school for stabbing another kid with a pencil, and had fought with Kayla the day before\". This characterization of a six-year-old as a pencil-stabbing thug is exactly the kind of hysteria that Moore\\'s film warns against. It is the typical right-wing reaction which looks for simple answers that do not contradict the Republican mindset. The kid was a little bastard, and the parents were involved in drugs -- case closed. But why do people deal with drugs? Because it\\'s so much fun to do so? It is by now well documented that the CIA tolerated crack sales in US cities to fund the operation of South American \"contras\" \\nIt is equally well known that the so-called \"war on drugs\" begun under the Nixon administration is a failure which has cost hundreds of billions and made America the world leader in prison population (both in relative and absolute numbers). \\nIn poor areas, the highly profitable drug business obviously is often seen as the last resort. But the real cause here are not the drugs themselves, but poverty and the \"war on drugs\". \\nHad the boy\\'s mother not been shipped to a \"welfare to work\" program, she might at least have had some time to spend with her son. Virtually every child psychologist knows that mother/child bonding is essential for the development of empathy and social abilities, the awareness of the consequences of one\\'s actions, and the learning of conflict resolution by non-violent means. Even the official quoted by Moore blames the welfare to work program, knowing full well that the drug issue is a red herring. Once again, your emphasis on the little boy as a thug confirms Moore\\'s (and Busch\\'s) assertion that people wanted to hang the child from the highest tree instead of looking at the real causes. \\nThat\\'s because while there is a so-called war on drugs, there is no war on poverty. Poverty is frequently portrayed as natural, and the poor in America are seen by conservatives as VCR-owners who are just too lazy to work. \\nIn reality, what Moore describes here is the most vivid example of what can only be called wage slavery I have ever seen, to the detriment of families. \\nIt is notable that the Wall Street Journal\\'s reaction to this segment of the film was even more dismissive than yours: It called Moore\\'s claim \"preposterous\". How could he even think about blaming poverty and forced labor programs for anything bad that happens? \\n8) Taliban and American aid. After the September 11 attacks, it was necessary for conservatives to somehow explain away the fact that the US government gave 245 million dollars to the new evildoers du jour. Never mind the fact that authors such as Robert Scheer warned of aiding the Taliban as early as in May 2001. Never mind that they did so not out of some humanitarian motivation, but because of the Taliban\\'s violent enforcement of the ban on opium poppies. Never mind that in a regime that is controlled by warlords, it does not matter who is authorized to distribute the aid -- the ruling regional warlords will seize control of it and use it to their own advantage. Never mind that this very argument has been used by hawks in opposition to sending humanitarian aid to Iraq\\'s Saddam Hussein. Never mind that the Taliban continued selling opium in spite of the deal. Never mind that this is all documented on Michael Moore\\'s website about the film. \\n9) Gun homicides. Statistics are Moore\\'s weakest point, and it is surprising that his critics don\\'t dwell on them longer. That\\'s because they know all too well that Moore is correct: The United States have a far greater homicide rate (both gun- and non-gun) than most other first world countries. His main mistake is that he does not use population corrected data, his second mistake is that he does not cite his sources (and, as you correctly point out, he probably uses different reporting methods for the different countries). A good comparison of international homicide rates can be found on the relatively neutral guncite.com website. \\nNot surprisingly, guncite, too, compares data from different years -- as I know from personal experience, it is quite difficult to do comparisons of crime statistics due to differences in reporting frequency and methodology. The gun homicide rates for the countries Moore mentioned, according to guncite, are: \\nJapan: 0.02 per 100,000 (1994)England/Wales: 0.11 per 100,000 (1997)Germany: 0.22 per 100,000 (1994)Australia: 0.44 per 100,000 (1994)United States: 3.72 per 100,000 (1999)\\nCritics fail to credit Moore with not making the same mistake that some gun control advocates make -- concluding that gun ownership \"leads\" to violence. In fact, Moore mentions several counter-examples, and more such counter-examples can indeed be cited. It is intuitively obvious that guns do not actually cause violence -- but it is equally intuitively obvious that they make the violence that is committed more deadly. It is the second intuition which gun rights groups like the NRA seek to obscure using fraudulent data by the likes of John \"Mary\" Lott. \\nThe gun control movement, on the other hand, distracts from the real causes of violence -- poverty, paranoia, the \"war on drugs\" and antisexuality. If these causes were addressed, gun ownership in the United States would not be a problem (but also unnecessary); just like it is in Switzerland. \\n10) Canada ammunition purchase. You write: \\nBowling shows Moore casually buying ammunition at an Ontario Walmart. He asks us to \"look at what I, a foreign citizen, was able to do at a local Canadian Wal-Mart.\" He buys several boxes of ammunition without a question being raised. \"That\\'s right. I could buy as much ammunition as I wanted, in Canada. Canadian officials have pointed out that the buy is faked or illegal. \\nOnce again, you fail to distinguish between regular film editing and \"faking\" (a word which \"Canadian officials\" have never used; for such a distortion, Moore would have been boiled alive by his critics). If Moore simply chose not to show how he revealed his identification to the salesperson, there is nothing fraudulent about that. He made no claims whatsoever in the film about the need to show or not show identification. His claim that it is possible to purchase ammunition in supermarkets is independent from that claim. \\n11) Heston\\'s allegedly implied racism. You conclude from Heston\\'s own words that Heston was somehow portrayed as racist. If anything, it is his own failure that he did not clarify what he meant with \"having a more mixed ethnicity\". Heston\\'s answers in the interview were evasive and unhelpful. While this can in part be explained with his age and mental condition, if he is unable to defend the interests of the NRA, he should not be their spokesman. In this case, Hanlon\\'s Razor can be applied to Heston -- he is probably not racist, but incompetent. Your accusations of inappropriate cutting are once again entirely unsupported -- in fact, it is quite clear from watching that particular scene that there is not a single cut from the point at which Moore asks Heston a second time for the cause of the higher violence in the States, and the point when he mentions the Kayla Rolland incident. If Heston makes himself look like a fool, that should hardly be blamed on Michael Moore. \\nConclusion \\nYou write: \"Bowling for Columbine is dishonest. It is fraudulent. To trash Heston, it even uses the audio/video editor to assemble a Heston speech that Heston did not give, and sequences images and carefully highlighted text to spin the viewer\\'s mind to a wrong conclusion.\" None of this is true. What is true is that Bowling for Columbine is a diamond in the small world of big screen documentaries, one that shines brightly and illuminates an often misunderstood aspect of American culture. It is not a flawless diamond -- the \"48 hours\" scene in particular suffers from bad editing, the statistics are suboptimal, and Heston gets a bit more bashing than he deserves. Other than towards the NRA, the movie tries hard to avoid simplistic conclusions, and comes up with some thoughtful answers. The most shameful part of the ongoing attacks against Moore is that these answers have been all but ignored by his critics. Had Moore wanted to make a propaganda film, he would have used other material: photos from America\\'s Emergency Rooms. \\nCertainly, Moore is one of the most talented filmmakers in the United States today, and his film fully deserved its Oscar. The shrill (and remarkably unsuccessful) Internet campaign to \"revoke\" his award seems to be motivated more by jealousy than by real concerns about the film\\'s accuracy. It is not only the highest grossing non-music documentary of all time, among the users of the largest Internet film database, IMDB, it is also the highest rated one. According to the LA Times, the documentary genre \"owes a huge debt to Michael Moore\" -- after Bowling\\'s success, films like \"Spellbound\" and \"Capturing the Friedmans\" were taken seriously and shown in many more theatres than otherwise likely. \\nBut perhaps the campaign against Moore is really motivated by another reason. His next project has the working title \"Fahrenheit 9/11: The temperature at which freedom burns\", and he intends to launch it shortly before the next US presidential election. It is unlikely, however, that the unfair attacks against him will have much of an impact. After all, the same kind of PR blitz was started against the previous record-holding documentary: \"Roger & Me\" by Michael Moore. \\nYours sincerely, \\nErik M\\xc3\\xb6ller \\nThis text is in the public domain. \\n\\n\\n\\n'\n",
      "Nie ma rozwiązania dla klucza długości 3\n"
     ]
    }
   ],
   "source": [
    "with open('crypto.rc4', 'rb') as file:\n",
    "    data = file.read()\n",
    "    \n",
    "    keyAlphabet = range(ord('a'), ord('z') + 1)\n",
    "    bruteforceARC4(data, 3, keyAlphabet)"
   ]
  }
 ],
 "metadata": {
  "kernelspec": {
   "display_name": "Python 3",
   "language": "python",
   "name": "python3"
  },
  "language_info": {
   "codemirror_mode": {
    "name": "ipython",
    "version": 3
   },
   "file_extension": ".py",
   "mimetype": "text/x-python",
   "name": "python",
   "nbconvert_exporter": "python",
   "pygments_lexer": "ipython3",
   "version": "3.7.3"
  }
 },
 "nbformat": 4,
 "nbformat_minor": 2
}
